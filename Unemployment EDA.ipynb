{
 "cells": [
  {
   "cell_type": "markdown",
   "metadata": {},
   "source": [
    "# Exploring Unemployment Data with Covid-19\n",
    "by Nico Purnomo 28/01/2020\n",
    "\n",
    "This little notebook is a product of my interest in what Covid had done to the unemployment rates accross different countries. In this notebook, I will focus on looking at data and trying to use different visualisations tools such as plotly and seaborn. I will also provide simple insights and ideas.\n",
    "\n",
    "## Unemployment, total (% of total labor force) (modeled ILO estimate)\n",
    "\n",
    "Unemployment refers to the share of the labor force that is without work but available for and seeking employment.\n",
    "\n",
    "### Data from International Labour Organization, ILOSTAT database. Data retrieved in September 20, 2020.\n",
    "https://data.worldbank.org/indicator/SL.UEM.TOTL.ZS"
   ]
  },
  {
   "cell_type": "code",
   "execution_count": 38,
   "metadata": {},
   "outputs": [
    {
     "data": {
      "text/html": [
       "        <script type=\"text/javascript\">\n",
       "        window.PlotlyConfig = {MathJaxConfig: 'local'};\n",
       "        if (window.MathJax) {MathJax.Hub.Config({SVG: {font: \"STIX-Web\"}});}\n",
       "        if (typeof require !== 'undefined') {\n",
       "        require.undef(\"plotly\");\n",
       "        requirejs.config({\n",
       "            paths: {\n",
       "                'plotly': ['https://cdn.plot.ly/plotly-latest.min']\n",
       "            }\n",
       "        });\n",
       "        require(['plotly'], function(Plotly) {\n",
       "            window._Plotly = Plotly;\n",
       "        });\n",
       "        }\n",
       "        </script>\n",
       "        "
      ]
     },
     "metadata": {},
     "output_type": "display_data"
    }
   ],
   "source": [
    "# Import the relevant libraries\n",
    "import numpy as np\n",
    "import pandas as pd\n",
    "import matplotlib.pyplot as plt\n",
    "%matplotlib inline  \n",
    "import plotly.offline as py\n",
    "py.init_notebook_mode(connected=True)\n",
    "import plotly.graph_objs as go\n",
    "import plotly.tools as tls\n",
    "import seaborn as sns\n",
    "import warnings\n",
    "warnings.filterwarnings('ignore')"
   ]
  },
  {
   "cell_type": "code",
   "execution_count": 39,
   "metadata": {},
   "outputs": [
    {
     "data": {
      "text/html": [
       "<div>\n",
       "<style scoped>\n",
       "    .dataframe tbody tr th:only-of-type {\n",
       "        vertical-align: middle;\n",
       "    }\n",
       "\n",
       "    .dataframe tbody tr th {\n",
       "        vertical-align: top;\n",
       "    }\n",
       "\n",
       "    .dataframe thead th {\n",
       "        text-align: right;\n",
       "    }\n",
       "</style>\n",
       "<table border=\"1\" class=\"dataframe\">\n",
       "  <thead>\n",
       "    <tr style=\"text-align: right;\">\n",
       "      <th></th>\n",
       "      <th>Country Name</th>\n",
       "      <th>Country Code</th>\n",
       "      <th>Indicator Name</th>\n",
       "      <th>Indicator Code</th>\n",
       "      <th>1960</th>\n",
       "      <th>1961</th>\n",
       "      <th>1962</th>\n",
       "      <th>1963</th>\n",
       "      <th>1964</th>\n",
       "      <th>1965</th>\n",
       "      <th>...</th>\n",
       "      <th>2011</th>\n",
       "      <th>2012</th>\n",
       "      <th>2013</th>\n",
       "      <th>2014</th>\n",
       "      <th>2015</th>\n",
       "      <th>2016</th>\n",
       "      <th>2017</th>\n",
       "      <th>2018</th>\n",
       "      <th>2019</th>\n",
       "      <th>2020</th>\n",
       "    </tr>\n",
       "  </thead>\n",
       "  <tbody>\n",
       "    <tr>\n",
       "      <th>0</th>\n",
       "      <td>Aruba</td>\n",
       "      <td>ABW</td>\n",
       "      <td>Unemployment, total (% of total labor force) (...</td>\n",
       "      <td>SL.UEM.TOTL.ZS</td>\n",
       "      <td>NaN</td>\n",
       "      <td>NaN</td>\n",
       "      <td>NaN</td>\n",
       "      <td>NaN</td>\n",
       "      <td>NaN</td>\n",
       "      <td>NaN</td>\n",
       "      <td>...</td>\n",
       "      <td>NaN</td>\n",
       "      <td>NaN</td>\n",
       "      <td>NaN</td>\n",
       "      <td>NaN</td>\n",
       "      <td>NaN</td>\n",
       "      <td>NaN</td>\n",
       "      <td>NaN</td>\n",
       "      <td>NaN</td>\n",
       "      <td>NaN</td>\n",
       "      <td>NaN</td>\n",
       "    </tr>\n",
       "    <tr>\n",
       "      <th>1</th>\n",
       "      <td>Afghanistan</td>\n",
       "      <td>AFG</td>\n",
       "      <td>Unemployment, total (% of total labor force) (...</td>\n",
       "      <td>SL.UEM.TOTL.ZS</td>\n",
       "      <td>NaN</td>\n",
       "      <td>NaN</td>\n",
       "      <td>NaN</td>\n",
       "      <td>NaN</td>\n",
       "      <td>NaN</td>\n",
       "      <td>NaN</td>\n",
       "      <td>...</td>\n",
       "      <td>11.488</td>\n",
       "      <td>11.508</td>\n",
       "      <td>11.534</td>\n",
       "      <td>11.448</td>\n",
       "      <td>11.387</td>\n",
       "      <td>11.313</td>\n",
       "      <td>11.184</td>\n",
       "      <td>11.057</td>\n",
       "      <td>11.118</td>\n",
       "      <td>11.164</td>\n",
       "    </tr>\n",
       "    <tr>\n",
       "      <th>2</th>\n",
       "      <td>Angola</td>\n",
       "      <td>AGO</td>\n",
       "      <td>Unemployment, total (% of total labor force) (...</td>\n",
       "      <td>SL.UEM.TOTL.ZS</td>\n",
       "      <td>NaN</td>\n",
       "      <td>NaN</td>\n",
       "      <td>NaN</td>\n",
       "      <td>NaN</td>\n",
       "      <td>NaN</td>\n",
       "      <td>NaN</td>\n",
       "      <td>...</td>\n",
       "      <td>7.362</td>\n",
       "      <td>7.379</td>\n",
       "      <td>7.400</td>\n",
       "      <td>7.331</td>\n",
       "      <td>7.282</td>\n",
       "      <td>7.223</td>\n",
       "      <td>7.119</td>\n",
       "      <td>7.019</td>\n",
       "      <td>6.886</td>\n",
       "      <td>6.774</td>\n",
       "    </tr>\n",
       "    <tr>\n",
       "      <th>3</th>\n",
       "      <td>Albania</td>\n",
       "      <td>ALB</td>\n",
       "      <td>Unemployment, total (% of total labor force) (...</td>\n",
       "      <td>SL.UEM.TOTL.ZS</td>\n",
       "      <td>NaN</td>\n",
       "      <td>NaN</td>\n",
       "      <td>NaN</td>\n",
       "      <td>NaN</td>\n",
       "      <td>NaN</td>\n",
       "      <td>NaN</td>\n",
       "      <td>...</td>\n",
       "      <td>13.481</td>\n",
       "      <td>13.376</td>\n",
       "      <td>15.866</td>\n",
       "      <td>17.490</td>\n",
       "      <td>17.080</td>\n",
       "      <td>15.220</td>\n",
       "      <td>13.750</td>\n",
       "      <td>12.340</td>\n",
       "      <td>12.331</td>\n",
       "      <td>12.813</td>\n",
       "    </tr>\n",
       "    <tr>\n",
       "      <th>4</th>\n",
       "      <td>Andorra</td>\n",
       "      <td>AND</td>\n",
       "      <td>Unemployment, total (% of total labor force) (...</td>\n",
       "      <td>SL.UEM.TOTL.ZS</td>\n",
       "      <td>NaN</td>\n",
       "      <td>NaN</td>\n",
       "      <td>NaN</td>\n",
       "      <td>NaN</td>\n",
       "      <td>NaN</td>\n",
       "      <td>NaN</td>\n",
       "      <td>...</td>\n",
       "      <td>NaN</td>\n",
       "      <td>NaN</td>\n",
       "      <td>NaN</td>\n",
       "      <td>NaN</td>\n",
       "      <td>NaN</td>\n",
       "      <td>NaN</td>\n",
       "      <td>NaN</td>\n",
       "      <td>NaN</td>\n",
       "      <td>NaN</td>\n",
       "      <td>NaN</td>\n",
       "    </tr>\n",
       "  </tbody>\n",
       "</table>\n",
       "<p>5 rows × 65 columns</p>\n",
       "</div>"
      ],
      "text/plain": [
       "  Country Name Country Code  \\\n",
       "0        Aruba          ABW   \n",
       "1  Afghanistan          AFG   \n",
       "2       Angola          AGO   \n",
       "3      Albania          ALB   \n",
       "4      Andorra          AND   \n",
       "\n",
       "                                      Indicator Name  Indicator Code  1960  \\\n",
       "0  Unemployment, total (% of total labor force) (...  SL.UEM.TOTL.ZS   NaN   \n",
       "1  Unemployment, total (% of total labor force) (...  SL.UEM.TOTL.ZS   NaN   \n",
       "2  Unemployment, total (% of total labor force) (...  SL.UEM.TOTL.ZS   NaN   \n",
       "3  Unemployment, total (% of total labor force) (...  SL.UEM.TOTL.ZS   NaN   \n",
       "4  Unemployment, total (% of total labor force) (...  SL.UEM.TOTL.ZS   NaN   \n",
       "\n",
       "   1961  1962  1963  1964  1965  ...    2011    2012    2013    2014    2015  \\\n",
       "0   NaN   NaN   NaN   NaN   NaN  ...     NaN     NaN     NaN     NaN     NaN   \n",
       "1   NaN   NaN   NaN   NaN   NaN  ...  11.488  11.508  11.534  11.448  11.387   \n",
       "2   NaN   NaN   NaN   NaN   NaN  ...   7.362   7.379   7.400   7.331   7.282   \n",
       "3   NaN   NaN   NaN   NaN   NaN  ...  13.481  13.376  15.866  17.490  17.080   \n",
       "4   NaN   NaN   NaN   NaN   NaN  ...     NaN     NaN     NaN     NaN     NaN   \n",
       "\n",
       "     2016    2017    2018    2019    2020  \n",
       "0     NaN     NaN     NaN     NaN     NaN  \n",
       "1  11.313  11.184  11.057  11.118  11.164  \n",
       "2   7.223   7.119   7.019   6.886   6.774  \n",
       "3  15.220  13.750  12.340  12.331  12.813  \n",
       "4     NaN     NaN     NaN     NaN     NaN  \n",
       "\n",
       "[5 rows x 65 columns]"
      ]
     },
     "execution_count": 39,
     "metadata": {},
     "output_type": "execute_result"
    }
   ],
   "source": [
    "# Data from the World Bank https://data.worldbank.org/indicator/SL.UEM.TOTL.ZS\n",
    "df = pd.read_csv('CountriesUnemployment.csv')\n",
    "\n",
    "# Look at data\n",
    "df.head()"
   ]
  },
  {
   "cell_type": "code",
   "execution_count": 41,
   "metadata": {},
   "outputs": [
    {
     "data": {
      "text/plain": [
       "(264, 65)"
      ]
     },
     "execution_count": 41,
     "metadata": {},
     "output_type": "execute_result"
    }
   ],
   "source": [
    "# Look at the dimension of df\n",
    "df.shape\n"
   ]
  },
  {
   "cell_type": "code",
   "execution_count": 43,
   "metadata": {},
   "outputs": [
    {
     "name": "stdout",
     "output_type": "stream",
     "text": [
      "(264, 7)\n"
     ]
    }
   ],
   "source": [
    "# I have decided to just explore the last 5 years\n",
    "df = df[['Country Name', 'Country Code', '2016', '2017', '2018', '2019', '2020']]\n",
    "df.head()\n",
    "print(df.shape)\n"
   ]
  },
  {
   "cell_type": "code",
   "execution_count": 44,
   "metadata": {},
   "outputs": [
    {
     "name": "stdout",
     "output_type": "stream",
     "text": [
      "(233, 7)\n"
     ]
    }
   ],
   "source": [
    "# Drop rows without complete information, this is to make it cleaner. \n",
    "df = df.dropna(0)\n",
    "print(df.shape)"
   ]
  },
  {
   "cell_type": "code",
   "execution_count": 46,
   "metadata": {},
   "outputs": [
    {
     "data": {
      "text/html": [
       "<div>\n",
       "<style scoped>\n",
       "    .dataframe tbody tr th:only-of-type {\n",
       "        vertical-align: middle;\n",
       "    }\n",
       "\n",
       "    .dataframe tbody tr th {\n",
       "        vertical-align: top;\n",
       "    }\n",
       "\n",
       "    .dataframe thead th {\n",
       "        text-align: right;\n",
       "    }\n",
       "</style>\n",
       "<table border=\"1\" class=\"dataframe\">\n",
       "  <thead>\n",
       "    <tr style=\"text-align: right;\">\n",
       "      <th></th>\n",
       "      <th>2016</th>\n",
       "      <th>2017</th>\n",
       "      <th>2018</th>\n",
       "      <th>2019</th>\n",
       "      <th>2020</th>\n",
       "    </tr>\n",
       "  </thead>\n",
       "  <tbody>\n",
       "    <tr>\n",
       "      <th>count</th>\n",
       "      <td>233.000000</td>\n",
       "      <td>233.000000</td>\n",
       "      <td>233.000000</td>\n",
       "      <td>233.000000</td>\n",
       "      <td>233.000000</td>\n",
       "    </tr>\n",
       "    <tr>\n",
       "      <th>mean</th>\n",
       "      <td>7.526826</td>\n",
       "      <td>7.241588</td>\n",
       "      <td>6.953769</td>\n",
       "      <td>6.922998</td>\n",
       "      <td>6.934587</td>\n",
       "    </tr>\n",
       "    <tr>\n",
       "      <th>std</th>\n",
       "      <td>5.208816</td>\n",
       "      <td>5.030343</td>\n",
       "      <td>4.898098</td>\n",
       "      <td>4.864850</td>\n",
       "      <td>4.829946</td>\n",
       "    </tr>\n",
       "    <tr>\n",
       "      <th>min</th>\n",
       "      <td>0.150000</td>\n",
       "      <td>0.140000</td>\n",
       "      <td>0.110000</td>\n",
       "      <td>0.091000</td>\n",
       "      <td>0.082000</td>\n",
       "    </tr>\n",
       "    <tr>\n",
       "      <th>25%</th>\n",
       "      <td>4.242000</td>\n",
       "      <td>4.098000</td>\n",
       "      <td>3.852769</td>\n",
       "      <td>3.889744</td>\n",
       "      <td>3.897888</td>\n",
       "    </tr>\n",
       "    <tr>\n",
       "      <th>50%</th>\n",
       "      <td>6.140834</td>\n",
       "      <td>5.760000</td>\n",
       "      <td>5.520643</td>\n",
       "      <td>5.527787</td>\n",
       "      <td>5.552639</td>\n",
       "    </tr>\n",
       "    <tr>\n",
       "      <th>75%</th>\n",
       "      <td>9.720000</td>\n",
       "      <td>9.316000</td>\n",
       "      <td>9.027000</td>\n",
       "      <td>8.801000</td>\n",
       "      <td>8.934000</td>\n",
       "    </tr>\n",
       "    <tr>\n",
       "      <th>max</th>\n",
       "      <td>26.551001</td>\n",
       "      <td>27.070999</td>\n",
       "      <td>26.920000</td>\n",
       "      <td>28.181000</td>\n",
       "      <td>28.476999</td>\n",
       "    </tr>\n",
       "  </tbody>\n",
       "</table>\n",
       "</div>"
      ],
      "text/plain": [
       "             2016        2017        2018        2019        2020\n",
       "count  233.000000  233.000000  233.000000  233.000000  233.000000\n",
       "mean     7.526826    7.241588    6.953769    6.922998    6.934587\n",
       "std      5.208816    5.030343    4.898098    4.864850    4.829946\n",
       "min      0.150000    0.140000    0.110000    0.091000    0.082000\n",
       "25%      4.242000    4.098000    3.852769    3.889744    3.897888\n",
       "50%      6.140834    5.760000    5.520643    5.527787    5.552639\n",
       "75%      9.720000    9.316000    9.027000    8.801000    8.934000\n",
       "max     26.551001   27.070999   26.920000   28.181000   28.476999"
      ]
     },
     "execution_count": 46,
     "metadata": {},
     "output_type": "execute_result"
    }
   ],
   "source": [
    "# Save country names\n",
    "countries = df['Country Name'].unique()\n",
    "df.describe()"
   ]
  },
  {
   "cell_type": "code",
   "execution_count": 53,
   "metadata": {},
   "outputs": [
    {
     "data": {
      "text/plain": [
       "2016    7.526826\n",
       "2017    7.241588\n",
       "2018    6.953769\n",
       "2019    6.922998\n",
       "2020    6.934587\n",
       "dtype: float64"
      ]
     },
     "execution_count": 53,
     "metadata": {},
     "output_type": "execute_result"
    }
   ],
   "source": [
    "df.columns.values[2:]\n",
    "df.mean()"
   ]
  },
  {
   "cell_type": "markdown",
   "metadata": {},
   "source": [
    "## Insights\n",
    "We can see that the mean of unemployment rates accross countries has been decreasing in trend until 2020, when the coronavirus made its appearance earlier in the year. The increase of the mean rate is marginal, but it is close to where we were in 2018. Unemployment rates is one measure to look at the country's standard of living.\n",
    "\n",
    "To have a better look, I have created a simple line plot below."
   ]
  },
  {
   "cell_type": "code",
   "execution_count": 72,
   "metadata": {},
   "outputs": [
    {
     "data": {
      "text/plain": [
       "Text(0.5, 0, 'Year')"
      ]
     },
     "execution_count": 72,
     "metadata": {},
     "output_type": "execute_result"
    },
    {
     "data": {
      "image/png": "[encoded data removed]",
      "text/plain": [
       "<Figure size 432x288 with 1 Axes>"
      ]
     },
     "metadata": {
      "needs_background": "light"
     },
     "output_type": "display_data"
    }
   ],
   "source": [
    "years = df.columns.values[2:]\n",
    "means = df.mean()\n",
    "plt.plot(years, means)\n",
    "axes = plt.gca()\n",
    "axes.set_ylim([6.9,7.6])\n",
    "plt.suptitle('Average Unemployment Rates 2016-2020')\n",
    "plt.ylabel('Mean Unemployment Rates')\n",
    "plt.xlabel('Year')\n"
   ]
  },
  {
   "cell_type": "code",
   "execution_count": 73,
   "metadata": {},
   "outputs": [
    {
     "data": {
      "application/vnd.plotly.v1+json": {
       "config": {
        "linkText": "Export to plot.ly",
        "plotlyServerURL": "https://plot.ly",
        "showLink": false
       },
       "data": [
        {
         "autocolorscale": false,
         "colorbar": {
          "autotick": true,
          "tickprefix": "",
          "title": "Unemployment\nRate"
         },
         "colorscale": [
          [
           0,
           "rgb(102,194,165)"
          ],
          [
           0.05,
           "rgb(102,194,165)"
          ],
          [
           0.15,
           "rgb(171,221,164)"
          ],
          [
           0.2,
           "rgb(230,245,152)"
          ],
          [
           0.25,
           "rgb(255,255,191)"
          ],
          [
           0.35,
           "rgb(254,224,139)"
          ],
          [
           0.45,
           "rgb(253,174,97)"
          ],
          [
           0.55,
           "rgb(213,62,79)"
          ],
          [
           1,
           "rgb(158,1,66)"
          ]
         ],
         "locationmode": "country names",
         "locations": [
          "Afghanistan",
          "Angola",
          "Albania",
          "Arab World",
          "United Arab Emirates",
          "Argentina",
          "Armenia",
          "Australia",
          "Austria",
          "Azerbaijan",
          "Burundi",
          "Belgium",
          "Benin",
          "Burkina Faso",
          "Bangladesh",
          "Bulgaria",
          "Bahrain",
          "Bahamas, The",
          "Bosnia and Herzegovina",
          "Belarus",
          "Belize",
          "Bolivia",
          "Brazil",
          "Barbados",
          "Brunei Darussalam",
          "Bhutan",
          "Botswana",
          "Central African Republic",
          "Canada",
          "Central Europe and the Baltics",
          "Switzerland",
          "Channel Islands",
          "Chile",
          "China",
          "Cote d'Ivoire",
          "Cameroon",
          "Congo, Dem. Rep.",
          "Congo, Rep.",
          "Colombia",
          "Comoros",
          "Cabo Verde",
          "Costa Rica",
          "Caribbean small states",
          "Cuba",
          "Cyprus",
          "Czech Republic",
          "Germany",
          "Djibouti",
          "Denmark",
          "Dominican Republic",
          "Algeria",
          "East Asia & Pacific (excluding high income)",
          "Early-demographic dividend",
          "East Asia & Pacific",
          "Europe & Central Asia (excluding high income)",
          "Europe & Central Asia",
          "Ecuador",
          "Egypt, Arab Rep.",
          "Euro area",
          "Eritrea",
          "Spain",
          "Estonia",
          "Ethiopia",
          "European Union",
          "Fragile and conflict affected situations",
          "Finland",
          "Fiji",
          "France",
          "Gabon",
          "United Kingdom",
          "Georgia",
          "Ghana",
          "Guinea",
          "Gambia, The",
          "Guinea-Bissau",
          "Equatorial Guinea",
          "Greece",
          "Guatemala",
          "Guam",
          "Guyana",
          "High income",
          "Hong Kong SAR, China",
          "Honduras",
          "Heavily indebted poor countries (HIPC)",
          "Croatia",
          "Haiti",
          "Hungary",
          "IBRD only",
          "IDA & IBRD total",
          "IDA total",
          "IDA blend",
          "Indonesia",
          "IDA only",
          "India",
          "Ireland",
          "Iran, Islamic Rep.",
          "Iraq",
          "Iceland",
          "Israel",
          "Italy",
          "Jamaica",
          "Jordan",
          "Japan",
          "Kazakhstan",
          "Kenya",
          "Kyrgyz Republic",
          "Cambodia",
          "Korea, Rep.",
          "Kuwait",
          "Latin America & Caribbean (excluding high income)",
          "Lao PDR",
          "Lebanon",
          "Liberia",
          "Libya",
          "St. Lucia",
          "Latin America & Caribbean",
          "Least developed countries: UN classification",
          "Low income",
          "Sri Lanka",
          "Lower middle income",
          "Low & middle income",
          "Lesotho",
          "Late-demographic dividend",
          "Lithuania",
          "Luxembourg",
          "Latvia",
          "Macao SAR, China",
          "Morocco",
          "Moldova",
          "Madagascar",
          "Maldives",
          "Middle East & North Africa",
          "Mexico",
          "Middle income",
          "North Macedonia",
          "Mali",
          "Malta",
          "Myanmar",
          "Middle East & North Africa (excluding high income)",
          "Montenegro",
          "Mongolia",
          "Mozambique",
          "Mauritania",
          "Mauritius",
          "Malawi",
          "Malaysia",
          "North America",
          "Namibia",
          "New Caledonia",
          "Niger",
          "Nigeria",
          "Nicaragua",
          "Netherlands",
          "Norway",
          "Nepal",
          "New Zealand",
          "OECD members",
          "Oman",
          "Other small states",
          "Pakistan",
          "Panama",
          "Peru",
          "Philippines",
          "Papua New Guinea",
          "Poland",
          "Pre-demographic dividend",
          "Puerto Rico",
          "Korea, Dem. People’s Rep.",
          "Portugal",
          "Paraguay",
          "West Bank and Gaza",
          "Pacific island small states",
          "Post-demographic dividend",
          "French Polynesia",
          "Qatar",
          "Romania",
          "Russian Federation",
          "Rwanda",
          "South Asia",
          "Saudi Arabia",
          "Sudan",
          "Senegal",
          "Singapore",
          "Solomon Islands",
          "Sierra Leone",
          "El Salvador",
          "Somalia",
          "Serbia",
          "Sub-Saharan Africa (excluding high income)",
          "South Sudan",
          "Sub-Saharan Africa",
          "Small states",
          "Sao Tome and Principe",
          "Suriname",
          "Slovak Republic",
          "Slovenia",
          "Sweden",
          "Eswatini",
          "Syrian Arab Republic",
          "Chad",
          "East Asia & Pacific (IDA & IBRD countries)",
          "Europe & Central Asia (IDA & IBRD countries)",
          "Togo",
          "Thailand",
          "Tajikistan",
          "Turkmenistan",
          "Latin America & the Caribbean (IDA & IBRD countries)",
          "Timor-Leste",
          "Middle East & North Africa (IDA & IBRD countries)",
          "Tonga",
          "South Asia (IDA & IBRD)",
          "Sub-Saharan Africa (IDA & IBRD countries)",
          "Trinidad and Tobago",
          "Tunisia",
          "Turkey",
          "Tanzania",
          "Uganda",
          "Ukraine",
          "Upper middle income",
          "Uruguay",
          "United States",
          "Uzbekistan",
          "St. Vincent and the Grenadines",
          "Venezuela, RB",
          "Virgin Islands (U.S.)",
          "Vietnam",
          "Vanuatu",
          "World",
          "Samoa",
          "Yemen, Rep.",
          "South Africa",
          "Zambia",
          "Zimbabwe"
         ],
         "marker": {
          "line": {
           "color": "rgb(250,250,225)",
           "width": 0.5
          }
         },
         "showscale": true,
         "text": [
          "Afghanistan",
          "Angola",
          "Albania",
          "Arab World",
          "United Arab Emirates",
          "Argentina",
          "Armenia",
          "Australia",
          "Austria",
          "Azerbaijan",
          "Burundi",
          "Belgium",
          "Benin",
          "Burkina Faso",
          "Bangladesh",
          "Bulgaria",
          "Bahrain",
          "Bahamas, The",
          "Bosnia and Herzegovina",
          "Belarus",
          "Belize",
          "Bolivia",
          "Brazil",
          "Barbados",
          "Brunei Darussalam",
          "Bhutan",
          "Botswana",
          "Central African Republic",
          "Canada",
          "Central Europe and the Baltics",
          "Switzerland",
          "Channel Islands",
          "Chile",
          "China",
          "Cote d'Ivoire",
          "Cameroon",
          "Congo, Dem. Rep.",
          "Congo, Rep.",
          "Colombia",
          "Comoros",
          "Cabo Verde",
          "Costa Rica",
          "Caribbean small states",
          "Cuba",
          "Cyprus",
          "Czech Republic",
          "Germany",
          "Djibouti",
          "Denmark",
          "Dominican Republic",
          "Algeria",
          "East Asia & Pacific (excluding high income)",
          "Early-demographic dividend",
          "East Asia & Pacific",
          "Europe & Central Asia (excluding high income)",
          "Europe & Central Asia",
          "Ecuador",
          "Egypt, Arab Rep.",
          "Euro area",
          "Eritrea",
          "Spain",
          "Estonia",
          "Ethiopia",
          "European Union",
          "Fragile and conflict affected situations",
          "Finland",
          "Fiji",
          "France",
          "Gabon",
          "United Kingdom",
          "Georgia",
          "Ghana",
          "Guinea",
          "Gambia, The",
          "Guinea-Bissau",
          "Equatorial Guinea",
          "Greece",
          "Guatemala",
          "Guam",
          "Guyana",
          "High income",
          "Hong Kong SAR, China",
          "Honduras",
          "Heavily indebted poor countries (HIPC)",
          "Croatia",
          "Haiti",
          "Hungary",
          "IBRD only",
          "IDA & IBRD total",
          "IDA total",
          "IDA blend",
          "Indonesia",
          "IDA only",
          "India",
          "Ireland",
          "Iran, Islamic Rep.",
          "Iraq",
          "Iceland",
          "Israel",
          "Italy",
          "Jamaica",
          "Jordan",
          "Japan",
          "Kazakhstan",
          "Kenya",
          "Kyrgyz Republic",
          "Cambodia",
          "Korea, Rep.",
          "Kuwait",
          "Latin America & Caribbean (excluding high income)",
          "Lao PDR",
          "Lebanon",
          "Liberia",
          "Libya",
          "St. Lucia",
          "Latin America & Caribbean",
          "Least developed countries: UN classification",
          "Low income",
          "Sri Lanka",
          "Lower middle income",
          "Low & middle income",
          "Lesotho",
          "Late-demographic dividend",
          "Lithuania",
          "Luxembourg",
          "Latvia",
          "Macao SAR, China",
          "Morocco",
          "Moldova",
          "Madagascar",
          "Maldives",
          "Middle East & North Africa",
          "Mexico",
          "Middle income",
          "North Macedonia",
          "Mali",
          "Malta",
          "Myanmar",
          "Middle East & North Africa (excluding high income)",
          "Montenegro",
          "Mongolia",
          "Mozambique",
          "Mauritania",
          "Mauritius",
          "Malawi",
          "Malaysia",
          "North America",
          "Namibia",
          "New Caledonia",
          "Niger",
          "Nigeria",
          "Nicaragua",
          "Netherlands",
          "Norway",
          "Nepal",
          "New Zealand",
          "OECD members",
          "Oman",
          "Other small states",
          "Pakistan",
          "Panama",
          "Peru",
          "Philippines",
          "Papua New Guinea",
          "Poland",
          "Pre-demographic dividend",
          "Puerto Rico",
          "Korea, Dem. People’s Rep.",
          "Portugal",
          "Paraguay",
          "West Bank and Gaza",
          "Pacific island small states",
          "Post-demographic dividend",
          "French Polynesia",
          "Qatar",
          "Romania",
          "Russian Federation",
          "Rwanda",
          "South Asia",
          "Saudi Arabia",
          "Sudan",
          "Senegal",
          "Singapore",
          "Solomon Islands",
          "Sierra Leone",
          "El Salvador",
          "Somalia",
          "Serbia",
          "Sub-Saharan Africa (excluding high income)",
          "South Sudan",
          "Sub-Saharan Africa",
          "Small states",
          "Sao Tome and Principe",
          "Suriname",
          "Slovak Republic",
          "Slovenia",
          "Sweden",
          "Eswatini",
          "Syrian Arab Republic",
          "Chad",
          "East Asia & Pacific (IDA & IBRD countries)",
          "Europe & Central Asia (IDA & IBRD countries)",
          "Togo",
          "Thailand",
          "Tajikistan",
          "Turkmenistan",
          "Latin America & the Caribbean (IDA & IBRD countries)",
          "Timor-Leste",
          "Middle East & North Africa (IDA & IBRD countries)",
          "Tonga",
          "South Asia (IDA & IBRD)",
          "Sub-Saharan Africa (IDA & IBRD countries)",
          "Trinidad and Tobago",
          "Tunisia",
          "Turkey",
          "Tanzania",
          "Uganda",
          "Ukraine",
          "Upper middle income",
          "Uruguay",
          "United States",
          "Uzbekistan",
          "St. Vincent and the Grenadines",
          "Venezuela, RB",
          "Virgin Islands (U.S.)",
          "Vietnam",
          "Vanuatu",
          "World",
          "Samoa",
          "Yemen, Rep.",
          "South Africa",
          "Zambia",
          "Zimbabwe"
         ],
         "type": "choropleth",
         "z": [
          11.11800003,
          6.886000156000001,
          12.33100033,
          10.33694622,
          2.34800005,
          9.788999557,
          16.98999977,
          5.2680001260000004,
          4.673999786,
          5.508999825,
          1.4270000459999999,
          5.589000225,
          2.2320001130000002,
          6.263999939,
          4.190000057,
          4.340000153,
          0.713999987,
          10.35999966,
          18.42499924,
          4.59499979,
          6.413000107,
          3.497999907,
          12.08300018,
          10.33100033,
          9.116999626,
          2.3420000080000003,
          18.19300079,
          3.680000067,
          5.56400013,
          3.870378192,
          4.5809998510000005,
          7.486999989,
          7.090000152999999,
          4.320000172,
          3.316999912,
          3.3800001139999996,
          4.236000061,
          9.472000122,
          9.706999779,
          4.335999966,
          12.2489996,
          11.85400009,
          8.011520389,
          1.638000011,
          7.274000168,
          1.9329999690000002,
          3.042999983,
          10.29500008,
          4.913000107,
          5.84499979,
          11.70400047,
          3.8956813510000003,
          5.816613529,
          3.830287611,
          7.491865217000001,
          6.763186376,
          3.967999935,
          10.76000023,
          7.496169932999999,
          5.144000053,
          13.95899963,
          5.114999771,
          2.08100009,
          6.666848568,
          6.9649992439999995,
          6.59499979,
          4.100999832,
          8.427000046,
          20.00399971,
          3.851000071,
          14.39799976,
          4.3309998510000005,
          4.296000004,
          9.055999756,
          2.46600008,
          6.433000087999999,
          17.23800087,
          2.459000111,
          5.31099987,
          11.85200024,
          4.793254837,
          3.628999949,
          5.386000156000001,
          4.447173146,
          6.934999942999999,
          13.78100014,
          3.398999929,
          5.770164567999999,
          5.5302332210000005,
          4.711286128,
          5.4583945389999995,
          4.686999798,
          4.382339958,
          5.355000018999999,
          4.927999973,
          11.38199997,
          12.82199955,
          2.8420000080000003,
          3.8610000610000004,
          9.887000084,
          8.001999855,
          14.71500015,
          2.290999889,
          4.590000153,
          2.64199996,
          6.329999924,
          0.6769999859999999,
          4.1479997630000005,
          2.1819999219999997,
          8.134316793,
          0.625999987,
          6.229000092000001,
          2.8139998910000004,
          18.56299973,
          20.70599937,
          8.069178678,
          4.348260905,
          4.889683791,
          4.197999954,
          5.134931187,
          5.527787008,
          23.40500069,
          5.06480201,
          6.352000237,
          5.362999916000001,
          6.519999981000001,
          2.236999989,
          9.019000053,
          5.47300005,
          1.758000016,
          6.138000011,
          9.825076901000001,
          3.424999952,
          5.592531052999999,
          17.75900078,
          7.223999977,
          3.47300005,
          1.5770000219999998,
          11.52503546,
          14.88300037,
          6.011000156000001,
          3.2409999369999998,
          9.548000336,
          6.673999786,
          5.652999877999999,
          3.323999882,
          3.889743746,
          20.27300072,
          12.80000019,
          0.474999994,
          8.095999718,
          6.836999893,
          3.196000099,
          3.3459999560000004,
          1.406999946,
          4.068999767,
          5.356232185,
          2.671000004,
          9.159979502999999,
          4.453000069,
          3.90199995,
          3.3099999430000002,
          2.150000095,
          2.459000111,
          3.473999977,
          5.6934621,
          8.187000275,
          2.74000001,
          6.334000111,
          4.809000015,
          26.16900063,
          2.970332224,
          4.999670912,
          12.09599972,
          0.09099999800000001,
          3.976000071,
          4.585000038,
          1.0299999709999998,
          5.111422752,
          5.927000046,
          16.53499985,
          6.604000092000001,
          4.109000206,
          0.575999975,
          4.427999973,
          4.110000134,
          11.35099983,
          12.68599987,
          6.186109627,
          12.24400043,
          6.186806795,
          8.645776074,
          13.36900043,
          7.334000111,
          5.56099987,
          4.195000172,
          6.475999832,
          22.08300018,
          8.369999886,
          1.8910000319999998,
          3.91277164,
          6.994651235,
          2.038000107,
          0.754000008,
          11.0170002,
          3.913000107,
          8.172789853,
          4.547999859,
          11.36794496,
          1.116999984,
          5.111422752,
          6.186806795,
          2.6860001089999996,
          16.02199936,
          13.48999977,
          1.980000019,
          1.843000054,
          8.881999968999999,
          5.94048844,
          8.730999947,
          3.6819999219999997,
          5.916999817000001,
          18.88100052,
          8.800999641,
          8.661999702000001,
          2.013000011,
          4.385000229,
          5.39506305,
          8.359000206000001,
          12.90999985,
          28.18099976,
          11.42500019,
          4.953999996
         ]
        }
       ],
       "layout": {
        "geo": {
         "lataxis": {
          "gridcolor": "rgb(102, 102, 102)",
          "showgrid": false
         },
         "lonaxis": {
          "gridcolor": "rgb(102, 102, 102)",
          "showgrid": false
         },
         "oceancolor": "rgb(28,107,160)",
         "projection": {
          "rotation": {
           "lat": 10,
           "lon": 60
          },
          "type": "orthographic"
         },
         "showframe": true,
         "showocean": true
        },
        "title": "World Map of Global Unemployment in the Year 2019"
       }
      },
      "text/html": [
       "<div>                            <div id=\"78f6dd73-7b6f-4d0a-9b74-a477601ec9e3\" class=\"plotly-graph-div\" style=\"height:525px; width:100%;\"></div>            <script type=\"text/javascript\">                require([\"plotly\"], function(Plotly) {                    window.PLOTLYENV=window.PLOTLYENV || {};                                    if (document.getElementById(\"78f6dd73-7b6f-4d0a-9b74-a477601ec9e3\")) {                    Plotly.newPlot(                        \"78f6dd73-7b6f-4d0a-9b74-a477601ec9e3\",                        [{\"autocolorscale\": false, \"colorbar\": {\"autotick\": true, \"tickprefix\": \"\", \"title\": \"Unemployment\\nRate\"}, \"colorscale\": [[0, \"rgb(102,194,165)\"], [0.05, \"rgb(102,194,165)\"], [0.15, \"rgb(171,221,164)\"], [0.2, \"rgb(230,245,152)\"], [0.25, \"rgb(255,255,191)\"], [0.35, \"rgb(254,224,139)\"], [0.45, \"rgb(253,174,97)\"], [0.55, \"rgb(213,62,79)\"], [1.0, \"rgb(158,1,66)\"]], \"locationmode\": \"country names\", \"locations\": [\"Afghanistan\", \"Angola\", \"Albania\", \"Arab World\", \"United Arab Emirates\", \"Argentina\", \"Armenia\", \"Australia\", \"Austria\", \"Azerbaijan\", \"Burundi\", \"Belgium\", \"Benin\", \"Burkina Faso\", \"Bangladesh\", \"Bulgaria\", \"Bahrain\", \"Bahamas, The\", \"Bosnia and Herzegovina\", \"Belarus\", \"Belize\", \"Bolivia\", \"Brazil\", \"Barbados\", \"Brunei Darussalam\", \"Bhutan\", \"Botswana\", \"Central African Republic\", \"Canada\", \"Central Europe and the Baltics\", \"Switzerland\", \"Channel Islands\", \"Chile\", \"China\", \"Cote d'Ivoire\", \"Cameroon\", \"Congo, Dem. Rep.\", \"Congo, Rep.\", \"Colombia\", \"Comoros\", \"Cabo Verde\", \"Costa Rica\", \"Caribbean small states\", \"Cuba\", \"Cyprus\", \"Czech Republic\", \"Germany\", \"Djibouti\", \"Denmark\", \"Dominican Republic\", \"Algeria\", \"East Asia & Pacific (excluding high income)\", \"Early-demographic dividend\", \"East Asia & Pacific\", \"Europe & Central Asia (excluding high income)\", \"Europe & Central Asia\", \"Ecuador\", \"Egypt, Arab Rep.\", \"Euro area\", \"Eritrea\", \"Spain\", \"Estonia\", \"Ethiopia\", \"European Union\", \"Fragile and conflict affected situations\", \"Finland\", \"Fiji\", \"France\", \"Gabon\", \"United Kingdom\", \"Georgia\", \"Ghana\", \"Guinea\", \"Gambia, The\", \"Guinea-Bissau\", \"Equatorial Guinea\", \"Greece\", \"Guatemala\", \"Guam\", \"Guyana\", \"High income\", \"Hong Kong SAR, China\", \"Honduras\", \"Heavily indebted poor countries (HIPC)\", \"Croatia\", \"Haiti\", \"Hungary\", \"IBRD only\", \"IDA & IBRD total\", \"IDA total\", \"IDA blend\", \"Indonesia\", \"IDA only\", \"India\", \"Ireland\", \"Iran, Islamic Rep.\", \"Iraq\", \"Iceland\", \"Israel\", \"Italy\", \"Jamaica\", \"Jordan\", \"Japan\", \"Kazakhstan\", \"Kenya\", \"Kyrgyz Republic\", \"Cambodia\", \"Korea, Rep.\", \"Kuwait\", \"Latin America & Caribbean (excluding high income)\", \"Lao PDR\", \"Lebanon\", \"Liberia\", \"Libya\", \"St. Lucia\", \"Latin America & Caribbean\", \"Least developed countries: UN classification\", \"Low income\", \"Sri Lanka\", \"Lower middle income\", \"Low & middle income\", \"Lesotho\", \"Late-demographic dividend\", \"Lithuania\", \"Luxembourg\", \"Latvia\", \"Macao SAR, China\", \"Morocco\", \"Moldova\", \"Madagascar\", \"Maldives\", \"Middle East & North Africa\", \"Mexico\", \"Middle income\", \"North Macedonia\", \"Mali\", \"Malta\", \"Myanmar\", \"Middle East & North Africa (excluding high income)\", \"Montenegro\", \"Mongolia\", \"Mozambique\", \"Mauritania\", \"Mauritius\", \"Malawi\", \"Malaysia\", \"North America\", \"Namibia\", \"New Caledonia\", \"Niger\", \"Nigeria\", \"Nicaragua\", \"Netherlands\", \"Norway\", \"Nepal\", \"New Zealand\", \"OECD members\", \"Oman\", \"Other small states\", \"Pakistan\", \"Panama\", \"Peru\", \"Philippines\", \"Papua New Guinea\", \"Poland\", \"Pre-demographic dividend\", \"Puerto Rico\", \"Korea, Dem. People\\u2019s Rep.\", \"Portugal\", \"Paraguay\", \"West Bank and Gaza\", \"Pacific island small states\", \"Post-demographic dividend\", \"French Polynesia\", \"Qatar\", \"Romania\", \"Russian Federation\", \"Rwanda\", \"South Asia\", \"Saudi Arabia\", \"Sudan\", \"Senegal\", \"Singapore\", \"Solomon Islands\", \"Sierra Leone\", \"El Salvador\", \"Somalia\", \"Serbia\", \"Sub-Saharan Africa (excluding high income)\", \"South Sudan\", \"Sub-Saharan Africa\", \"Small states\", \"Sao Tome and Principe\", \"Suriname\", \"Slovak Republic\", \"Slovenia\", \"Sweden\", \"Eswatini\", \"Syrian Arab Republic\", \"Chad\", \"East Asia & Pacific (IDA & IBRD countries)\", \"Europe & Central Asia (IDA & IBRD countries)\", \"Togo\", \"Thailand\", \"Tajikistan\", \"Turkmenistan\", \"Latin America & the Caribbean (IDA & IBRD countries)\", \"Timor-Leste\", \"Middle East & North Africa (IDA & IBRD countries)\", \"Tonga\", \"South Asia (IDA & IBRD)\", \"Sub-Saharan Africa (IDA & IBRD countries)\", \"Trinidad and Tobago\", \"Tunisia\", \"Turkey\", \"Tanzania\", \"Uganda\", \"Ukraine\", \"Upper middle income\", \"Uruguay\", \"United States\", \"Uzbekistan\", \"St. Vincent and the Grenadines\", \"Venezuela, RB\", \"Virgin Islands (U.S.)\", \"Vietnam\", \"Vanuatu\", \"World\", \"Samoa\", \"Yemen, Rep.\", \"South Africa\", \"Zambia\", \"Zimbabwe\"], \"marker\": {\"line\": {\"color\": \"rgb(250,250,225)\", \"width\": 0.5}}, \"showscale\": true, \"text\": [\"Afghanistan\", \"Angola\", \"Albania\", \"Arab World\", \"United Arab Emirates\", \"Argentina\", \"Armenia\", \"Australia\", \"Austria\", \"Azerbaijan\", \"Burundi\", \"Belgium\", \"Benin\", \"Burkina Faso\", \"Bangladesh\", \"Bulgaria\", \"Bahrain\", \"Bahamas, The\", \"Bosnia and Herzegovina\", \"Belarus\", \"Belize\", \"Bolivia\", \"Brazil\", \"Barbados\", \"Brunei Darussalam\", \"Bhutan\", \"Botswana\", \"Central African Republic\", \"Canada\", \"Central Europe and the Baltics\", \"Switzerland\", \"Channel Islands\", \"Chile\", \"China\", \"Cote d'Ivoire\", \"Cameroon\", \"Congo, Dem. Rep.\", \"Congo, Rep.\", \"Colombia\", \"Comoros\", \"Cabo Verde\", \"Costa Rica\", \"Caribbean small states\", \"Cuba\", \"Cyprus\", \"Czech Republic\", \"Germany\", \"Djibouti\", \"Denmark\", \"Dominican Republic\", \"Algeria\", \"East Asia & Pacific (excluding high income)\", \"Early-demographic dividend\", \"East Asia & Pacific\", \"Europe & Central Asia (excluding high income)\", \"Europe & Central Asia\", \"Ecuador\", \"Egypt, Arab Rep.\", \"Euro area\", \"Eritrea\", \"Spain\", \"Estonia\", \"Ethiopia\", \"European Union\", \"Fragile and conflict affected situations\", \"Finland\", \"Fiji\", \"France\", \"Gabon\", \"United Kingdom\", \"Georgia\", \"Ghana\", \"Guinea\", \"Gambia, The\", \"Guinea-Bissau\", \"Equatorial Guinea\", \"Greece\", \"Guatemala\", \"Guam\", \"Guyana\", \"High income\", \"Hong Kong SAR, China\", \"Honduras\", \"Heavily indebted poor countries (HIPC)\", \"Croatia\", \"Haiti\", \"Hungary\", \"IBRD only\", \"IDA & IBRD total\", \"IDA total\", \"IDA blend\", \"Indonesia\", \"IDA only\", \"India\", \"Ireland\", \"Iran, Islamic Rep.\", \"Iraq\", \"Iceland\", \"Israel\", \"Italy\", \"Jamaica\", \"Jordan\", \"Japan\", \"Kazakhstan\", \"Kenya\", \"Kyrgyz Republic\", \"Cambodia\", \"Korea, Rep.\", \"Kuwait\", \"Latin America & Caribbean (excluding high income)\", \"Lao PDR\", \"Lebanon\", \"Liberia\", \"Libya\", \"St. Lucia\", \"Latin America & Caribbean\", \"Least developed countries: UN classification\", \"Low income\", \"Sri Lanka\", \"Lower middle income\", \"Low & middle income\", \"Lesotho\", \"Late-demographic dividend\", \"Lithuania\", \"Luxembourg\", \"Latvia\", \"Macao SAR, China\", \"Morocco\", \"Moldova\", \"Madagascar\", \"Maldives\", \"Middle East & North Africa\", \"Mexico\", \"Middle income\", \"North Macedonia\", \"Mali\", \"Malta\", \"Myanmar\", \"Middle East & North Africa (excluding high income)\", \"Montenegro\", \"Mongolia\", \"Mozambique\", \"Mauritania\", \"Mauritius\", \"Malawi\", \"Malaysia\", \"North America\", \"Namibia\", \"New Caledonia\", \"Niger\", \"Nigeria\", \"Nicaragua\", \"Netherlands\", \"Norway\", \"Nepal\", \"New Zealand\", \"OECD members\", \"Oman\", \"Other small states\", \"Pakistan\", \"Panama\", \"Peru\", \"Philippines\", \"Papua New Guinea\", \"Poland\", \"Pre-demographic dividend\", \"Puerto Rico\", \"Korea, Dem. People\\u2019s Rep.\", \"Portugal\", \"Paraguay\", \"West Bank and Gaza\", \"Pacific island small states\", \"Post-demographic dividend\", \"French Polynesia\", \"Qatar\", \"Romania\", \"Russian Federation\", \"Rwanda\", \"South Asia\", \"Saudi Arabia\", \"Sudan\", \"Senegal\", \"Singapore\", \"Solomon Islands\", \"Sierra Leone\", \"El Salvador\", \"Somalia\", \"Serbia\", \"Sub-Saharan Africa (excluding high income)\", \"South Sudan\", \"Sub-Saharan Africa\", \"Small states\", \"Sao Tome and Principe\", \"Suriname\", \"Slovak Republic\", \"Slovenia\", \"Sweden\", \"Eswatini\", \"Syrian Arab Republic\", \"Chad\", \"East Asia & Pacific (IDA & IBRD countries)\", \"Europe & Central Asia (IDA & IBRD countries)\", \"Togo\", \"Thailand\", \"Tajikistan\", \"Turkmenistan\", \"Latin America & the Caribbean (IDA & IBRD countries)\", \"Timor-Leste\", \"Middle East & North Africa (IDA & IBRD countries)\", \"Tonga\", \"South Asia (IDA & IBRD)\", \"Sub-Saharan Africa (IDA & IBRD countries)\", \"Trinidad and Tobago\", \"Tunisia\", \"Turkey\", \"Tanzania\", \"Uganda\", \"Ukraine\", \"Upper middle income\", \"Uruguay\", \"United States\", \"Uzbekistan\", \"St. Vincent and the Grenadines\", \"Venezuela, RB\", \"Virgin Islands (U.S.)\", \"Vietnam\", \"Vanuatu\", \"World\", \"Samoa\", \"Yemen, Rep.\", \"South Africa\", \"Zambia\", \"Zimbabwe\"], \"type\": \"choropleth\", \"z\": [11.11800003, 6.886000156000001, 12.33100033, 10.33694622, 2.34800005, 9.788999557, 16.98999977, 5.2680001260000004, 4.673999786, 5.508999825, 1.4270000459999999, 5.589000225, 2.2320001130000002, 6.263999939, 4.190000057, 4.340000153, 0.713999987, 10.35999966, 18.42499924, 4.59499979, 6.413000107, 3.497999907, 12.08300018, 10.33100033, 9.116999626, 2.3420000080000003, 18.19300079, 3.680000067, 5.56400013, 3.870378192, 4.5809998510000005, 7.486999989, 7.090000152999999, 4.320000172, 3.316999912, 3.3800001139999996, 4.236000061, 9.472000122, 9.706999779, 4.335999966, 12.2489996, 11.85400009, 8.011520389, 1.638000011, 7.274000168, 1.9329999690000002, 3.042999983, 10.29500008, 4.913000107, 5.84499979, 11.70400047, 3.8956813510000003, 5.816613529, 3.830287611, 7.491865217000001, 6.763186376, 3.967999935, 10.76000023, 7.496169932999999, 5.144000053, 13.95899963, 5.114999771, 2.08100009, 6.666848568, 6.9649992439999995, 6.59499979, 4.100999832, 8.427000046, 20.00399971, 3.851000071, 14.39799976, 4.3309998510000005, 4.296000004, 9.055999756, 2.46600008, 6.433000087999999, 17.23800087, 2.459000111, 5.31099987, 11.85200024, 4.793254837, 3.628999949, 5.386000156000001, 4.447173146, 6.934999942999999, 13.78100014, 3.398999929, 5.770164567999999, 5.5302332210000005, 4.711286128, 5.4583945389999995, 4.686999798, 4.382339958, 5.355000018999999, 4.927999973, 11.38199997, 12.82199955, 2.8420000080000003, 3.8610000610000004, 9.887000084, 8.001999855, 14.71500015, 2.290999889, 4.590000153, 2.64199996, 6.329999924, 0.6769999859999999, 4.1479997630000005, 2.1819999219999997, 8.134316793, 0.625999987, 6.229000092000001, 2.8139998910000004, 18.56299973, 20.70599937, 8.069178678, 4.348260905, 4.889683791, 4.197999954, 5.134931187, 5.527787008, 23.40500069, 5.06480201, 6.352000237, 5.362999916000001, 6.519999981000001, 2.236999989, 9.019000053, 5.47300005, 1.758000016, 6.138000011, 9.825076901000001, 3.424999952, 5.592531052999999, 17.75900078, 7.223999977, 3.47300005, 1.5770000219999998, 11.52503546, 14.88300037, 6.011000156000001, 3.2409999369999998, 9.548000336, 6.673999786, 5.652999877999999, 3.323999882, 3.889743746, 20.27300072, 12.80000019, 0.474999994, 8.095999718, 6.836999893, 3.196000099, 3.3459999560000004, 1.406999946, 4.068999767, 5.356232185, 2.671000004, 9.159979502999999, 4.453000069, 3.90199995, 3.3099999430000002, 2.150000095, 2.459000111, 3.473999977, 5.6934621, 8.187000275, 2.74000001, 6.334000111, 4.809000015, 26.16900063, 2.970332224, 4.999670912, 12.09599972, 0.09099999800000001, 3.976000071, 4.585000038, 1.0299999709999998, 5.111422752, 5.927000046, 16.53499985, 6.604000092000001, 4.109000206, 0.575999975, 4.427999973, 4.110000134, 11.35099983, 12.68599987, 6.186109627, 12.24400043, 6.186806795, 8.645776074, 13.36900043, 7.334000111, 5.56099987, 4.195000172, 6.475999832, 22.08300018, 8.369999886, 1.8910000319999998, 3.91277164, 6.994651235, 2.038000107, 0.754000008, 11.0170002, 3.913000107, 8.172789853, 4.547999859, 11.36794496, 1.116999984, 5.111422752, 6.186806795, 2.6860001089999996, 16.02199936, 13.48999977, 1.980000019, 1.843000054, 8.881999968999999, 5.94048844, 8.730999947, 3.6819999219999997, 5.916999817000001, 18.88100052, 8.800999641, 8.661999702000001, 2.013000011, 4.385000229, 5.39506305, 8.359000206000001, 12.90999985, 28.18099976, 11.42500019, 4.953999996]}],                        {\"geo\": {\"lataxis\": {\"gridcolor\": \"rgb(102, 102, 102)\", \"showgrid\": false}, \"lonaxis\": {\"gridcolor\": \"rgb(102, 102, 102)\", \"showgrid\": false}, \"oceancolor\": \"rgb(28,107,160)\", \"projection\": {\"rotation\": {\"lat\": 10, \"lon\": 60}, \"type\": \"orthographic\"}, \"showframe\": true, \"showocean\": true}, \"title\": \"World Map of Global Unemployment in the Year 2019\"},                        {\"responsive\": true}                    ).then(function(){\n",
       "                            \n",
       "var gd = document.getElementById('78f6dd73-7b6f-4d0a-9b74-a477601ec9e3');\n",
       "var x = new MutationObserver(function (mutations, observer) {{\n",
       "        var display = window.getComputedStyle(gd).display;\n",
       "        if (!display || display === 'none') {{\n",
       "            console.log([gd, 'removed!']);\n",
       "            Plotly.purge(gd);\n",
       "            observer.disconnect();\n",
       "        }}\n",
       "}});\n",
       "\n",
       "// Listen for the removal of the full notebook cells\n",
       "var notebookContainer = gd.closest('#notebook-container');\n",
       "if (notebookContainer) {{\n",
       "    x.observe(notebookContainer, {childList: true});\n",
       "}}\n",
       "\n",
       "// Listen for the clearing of the current output cell\n",
       "var outputEl = gd.closest('.output');\n",
       "if (outputEl) {{\n",
       "    x.observe(outputEl, {childList: true});\n",
       "}}\n",
       "\n",
       "                        })                };                });            </script>        </div>"
      ]
     },
     "metadata": {},
     "output_type": "display_data"
    },
    {
     "data": {
      "application/vnd.plotly.v1+json": {
       "config": {
        "linkText": "Export to plot.ly",
        "plotlyServerURL": "https://plot.ly",
        "showLink": false
       },
       "data": [
        {
         "autocolorscale": false,
         "colorbar": {
          "autotick": true,
          "tickprefix": "",
          "title": "Unemployment\nRate"
         },
         "colorscale": [
          [
           0,
           "rgb(102,194,165)"
          ],
          [
           0.05,
           "rgb(102,194,165)"
          ],
          [
           0.15,
           "rgb(171,221,164)"
          ],
          [
           0.2,
           "rgb(230,245,152)"
          ],
          [
           0.25,
           "rgb(255,255,191)"
          ],
          [
           0.35,
           "rgb(254,224,139)"
          ],
          [
           0.45,
           "rgb(253,174,97)"
          ],
          [
           0.55,
           "rgb(213,62,79)"
          ],
          [
           1,
           "rgb(158,1,66)"
          ]
         ],
         "locationmode": "country names",
         "locations": [
          "Afghanistan",
          "Angola",
          "Albania",
          "Arab World",
          "United Arab Emirates",
          "Argentina",
          "Armenia",
          "Australia",
          "Austria",
          "Azerbaijan",
          "Burundi",
          "Belgium",
          "Benin",
          "Burkina Faso",
          "Bangladesh",
          "Bulgaria",
          "Bahrain",
          "Bahamas, The",
          "Bosnia and Herzegovina",
          "Belarus",
          "Belize",
          "Bolivia",
          "Brazil",
          "Barbados",
          "Brunei Darussalam",
          "Bhutan",
          "Botswana",
          "Central African Republic",
          "Canada",
          "Central Europe and the Baltics",
          "Switzerland",
          "Channel Islands",
          "Chile",
          "China",
          "Cote d'Ivoire",
          "Cameroon",
          "Congo, Dem. Rep.",
          "Congo, Rep.",
          "Colombia",
          "Comoros",
          "Cabo Verde",
          "Costa Rica",
          "Caribbean small states",
          "Cuba",
          "Cyprus",
          "Czech Republic",
          "Germany",
          "Djibouti",
          "Denmark",
          "Dominican Republic",
          "Algeria",
          "East Asia & Pacific (excluding high income)",
          "Early-demographic dividend",
          "East Asia & Pacific",
          "Europe & Central Asia (excluding high income)",
          "Europe & Central Asia",
          "Ecuador",
          "Egypt, Arab Rep.",
          "Euro area",
          "Eritrea",
          "Spain",
          "Estonia",
          "Ethiopia",
          "European Union",
          "Fragile and conflict affected situations",
          "Finland",
          "Fiji",
          "France",
          "Gabon",
          "United Kingdom",
          "Georgia",
          "Ghana",
          "Guinea",
          "Gambia, The",
          "Guinea-Bissau",
          "Equatorial Guinea",
          "Greece",
          "Guatemala",
          "Guam",
          "Guyana",
          "High income",
          "Hong Kong SAR, China",
          "Honduras",
          "Heavily indebted poor countries (HIPC)",
          "Croatia",
          "Haiti",
          "Hungary",
          "IBRD only",
          "IDA & IBRD total",
          "IDA total",
          "IDA blend",
          "Indonesia",
          "IDA only",
          "India",
          "Ireland",
          "Iran, Islamic Rep.",
          "Iraq",
          "Iceland",
          "Israel",
          "Italy",
          "Jamaica",
          "Jordan",
          "Japan",
          "Kazakhstan",
          "Kenya",
          "Kyrgyz Republic",
          "Cambodia",
          "Korea, Rep.",
          "Kuwait",
          "Latin America & Caribbean (excluding high income)",
          "Lao PDR",
          "Lebanon",
          "Liberia",
          "Libya",
          "St. Lucia",
          "Latin America & Caribbean",
          "Least developed countries: UN classification",
          "Low income",
          "Sri Lanka",
          "Lower middle income",
          "Low & middle income",
          "Lesotho",
          "Late-demographic dividend",
          "Lithuania",
          "Luxembourg",
          "Latvia",
          "Macao SAR, China",
          "Morocco",
          "Moldova",
          "Madagascar",
          "Maldives",
          "Middle East & North Africa",
          "Mexico",
          "Middle income",
          "North Macedonia",
          "Mali",
          "Malta",
          "Myanmar",
          "Middle East & North Africa (excluding high income)",
          "Montenegro",
          "Mongolia",
          "Mozambique",
          "Mauritania",
          "Mauritius",
          "Malawi",
          "Malaysia",
          "North America",
          "Namibia",
          "New Caledonia",
          "Niger",
          "Nigeria",
          "Nicaragua",
          "Netherlands",
          "Norway",
          "Nepal",
          "New Zealand",
          "OECD members",
          "Oman",
          "Other small states",
          "Pakistan",
          "Panama",
          "Peru",
          "Philippines",
          "Papua New Guinea",
          "Poland",
          "Pre-demographic dividend",
          "Puerto Rico",
          "Korea, Dem. People’s Rep.",
          "Portugal",
          "Paraguay",
          "West Bank and Gaza",
          "Pacific island small states",
          "Post-demographic dividend",
          "French Polynesia",
          "Qatar",
          "Romania",
          "Russian Federation",
          "Rwanda",
          "South Asia",
          "Saudi Arabia",
          "Sudan",
          "Senegal",
          "Singapore",
          "Solomon Islands",
          "Sierra Leone",
          "El Salvador",
          "Somalia",
          "Serbia",
          "Sub-Saharan Africa (excluding high income)",
          "South Sudan",
          "Sub-Saharan Africa",
          "Small states",
          "Sao Tome and Principe",
          "Suriname",
          "Slovak Republic",
          "Slovenia",
          "Sweden",
          "Eswatini",
          "Syrian Arab Republic",
          "Chad",
          "East Asia & Pacific (IDA & IBRD countries)",
          "Europe & Central Asia (IDA & IBRD countries)",
          "Togo",
          "Thailand",
          "Tajikistan",
          "Turkmenistan",
          "Latin America & the Caribbean (IDA & IBRD countries)",
          "Timor-Leste",
          "Middle East & North Africa (IDA & IBRD countries)",
          "Tonga",
          "South Asia (IDA & IBRD)",
          "Sub-Saharan Africa (IDA & IBRD countries)",
          "Trinidad and Tobago",
          "Tunisia",
          "Turkey",
          "Tanzania",
          "Uganda",
          "Ukraine",
          "Upper middle income",
          "Uruguay",
          "United States",
          "Uzbekistan",
          "St. Vincent and the Grenadines",
          "Venezuela, RB",
          "Virgin Islands (U.S.)",
          "Vietnam",
          "Vanuatu",
          "World",
          "Samoa",
          "Yemen, Rep.",
          "South Africa",
          "Zambia",
          "Zimbabwe"
         ],
         "marker": {
          "line": {
           "color": "rgb(250,250,200)",
           "width": 0.5
          }
         },
         "showscale": true,
         "text": [
          "Afghanistan",
          "Angola",
          "Albania",
          "Arab World",
          "United Arab Emirates",
          "Argentina",
          "Armenia",
          "Australia",
          "Austria",
          "Azerbaijan",
          "Burundi",
          "Belgium",
          "Benin",
          "Burkina Faso",
          "Bangladesh",
          "Bulgaria",
          "Bahrain",
          "Bahamas, The",
          "Bosnia and Herzegovina",
          "Belarus",
          "Belize",
          "Bolivia",
          "Brazil",
          "Barbados",
          "Brunei Darussalam",
          "Bhutan",
          "Botswana",
          "Central African Republic",
          "Canada",
          "Central Europe and the Baltics",
          "Switzerland",
          "Channel Islands",
          "Chile",
          "China",
          "Cote d'Ivoire",
          "Cameroon",
          "Congo, Dem. Rep.",
          "Congo, Rep.",
          "Colombia",
          "Comoros",
          "Cabo Verde",
          "Costa Rica",
          "Caribbean small states",
          "Cuba",
          "Cyprus",
          "Czech Republic",
          "Germany",
          "Djibouti",
          "Denmark",
          "Dominican Republic",
          "Algeria",
          "East Asia & Pacific (excluding high income)",
          "Early-demographic dividend",
          "East Asia & Pacific",
          "Europe & Central Asia (excluding high income)",
          "Europe & Central Asia",
          "Ecuador",
          "Egypt, Arab Rep.",
          "Euro area",
          "Eritrea",
          "Spain",
          "Estonia",
          "Ethiopia",
          "European Union",
          "Fragile and conflict affected situations",
          "Finland",
          "Fiji",
          "France",
          "Gabon",
          "United Kingdom",
          "Georgia",
          "Ghana",
          "Guinea",
          "Gambia, The",
          "Guinea-Bissau",
          "Equatorial Guinea",
          "Greece",
          "Guatemala",
          "Guam",
          "Guyana",
          "High income",
          "Hong Kong SAR, China",
          "Honduras",
          "Heavily indebted poor countries (HIPC)",
          "Croatia",
          "Haiti",
          "Hungary",
          "IBRD only",
          "IDA & IBRD total",
          "IDA total",
          "IDA blend",
          "Indonesia",
          "IDA only",
          "India",
          "Ireland",
          "Iran, Islamic Rep.",
          "Iraq",
          "Iceland",
          "Israel",
          "Italy",
          "Jamaica",
          "Jordan",
          "Japan",
          "Kazakhstan",
          "Kenya",
          "Kyrgyz Republic",
          "Cambodia",
          "Korea, Rep.",
          "Kuwait",
          "Latin America & Caribbean (excluding high income)",
          "Lao PDR",
          "Lebanon",
          "Liberia",
          "Libya",
          "St. Lucia",
          "Latin America & Caribbean",
          "Least developed countries: UN classification",
          "Low income",
          "Sri Lanka",
          "Lower middle income",
          "Low & middle income",
          "Lesotho",
          "Late-demographic dividend",
          "Lithuania",
          "Luxembourg",
          "Latvia",
          "Macao SAR, China",
          "Morocco",
          "Moldova",
          "Madagascar",
          "Maldives",
          "Middle East & North Africa",
          "Mexico",
          "Middle income",
          "North Macedonia",
          "Mali",
          "Malta",
          "Myanmar",
          "Middle East & North Africa (excluding high income)",
          "Montenegro",
          "Mongolia",
          "Mozambique",
          "Mauritania",
          "Mauritius",
          "Malawi",
          "Malaysia",
          "North America",
          "Namibia",
          "New Caledonia",
          "Niger",
          "Nigeria",
          "Nicaragua",
          "Netherlands",
          "Norway",
          "Nepal",
          "New Zealand",
          "OECD members",
          "Oman",
          "Other small states",
          "Pakistan",
          "Panama",
          "Peru",
          "Philippines",
          "Papua New Guinea",
          "Poland",
          "Pre-demographic dividend",
          "Puerto Rico",
          "Korea, Dem. People’s Rep.",
          "Portugal",
          "Paraguay",
          "West Bank and Gaza",
          "Pacific island small states",
          "Post-demographic dividend",
          "French Polynesia",
          "Qatar",
          "Romania",
          "Russian Federation",
          "Rwanda",
          "South Asia",
          "Saudi Arabia",
          "Sudan",
          "Senegal",
          "Singapore",
          "Solomon Islands",
          "Sierra Leone",
          "El Salvador",
          "Somalia",
          "Serbia",
          "Sub-Saharan Africa (excluding high income)",
          "South Sudan",
          "Sub-Saharan Africa",
          "Small states",
          "Sao Tome and Principe",
          "Suriname",
          "Slovak Republic",
          "Slovenia",
          "Sweden",
          "Eswatini",
          "Syrian Arab Republic",
          "Chad",
          "East Asia & Pacific (IDA & IBRD countries)",
          "Europe & Central Asia (IDA & IBRD countries)",
          "Togo",
          "Thailand",
          "Tajikistan",
          "Turkmenistan",
          "Latin America & the Caribbean (IDA & IBRD countries)",
          "Timor-Leste",
          "Middle East & North Africa (IDA & IBRD countries)",
          "Tonga",
          "South Asia (IDA & IBRD)",
          "Sub-Saharan Africa (IDA & IBRD countries)",
          "Trinidad and Tobago",
          "Tunisia",
          "Turkey",
          "Tanzania",
          "Uganda",
          "Ukraine",
          "Upper middle income",
          "Uruguay",
          "United States",
          "Uzbekistan",
          "St. Vincent and the Grenadines",
          "Venezuela, RB",
          "Virgin Islands (U.S.)",
          "Vietnam",
          "Vanuatu",
          "World",
          "Samoa",
          "Yemen, Rep.",
          "South Africa",
          "Zambia",
          "Zimbabwe"
         ],
         "type": "choropleth",
         "z": [
          11.16399956,
          6.774000168,
          12.81299973,
          10.19147219,
          2.447000027,
          10.43599987,
          16.625,
          5.328000069,
          4.778999805,
          5.9600000379999996,
          1.407999992,
          5.691999912000001,
          2.023000002,
          6.414000034,
          4.151000023,
          3.849999905,
          0.7630000109999999,
          11.27000046,
          18.43799973,
          4.625,
          6.3569998739999996,
          3.450000048,
          11.9659996,
          10.93799973,
          9.043999672,
          2.390000105,
          18.72100067,
          3.696000099,
          5.412000179,
          3.6418477869999997,
          4.848999977,
          7.534999847000001,
          7.096000195,
          4.3699998860000004,
          3.423000097,
          3.427999973,
          4.25,
          9.281999588,
          9.744000435,
          4.366000175,
          12.31799984,
          12.73400021,
          8.092526873999999,
          1.5900000330000001,
          7.234000206,
          1.9099999669999999,
          3.025000095,
          10.32299995,
          4.846000195,
          5.9190001489999995,
          11.52499962,
          3.9514128860000004,
          5.84416443,
          3.8978883669999997,
          7.376411121,
          6.631571683,
          4.237999916000001,
          10.12800026,
          7.25474786,
          5.171999931,
          13.01500034,
          5.379000187000001,
          2.082000017,
          6.445279815,
          6.994557176,
          6.65899992,
          4.079999924,
          8.338000297999999,
          20.14500046,
          4.114999771,
          14.74199963,
          4.508999825,
          4.329999924,
          9.107000351,
          2.486999989,
          6.46999979,
          15.47399998,
          2.506999969,
          5.6750001910000005,
          11.81299973,
          4.811218412,
          4.264999866,
          5.229000092,
          4.477224919,
          7.113999843999999,
          13.91499996,
          3.460000038,
          5.801744919,
          5.552639069,
          4.720010308,
          5.425470438,
          4.835000038,
          4.410047533999999,
          5.399000168,
          5.157999992,
          11.18099976,
          12.82499981,
          3.2219998839999997,
          3.7790000439999996,
          9.836000443,
          7.9499998089999995,
          14.61299992,
          2.338999987,
          4.551000118,
          2.6459999080000003,
          6.6430001260000004,
          0.69599998,
          4.597000122,
          2.302999973,
          8.208613324,
          0.6019999979999999,
          6.276000023,
          2.724999905,
          18.62599945,
          20.14999962,
          8.141540487,
          4.3633873219999995,
          4.913977185,
          4.177999973,
          5.1322451860000005,
          5.55321215,
          22.83099937,
          5.08484507,
          6.261000156000001,
          5.243999958,
          6.532999992000001,
          2.505000114,
          8.954999924,
          5.364999771,
          1.832999945,
          6.434000015,
          9.636612298,
          3.6540000439999996,
          5.619500691,
          16.43899918,
          7.34100008,
          3.367000103,
          1.710999966,
          11.29630708,
          14.75599957,
          5.946000099,
          3.242000103,
          9.61400032,
          6.68900013,
          5.673999786,
          3.378000021,
          4.03348776,
          20.58699989,
          12.78100014,
          0.485000014,
          7.9600000379999996,
          7.355000018999999,
          2.974999905,
          3.3099999430000002,
          1.4659999609999999,
          4.013000011,
          5.365522499,
          2.546000004,
          9.214162667,
          4.445000172,
          3.825000048,
          3.196000099,
          2.164000034,
          2.486999989,
          3.039999962,
          5.679897304,
          8.413999557,
          2.7639999389999996,
          5.933000087999999,
          4.835999966,
          26.09799957,
          2.9439423330000003,
          5.030064089,
          11.93400002,
          0.082000002,
          3.921999931,
          4.4250001910000005,
          1.041000009,
          5.140202803999999,
          5.857999802,
          16.61800003,
          6.676000117999999,
          4.3800001139999996,
          0.541999996,
          4.440999985,
          4.196000099,
          11.39999962,
          12.72200012,
          6.1750409170000005,
          12.25699997,
          6.175756538,
          8.702974863,
          13.67099953,
          7.472000122000001,
          5.104000092,
          3.8020000460000003,
          6.673999786,
          21.97100067,
          8.447999954,
          1.942999959,
          3.9690323530000002,
          6.8602548389999995,
          2.005000114,
          0.8029999729999999,
          10.98900032,
          4.071000099,
          8.244177129,
          4.603000164,
          11.13439221,
          1.156999946,
          5.140202803999999,
          6.175756538,
          2.7950000760000004,
          16.15399933,
          12.94099998,
          1.980999947,
          1.91900003,
          8.934000015,
          5.9953467279999995,
          8.777000427,
          3.8619999889999996,
          6.081999778999999,
          18.87000084,
          9.380999565,
          8.758999825,
          2.022000074,
          4.407999992,
          5.420152616,
          8.354999542,
          12.82999992,
          28.47699928,
          11.411999699999999,
          4.991000175
         ]
        }
       ],
       "layout": {
        "geo": {
         "lataxis": {
          "gridcolor": "rgb(102, 102, 102)",
          "showgrid": false
         },
         "lonaxis": {
          "gridcolor": "rgb(202, 202, 202)",
          "showgrid": false,
          "width": "0.05"
         },
         "oceancolor": "rgb(28,107,160)",
         "projection": {
          "rotation": {
           "lat": 10,
           "lon": 60
          },
          "type": "orthographic"
         },
         "showframe": true,
         "showocean": true
        },
        "title": "World Map of Global Unemployment in the Year 2020"
       }
      },
      "text/html": [
       "<div>                            <div id=\"a3ff2b24-cbe5-467b-ae95-8b8232818d80\" class=\"plotly-graph-div\" style=\"height:525px; width:100%;\"></div>            <script type=\"text/javascript\">                require([\"plotly\"], function(Plotly) {                    window.PLOTLYENV=window.PLOTLYENV || {};                                    if (document.getElementById(\"a3ff2b24-cbe5-467b-ae95-8b8232818d80\")) {                    Plotly.newPlot(                        \"a3ff2b24-cbe5-467b-ae95-8b8232818d80\",                        [{\"autocolorscale\": false, \"colorbar\": {\"autotick\": true, \"tickprefix\": \"\", \"title\": \"Unemployment\\nRate\"}, \"colorscale\": [[0, \"rgb(102,194,165)\"], [0.05, \"rgb(102,194,165)\"], [0.15, \"rgb(171,221,164)\"], [0.2, \"rgb(230,245,152)\"], [0.25, \"rgb(255,255,191)\"], [0.35, \"rgb(254,224,139)\"], [0.45, \"rgb(253,174,97)\"], [0.55, \"rgb(213,62,79)\"], [1.0, \"rgb(158,1,66)\"]], \"locationmode\": \"country names\", \"locations\": [\"Afghanistan\", \"Angola\", \"Albania\", \"Arab World\", \"United Arab Emirates\", \"Argentina\", \"Armenia\", \"Australia\", \"Austria\", \"Azerbaijan\", \"Burundi\", \"Belgium\", \"Benin\", \"Burkina Faso\", \"Bangladesh\", \"Bulgaria\", \"Bahrain\", \"Bahamas, The\", \"Bosnia and Herzegovina\", \"Belarus\", \"Belize\", \"Bolivia\", \"Brazil\", \"Barbados\", \"Brunei Darussalam\", \"Bhutan\", \"Botswana\", \"Central African Republic\", \"Canada\", \"Central Europe and the Baltics\", \"Switzerland\", \"Channel Islands\", \"Chile\", \"China\", \"Cote d'Ivoire\", \"Cameroon\", \"Congo, Dem. Rep.\", \"Congo, Rep.\", \"Colombia\", \"Comoros\", \"Cabo Verde\", \"Costa Rica\", \"Caribbean small states\", \"Cuba\", \"Cyprus\", \"Czech Republic\", \"Germany\", \"Djibouti\", \"Denmark\", \"Dominican Republic\", \"Algeria\", \"East Asia & Pacific (excluding high income)\", \"Early-demographic dividend\", \"East Asia & Pacific\", \"Europe & Central Asia (excluding high income)\", \"Europe & Central Asia\", \"Ecuador\", \"Egypt, Arab Rep.\", \"Euro area\", \"Eritrea\", \"Spain\", \"Estonia\", \"Ethiopia\", \"European Union\", \"Fragile and conflict affected situations\", \"Finland\", \"Fiji\", \"France\", \"Gabon\", \"United Kingdom\", \"Georgia\", \"Ghana\", \"Guinea\", \"Gambia, The\", \"Guinea-Bissau\", \"Equatorial Guinea\", \"Greece\", \"Guatemala\", \"Guam\", \"Guyana\", \"High income\", \"Hong Kong SAR, China\", \"Honduras\", \"Heavily indebted poor countries (HIPC)\", \"Croatia\", \"Haiti\", \"Hungary\", \"IBRD only\", \"IDA & IBRD total\", \"IDA total\", \"IDA blend\", \"Indonesia\", \"IDA only\", \"India\", \"Ireland\", \"Iran, Islamic Rep.\", \"Iraq\", \"Iceland\", \"Israel\", \"Italy\", \"Jamaica\", \"Jordan\", \"Japan\", \"Kazakhstan\", \"Kenya\", \"Kyrgyz Republic\", \"Cambodia\", \"Korea, Rep.\", \"Kuwait\", \"Latin America & Caribbean (excluding high income)\", \"Lao PDR\", \"Lebanon\", \"Liberia\", \"Libya\", \"St. Lucia\", \"Latin America & Caribbean\", \"Least developed countries: UN classification\", \"Low income\", \"Sri Lanka\", \"Lower middle income\", \"Low & middle income\", \"Lesotho\", \"Late-demographic dividend\", \"Lithuania\", \"Luxembourg\", \"Latvia\", \"Macao SAR, China\", \"Morocco\", \"Moldova\", \"Madagascar\", \"Maldives\", \"Middle East & North Africa\", \"Mexico\", \"Middle income\", \"North Macedonia\", \"Mali\", \"Malta\", \"Myanmar\", \"Middle East & North Africa (excluding high income)\", \"Montenegro\", \"Mongolia\", \"Mozambique\", \"Mauritania\", \"Mauritius\", \"Malawi\", \"Malaysia\", \"North America\", \"Namibia\", \"New Caledonia\", \"Niger\", \"Nigeria\", \"Nicaragua\", \"Netherlands\", \"Norway\", \"Nepal\", \"New Zealand\", \"OECD members\", \"Oman\", \"Other small states\", \"Pakistan\", \"Panama\", \"Peru\", \"Philippines\", \"Papua New Guinea\", \"Poland\", \"Pre-demographic dividend\", \"Puerto Rico\", \"Korea, Dem. People\\u2019s Rep.\", \"Portugal\", \"Paraguay\", \"West Bank and Gaza\", \"Pacific island small states\", \"Post-demographic dividend\", \"French Polynesia\", \"Qatar\", \"Romania\", \"Russian Federation\", \"Rwanda\", \"South Asia\", \"Saudi Arabia\", \"Sudan\", \"Senegal\", \"Singapore\", \"Solomon Islands\", \"Sierra Leone\", \"El Salvador\", \"Somalia\", \"Serbia\", \"Sub-Saharan Africa (excluding high income)\", \"South Sudan\", \"Sub-Saharan Africa\", \"Small states\", \"Sao Tome and Principe\", \"Suriname\", \"Slovak Republic\", \"Slovenia\", \"Sweden\", \"Eswatini\", \"Syrian Arab Republic\", \"Chad\", \"East Asia & Pacific (IDA & IBRD countries)\", \"Europe & Central Asia (IDA & IBRD countries)\", \"Togo\", \"Thailand\", \"Tajikistan\", \"Turkmenistan\", \"Latin America & the Caribbean (IDA & IBRD countries)\", \"Timor-Leste\", \"Middle East & North Africa (IDA & IBRD countries)\", \"Tonga\", \"South Asia (IDA & IBRD)\", \"Sub-Saharan Africa (IDA & IBRD countries)\", \"Trinidad and Tobago\", \"Tunisia\", \"Turkey\", \"Tanzania\", \"Uganda\", \"Ukraine\", \"Upper middle income\", \"Uruguay\", \"United States\", \"Uzbekistan\", \"St. Vincent and the Grenadines\", \"Venezuela, RB\", \"Virgin Islands (U.S.)\", \"Vietnam\", \"Vanuatu\", \"World\", \"Samoa\", \"Yemen, Rep.\", \"South Africa\", \"Zambia\", \"Zimbabwe\"], \"marker\": {\"line\": {\"color\": \"rgb(250,250,200)\", \"width\": 0.5}}, \"showscale\": true, \"text\": [\"Afghanistan\", \"Angola\", \"Albania\", \"Arab World\", \"United Arab Emirates\", \"Argentina\", \"Armenia\", \"Australia\", \"Austria\", \"Azerbaijan\", \"Burundi\", \"Belgium\", \"Benin\", \"Burkina Faso\", \"Bangladesh\", \"Bulgaria\", \"Bahrain\", \"Bahamas, The\", \"Bosnia and Herzegovina\", \"Belarus\", \"Belize\", \"Bolivia\", \"Brazil\", \"Barbados\", \"Brunei Darussalam\", \"Bhutan\", \"Botswana\", \"Central African Republic\", \"Canada\", \"Central Europe and the Baltics\", \"Switzerland\", \"Channel Islands\", \"Chile\", \"China\", \"Cote d'Ivoire\", \"Cameroon\", \"Congo, Dem. Rep.\", \"Congo, Rep.\", \"Colombia\", \"Comoros\", \"Cabo Verde\", \"Costa Rica\", \"Caribbean small states\", \"Cuba\", \"Cyprus\", \"Czech Republic\", \"Germany\", \"Djibouti\", \"Denmark\", \"Dominican Republic\", \"Algeria\", \"East Asia & Pacific (excluding high income)\", \"Early-demographic dividend\", \"East Asia & Pacific\", \"Europe & Central Asia (excluding high income)\", \"Europe & Central Asia\", \"Ecuador\", \"Egypt, Arab Rep.\", \"Euro area\", \"Eritrea\", \"Spain\", \"Estonia\", \"Ethiopia\", \"European Union\", \"Fragile and conflict affected situations\", \"Finland\", \"Fiji\", \"France\", \"Gabon\", \"United Kingdom\", \"Georgia\", \"Ghana\", \"Guinea\", \"Gambia, The\", \"Guinea-Bissau\", \"Equatorial Guinea\", \"Greece\", \"Guatemala\", \"Guam\", \"Guyana\", \"High income\", \"Hong Kong SAR, China\", \"Honduras\", \"Heavily indebted poor countries (HIPC)\", \"Croatia\", \"Haiti\", \"Hungary\", \"IBRD only\", \"IDA & IBRD total\", \"IDA total\", \"IDA blend\", \"Indonesia\", \"IDA only\", \"India\", \"Ireland\", \"Iran, Islamic Rep.\", \"Iraq\", \"Iceland\", \"Israel\", \"Italy\", \"Jamaica\", \"Jordan\", \"Japan\", \"Kazakhstan\", \"Kenya\", \"Kyrgyz Republic\", \"Cambodia\", \"Korea, Rep.\", \"Kuwait\", \"Latin America & Caribbean (excluding high income)\", \"Lao PDR\", \"Lebanon\", \"Liberia\", \"Libya\", \"St. Lucia\", \"Latin America & Caribbean\", \"Least developed countries: UN classification\", \"Low income\", \"Sri Lanka\", \"Lower middle income\", \"Low & middle income\", \"Lesotho\", \"Late-demographic dividend\", \"Lithuania\", \"Luxembourg\", \"Latvia\", \"Macao SAR, China\", \"Morocco\", \"Moldova\", \"Madagascar\", \"Maldives\", \"Middle East & North Africa\", \"Mexico\", \"Middle income\", \"North Macedonia\", \"Mali\", \"Malta\", \"Myanmar\", \"Middle East & North Africa (excluding high income)\", \"Montenegro\", \"Mongolia\", \"Mozambique\", \"Mauritania\", \"Mauritius\", \"Malawi\", \"Malaysia\", \"North America\", \"Namibia\", \"New Caledonia\", \"Niger\", \"Nigeria\", \"Nicaragua\", \"Netherlands\", \"Norway\", \"Nepal\", \"New Zealand\", \"OECD members\", \"Oman\", \"Other small states\", \"Pakistan\", \"Panama\", \"Peru\", \"Philippines\", \"Papua New Guinea\", \"Poland\", \"Pre-demographic dividend\", \"Puerto Rico\", \"Korea, Dem. People\\u2019s Rep.\", \"Portugal\", \"Paraguay\", \"West Bank and Gaza\", \"Pacific island small states\", \"Post-demographic dividend\", \"French Polynesia\", \"Qatar\", \"Romania\", \"Russian Federation\", \"Rwanda\", \"South Asia\", \"Saudi Arabia\", \"Sudan\", \"Senegal\", \"Singapore\", \"Solomon Islands\", \"Sierra Leone\", \"El Salvador\", \"Somalia\", \"Serbia\", \"Sub-Saharan Africa (excluding high income)\", \"South Sudan\", \"Sub-Saharan Africa\", \"Small states\", \"Sao Tome and Principe\", \"Suriname\", \"Slovak Republic\", \"Slovenia\", \"Sweden\", \"Eswatini\", \"Syrian Arab Republic\", \"Chad\", \"East Asia & Pacific (IDA & IBRD countries)\", \"Europe & Central Asia (IDA & IBRD countries)\", \"Togo\", \"Thailand\", \"Tajikistan\", \"Turkmenistan\", \"Latin America & the Caribbean (IDA & IBRD countries)\", \"Timor-Leste\", \"Middle East & North Africa (IDA & IBRD countries)\", \"Tonga\", \"South Asia (IDA & IBRD)\", \"Sub-Saharan Africa (IDA & IBRD countries)\", \"Trinidad and Tobago\", \"Tunisia\", \"Turkey\", \"Tanzania\", \"Uganda\", \"Ukraine\", \"Upper middle income\", \"Uruguay\", \"United States\", \"Uzbekistan\", \"St. Vincent and the Grenadines\", \"Venezuela, RB\", \"Virgin Islands (U.S.)\", \"Vietnam\", \"Vanuatu\", \"World\", \"Samoa\", \"Yemen, Rep.\", \"South Africa\", \"Zambia\", \"Zimbabwe\"], \"type\": \"choropleth\", \"z\": [11.16399956, 6.774000168, 12.81299973, 10.19147219, 2.447000027, 10.43599987, 16.625, 5.328000069, 4.778999805, 5.9600000379999996, 1.407999992, 5.691999912000001, 2.023000002, 6.414000034, 4.151000023, 3.849999905, 0.7630000109999999, 11.27000046, 18.43799973, 4.625, 6.3569998739999996, 3.450000048, 11.9659996, 10.93799973, 9.043999672, 2.390000105, 18.72100067, 3.696000099, 5.412000179, 3.6418477869999997, 4.848999977, 7.534999847000001, 7.096000195, 4.3699998860000004, 3.423000097, 3.427999973, 4.25, 9.281999588, 9.744000435, 4.366000175, 12.31799984, 12.73400021, 8.092526873999999, 1.5900000330000001, 7.234000206, 1.9099999669999999, 3.025000095, 10.32299995, 4.846000195, 5.9190001489999995, 11.52499962, 3.9514128860000004, 5.84416443, 3.8978883669999997, 7.376411121, 6.631571683, 4.237999916000001, 10.12800026, 7.25474786, 5.171999931, 13.01500034, 5.379000187000001, 2.082000017, 6.445279815, 6.994557176, 6.65899992, 4.079999924, 8.338000297999999, 20.14500046, 4.114999771, 14.74199963, 4.508999825, 4.329999924, 9.107000351, 2.486999989, 6.46999979, 15.47399998, 2.506999969, 5.6750001910000005, 11.81299973, 4.811218412, 4.264999866, 5.229000092, 4.477224919, 7.113999843999999, 13.91499996, 3.460000038, 5.801744919, 5.552639069, 4.720010308, 5.425470438, 4.835000038, 4.410047533999999, 5.399000168, 5.157999992, 11.18099976, 12.82499981, 3.2219998839999997, 3.7790000439999996, 9.836000443, 7.9499998089999995, 14.61299992, 2.338999987, 4.551000118, 2.6459999080000003, 6.6430001260000004, 0.69599998, 4.597000122, 2.302999973, 8.208613324, 0.6019999979999999, 6.276000023, 2.724999905, 18.62599945, 20.14999962, 8.141540487, 4.3633873219999995, 4.913977185, 4.177999973, 5.1322451860000005, 5.55321215, 22.83099937, 5.08484507, 6.261000156000001, 5.243999958, 6.532999992000001, 2.505000114, 8.954999924, 5.364999771, 1.832999945, 6.434000015, 9.636612298, 3.6540000439999996, 5.619500691, 16.43899918, 7.34100008, 3.367000103, 1.710999966, 11.29630708, 14.75599957, 5.946000099, 3.242000103, 9.61400032, 6.68900013, 5.673999786, 3.378000021, 4.03348776, 20.58699989, 12.78100014, 0.485000014, 7.9600000379999996, 7.355000018999999, 2.974999905, 3.3099999430000002, 1.4659999609999999, 4.013000011, 5.365522499, 2.546000004, 9.214162667, 4.445000172, 3.825000048, 3.196000099, 2.164000034, 2.486999989, 3.039999962, 5.679897304, 8.413999557, 2.7639999389999996, 5.933000087999999, 4.835999966, 26.09799957, 2.9439423330000003, 5.030064089, 11.93400002, 0.082000002, 3.921999931, 4.4250001910000005, 1.041000009, 5.140202803999999, 5.857999802, 16.61800003, 6.676000117999999, 4.3800001139999996, 0.541999996, 4.440999985, 4.196000099, 11.39999962, 12.72200012, 6.1750409170000005, 12.25699997, 6.175756538, 8.702974863, 13.67099953, 7.472000122000001, 5.104000092, 3.8020000460000003, 6.673999786, 21.97100067, 8.447999954, 1.942999959, 3.9690323530000002, 6.8602548389999995, 2.005000114, 0.8029999729999999, 10.98900032, 4.071000099, 8.244177129, 4.603000164, 11.13439221, 1.156999946, 5.140202803999999, 6.175756538, 2.7950000760000004, 16.15399933, 12.94099998, 1.980999947, 1.91900003, 8.934000015, 5.9953467279999995, 8.777000427, 3.8619999889999996, 6.081999778999999, 18.87000084, 9.380999565, 8.758999825, 2.022000074, 4.407999992, 5.420152616, 8.354999542, 12.82999992, 28.47699928, 11.411999699999999, 4.991000175]}],                        {\"geo\": {\"lataxis\": {\"gridcolor\": \"rgb(102, 102, 102)\", \"showgrid\": false}, \"lonaxis\": {\"gridcolor\": \"rgb(202, 202, 202)\", \"showgrid\": false, \"width\": \"0.05\"}, \"oceancolor\": \"rgb(28,107,160)\", \"projection\": {\"rotation\": {\"lat\": 10, \"lon\": 60}, \"type\": \"orthographic\"}, \"showframe\": true, \"showocean\": true}, \"title\": \"World Map of Global Unemployment in the Year 2020\"},                        {\"responsive\": true}                    ).then(function(){\n",
       "                            \n",
       "var gd = document.getElementById('a3ff2b24-cbe5-467b-ae95-8b8232818d80');\n",
       "var x = new MutationObserver(function (mutations, observer) {{\n",
       "        var display = window.getComputedStyle(gd).display;\n",
       "        if (!display || display === 'none') {{\n",
       "            console.log([gd, 'removed!']);\n",
       "            Plotly.purge(gd);\n",
       "            observer.disconnect();\n",
       "        }}\n",
       "}});\n",
       "\n",
       "// Listen for the removal of the full notebook cells\n",
       "var notebookContainer = gd.closest('#notebook-container');\n",
       "if (notebookContainer) {{\n",
       "    x.observe(notebookContainer, {childList: true});\n",
       "}}\n",
       "\n",
       "// Listen for the clearing of the current output cell\n",
       "var outputEl = gd.closest('.output');\n",
       "if (outputEl) {{\n",
       "    x.observe(outputEl, {childList: true});\n",
       "}}\n",
       "\n",
       "                        })                };                });            </script>        </div>"
      ]
     },
     "metadata": {},
     "output_type": "display_data"
    }
   ],
   "source": [
    "# Try to project our data on a movable globe-like diagram for better visuals\n",
    "# Thanks to https://www.kaggle.com/arthurtok/generation-unemployed-interactive-plotly-visuals/data\n",
    "metricscale1=[[0, 'rgb(102,194,165)'], [0.05, 'rgb(102,194,165)'], \n",
    "              [0.15, 'rgb(171,221,164)'], [0.2, 'rgb(230,245,152)'], \n",
    "              [0.25, 'rgb(255,255,191)'], [0.35, 'rgb(254,224,139)'], \n",
    "              [0.45, 'rgb(253,174,97)'], [0.55, 'rgb(213,62,79)'], [1.0, 'rgb(158,1,66)']]\n",
    "data = [ dict(\n",
    "        type = 'choropleth',\n",
    "        autocolorscale = False,\n",
    "        colorscale = metricscale1,\n",
    "        showscale = True,\n",
    "        locations = df['Country Name'].values,\n",
    "        z = df['2019'].values,\n",
    "        locationmode = 'country names',\n",
    "        text = df['Country Name'].values,\n",
    "        marker = dict(\n",
    "            line = dict(color = 'rgb(250,250,225)', width = 0.5)),\n",
    "            colorbar = dict(autotick = True, tickprefix = '', \n",
    "            title = 'Unemployment\\nRate')\n",
    "            )\n",
    "       ]\n",
    "\n",
    "layout = dict(\n",
    "    title = 'World Map of Global Unemployment in the Year 2019',\n",
    "    geo = dict(\n",
    "        showframe = True,\n",
    "        showocean = True,\n",
    "        oceancolor = 'rgb(28,107,160)',\n",
    "        #oceancolor = 'rgb(222,243,246)',\n",
    "        projection = dict(\n",
    "        type = 'orthographic',\n",
    "            rotation = dict(\n",
    "                    lon = 60,\n",
    "                    lat = 10),\n",
    "        ),\n",
    "        lonaxis =  dict(\n",
    "                showgrid = False,\n",
    "                gridcolor = 'rgb(102, 102, 102)'\n",
    "            ),\n",
    "        lataxis = dict(\n",
    "                showgrid = False,\n",
    "                gridcolor = 'rgb(102, 102, 102)'\n",
    "                )\n",
    "            ),\n",
    "        )\n",
    "fig = dict(data=data, layout=layout)\n",
    "py.iplot(fig, validate=False, filename='worldmap2019')\n",
    "\n",
    "metricscale2=[[0, 'rgb(102,194,165)'], [0.05, 'rgb(102,194,165)'], \n",
    "              [0.15, 'rgb(171,221,164)'], [0.2, 'rgb(230,245,152)'], \n",
    "              [0.25, 'rgb(255,255,191)'], [0.35, 'rgb(254,224,139)'], \n",
    "              [0.45, 'rgb(253,174,97)'], [0.55, 'rgb(213,62,79)'], [1.0, 'rgb(158,1,66)']]\n",
    "data = [ dict(\n",
    "        type = 'choropleth',\n",
    "        autocolorscale = False,\n",
    "        colorscale = metricscale2,\n",
    "        showscale = True,\n",
    "        locations = df['Country Name'].values,\n",
    "        z = df['2020'].values,\n",
    "        locationmode = 'country names',\n",
    "        text = df['Country Name'].values,\n",
    "        marker = dict(\n",
    "            line = dict(color = 'rgb(250,250,200)', width = 0.5)),\n",
    "            colorbar = dict(autotick = True, tickprefix = '', \n",
    "            title = 'Unemployment\\nRate')\n",
    "            )\n",
    "       ]\n",
    "\n",
    "layout = dict(\n",
    "    title = 'World Map of Global Unemployment in the Year 2020',\n",
    "    geo = dict(\n",
    "        showframe = True,\n",
    "        showocean = True,\n",
    "        oceancolor = 'rgb(28,107,160)',\n",
    "        projection = dict(\n",
    "        type = 'orthographic',\n",
    "            rotation = dict(\n",
    "                    lon = 60,\n",
    "                    lat = 10),\n",
    "        ),\n",
    "        lonaxis =  dict(\n",
    "                showgrid = False,\n",
    "                gridcolor = 'rgb(202, 202, 202)',\n",
    "                width = '0.05'\n",
    "            ),\n",
    "        lataxis = dict(\n",
    "                showgrid = False,\n",
    "                gridcolor = 'rgb(102, 102, 102)'\n",
    "                )\n",
    "            ),\n",
    "        )\n",
    "fig = dict(data=data, layout=layout)\n",
    "py.iplot(fig, validate=False, filename='worldmap2020')"
   ]
  },
  {
   "cell_type": "code",
   "execution_count": 13,
   "metadata": {},
   "outputs": [
    {
     "data": {
      "application/vnd.plotly.v1+json": {
       "config": {
        "linkText": "Export to plot.ly",
        "plotlyServerURL": "https://plot.ly",
        "showLink": false
       },
       "data": [
        {
         "marker": {
          "color": [
           11.11800003,
           6.886000156000001,
           12.33100033,
           10.33694622,
           2.34800005,
           9.788999557,
           16.98999977,
           5.2680001260000004,
           4.673999786,
           5.508999825,
           1.4270000459999999,
           5.589000225,
           2.2320001130000002,
           6.263999939,
           4.190000057,
           4.340000153,
           0.713999987,
           10.35999966,
           18.42499924,
           4.59499979,
           6.413000107,
           3.497999907,
           12.08300018,
           10.33100033,
           9.116999626,
           2.3420000080000003,
           18.19300079,
           3.680000067,
           5.56400013,
           3.870378192,
           4.5809998510000005,
           7.486999989,
           7.090000152999999,
           4.320000172,
           3.316999912,
           3.3800001139999996,
           4.236000061,
           9.472000122,
           9.706999779,
           4.335999966,
           12.2489996,
           11.85400009,
           8.011520389,
           1.638000011,
           7.274000168,
           1.9329999690000002,
           3.042999983,
           10.29500008,
           4.913000107,
           5.84499979,
           11.70400047,
           3.8956813510000003,
           5.816613529,
           3.830287611,
           7.491865217000001,
           6.763186376,
           3.967999935,
           10.76000023,
           7.496169932999999,
           5.144000053,
           13.95899963,
           5.114999771,
           2.08100009,
           6.666848568,
           6.9649992439999995,
           6.59499979,
           4.100999832,
           8.427000046,
           20.00399971,
           3.851000071,
           14.39799976,
           4.3309998510000005,
           4.296000004,
           9.055999756,
           2.46600008,
           6.433000087999999,
           17.23800087,
           2.459000111,
           5.31099987,
           11.85200024,
           4.793254837,
           3.628999949,
           5.386000156000001,
           4.447173146,
           6.934999942999999,
           13.78100014,
           3.398999929,
           5.770164567999999,
           5.5302332210000005,
           4.711286128,
           5.4583945389999995,
           4.686999798,
           4.382339958,
           5.355000018999999,
           4.927999973,
           11.38199997,
           12.82199955,
           2.8420000080000003,
           3.8610000610000004,
           9.887000084,
           8.001999855,
           14.71500015,
           2.290999889,
           4.590000153,
           2.64199996,
           6.329999924,
           0.6769999859999999,
           4.1479997630000005,
           2.1819999219999997,
           8.134316793,
           0.625999987,
           6.229000092000001,
           2.8139998910000004,
           18.56299973,
           20.70599937,
           8.069178678,
           4.348260905,
           4.889683791,
           4.197999954,
           5.134931187,
           5.527787008,
           23.40500069,
           5.06480201,
           6.352000237,
           5.362999916000001,
           6.519999981000001,
           2.236999989,
           9.019000053,
           5.47300005,
           1.758000016,
           6.138000011,
           9.825076901000001,
           3.424999952,
           5.592531052999999,
           17.75900078,
           7.223999977,
           3.47300005,
           1.5770000219999998,
           11.52503546,
           14.88300037,
           6.011000156000001,
           3.2409999369999998,
           9.548000336,
           6.673999786,
           5.652999877999999,
           3.323999882,
           3.889743746,
           20.27300072,
           12.80000019,
           0.474999994,
           8.095999718,
           6.836999893,
           3.196000099,
           3.3459999560000004,
           1.406999946,
           4.068999767,
           5.356232185,
           2.671000004,
           9.159979502999999,
           4.453000069,
           3.90199995,
           3.3099999430000002,
           2.150000095,
           2.459000111,
           3.473999977,
           5.6934621,
           8.187000275,
           2.74000001,
           6.334000111,
           4.809000015,
           26.16900063,
           2.970332224,
           4.999670912,
           12.09599972,
           0.09099999800000001,
           3.976000071,
           4.585000038,
           1.0299999709999998,
           5.111422752,
           5.927000046,
           16.53499985,
           6.604000092000001,
           4.109000206,
           0.575999975,
           4.427999973,
           4.110000134,
           11.35099983,
           12.68599987,
           6.186109627,
           12.24400043,
           6.186806795,
           8.645776074,
           13.36900043,
           7.334000111,
           5.56099987,
           4.195000172,
           6.475999832,
           22.08300018,
           8.369999886,
           1.8910000319999998,
           3.91277164,
           6.994651235,
           2.038000107,
           0.754000008,
           11.0170002,
           3.913000107,
           8.172789853,
           4.547999859,
           11.36794496,
           1.116999984,
           5.111422752,
           6.186806795,
           2.6860001089999996,
           16.02199936,
           13.48999977,
           1.980000019,
           1.843000054,
           8.881999968999999,
           5.94048844,
           8.730999947,
           3.6819999219999997,
           5.916999817000001,
           18.88100052,
           8.800999641,
           8.661999702000001,
           2.013000011,
           4.385000229,
           5.39506305,
           8.359000206000001,
           12.90999985,
           28.18099976,
           11.42500019,
           4.953999996
          ],
          "colorscale": [
           [
            0,
            "rgb(12,51,131)"
           ],
           [
            0.25,
            "rgb(10,136,186)"
           ],
           [
            0.5,
            "rgb(242,211,56)"
           ],
           [
            0.75,
            "rgb(242,143,56)"
           ],
           [
            1,
            "rgb(217,30,30)"
           ]
          ],
          "showscale": true,
          "size": [
           11.11800003,
           6.886000156000001,
           12.33100033,
           10.33694622,
           2.34800005,
           9.788999557,
           16.98999977,
           5.2680001260000004,
           4.673999786,
           5.508999825,
           1.4270000459999999,
           5.589000225,
           2.2320001130000002,
           6.263999939,
           4.190000057,
           4.340000153,
           0.713999987,
           10.35999966,
           18.42499924,
           4.59499979,
           6.413000107,
           3.497999907,
           12.08300018,
           10.33100033,
           9.116999626,
           2.3420000080000003,
           18.19300079,
           3.680000067,
           5.56400013,
           3.870378192,
           4.5809998510000005,
           7.486999989,
           7.090000152999999,
           4.320000172,
           3.316999912,
           3.3800001139999996,
           4.236000061,
           9.472000122,
           9.706999779,
           4.335999966,
           12.2489996,
           11.85400009,
           8.011520389,
           1.638000011,
           7.274000168,
           1.9329999690000002,
           3.042999983,
           10.29500008,
           4.913000107,
           5.84499979,
           11.70400047,
           3.8956813510000003,
           5.816613529,
           3.830287611,
           7.491865217000001,
           6.763186376,
           3.967999935,
           10.76000023,
           7.496169932999999,
           5.144000053,
           13.95899963,
           5.114999771,
           2.08100009,
           6.666848568,
           6.9649992439999995,
           6.59499979,
           4.100999832,
           8.427000046,
           20.00399971,
           3.851000071,
           14.39799976,
           4.3309998510000005,
           4.296000004,
           9.055999756,
           2.46600008,
           6.433000087999999,
           17.23800087,
           2.459000111,
           5.31099987,
           11.85200024,
           4.793254837,
           3.628999949,
           5.386000156000001,
           4.447173146,
           6.934999942999999,
           13.78100014,
           3.398999929,
           5.770164567999999,
           5.5302332210000005,
           4.711286128,
           5.4583945389999995,
           4.686999798,
           4.382339958,
           5.355000018999999,
           4.927999973,
           11.38199997,
           12.82199955,
           2.8420000080000003,
           3.8610000610000004,
           9.887000084,
           8.001999855,
           14.71500015,
           2.290999889,
           4.590000153,
           2.64199996,
           6.329999924,
           0.6769999859999999,
           4.1479997630000005,
           2.1819999219999997,
           8.134316793,
           0.625999987,
           6.229000092000001,
           2.8139998910000004,
           18.56299973,
           20.70599937,
           8.069178678,
           4.348260905,
           4.889683791,
           4.197999954,
           5.134931187,
           5.527787008,
           23.40500069,
           5.06480201,
           6.352000237,
           5.362999916000001,
           6.519999981000001,
           2.236999989,
           9.019000053,
           5.47300005,
           1.758000016,
           6.138000011,
           9.825076901000001,
           3.424999952,
           5.592531052999999,
           17.75900078,
           7.223999977,
           3.47300005,
           1.5770000219999998,
           11.52503546,
           14.88300037,
           6.011000156000001,
           3.2409999369999998,
           9.548000336,
           6.673999786,
           5.652999877999999,
           3.323999882,
           3.889743746,
           20.27300072,
           12.80000019,
           0.474999994,
           8.095999718,
           6.836999893,
           3.196000099,
           3.3459999560000004,
           1.406999946,
           4.068999767,
           5.356232185,
           2.671000004,
           9.159979502999999,
           4.453000069,
           3.90199995,
           3.3099999430000002,
           2.150000095,
           2.459000111,
           3.473999977,
           5.6934621,
           8.187000275,
           2.74000001,
           6.334000111,
           4.809000015,
           26.16900063,
           2.970332224,
           4.999670912,
           12.09599972,
           0.09099999800000001,
           3.976000071,
           4.585000038,
           1.0299999709999998,
           5.111422752,
           5.927000046,
           16.53499985,
           6.604000092000001,
           4.109000206,
           0.575999975,
           4.427999973,
           4.110000134,
           11.35099983,
           12.68599987,
           6.186109627,
           12.24400043,
           6.186806795,
           8.645776074,
           13.36900043,
           7.334000111,
           5.56099987,
           4.195000172,
           6.475999832,
           22.08300018,
           8.369999886,
           1.8910000319999998,
           3.91277164,
           6.994651235,
           2.038000107,
           0.754000008,
           11.0170002,
           3.913000107,
           8.172789853,
           4.547999859,
           11.36794496,
           1.116999984,
           5.111422752,
           6.186806795,
           2.6860001089999996,
           16.02199936,
           13.48999977,
           1.980000019,
           1.843000054,
           8.881999968999999,
           5.94048844,
           8.730999947,
           3.6819999219999997,
           5.916999817000001,
           18.88100052,
           8.800999641,
           8.661999702000001,
           2.013000011,
           4.385000229,
           5.39506305,
           8.359000206000001,
           12.90999985,
           28.18099976,
           11.42500019,
           4.953999996
          ]
         },
         "mode": "markers",
         "text": [
          "Afghanistan",
          "Angola",
          "Albania",
          "Arab World",
          "United Arab Emirates",
          "Argentina",
          "Armenia",
          "Australia",
          "Austria",
          "Azerbaijan",
          "Burundi",
          "Belgium",
          "Benin",
          "Burkina Faso",
          "Bangladesh",
          "Bulgaria",
          "Bahrain",
          "Bahamas, The",
          "Bosnia and Herzegovina",
          "Belarus",
          "Belize",
          "Bolivia",
          "Brazil",
          "Barbados",
          "Brunei Darussalam",
          "Bhutan",
          "Botswana",
          "Central African Republic",
          "Canada",
          "Central Europe and the Baltics",
          "Switzerland",
          "Channel Islands",
          "Chile",
          "China",
          "Cote d'Ivoire",
          "Cameroon",
          "Congo, Dem. Rep.",
          "Congo, Rep.",
          "Colombia",
          "Comoros",
          "Cabo Verde",
          "Costa Rica",
          "Caribbean small states",
          "Cuba",
          "Cyprus",
          "Czech Republic",
          "Germany",
          "Djibouti",
          "Denmark",
          "Dominican Republic",
          "Algeria",
          "East Asia & Pacific (excluding high income)",
          "Early-demographic dividend",
          "East Asia & Pacific",
          "Europe & Central Asia (excluding high income)",
          "Europe & Central Asia",
          "Ecuador",
          "Egypt, Arab Rep.",
          "Euro area",
          "Eritrea",
          "Spain",
          "Estonia",
          "Ethiopia",
          "European Union",
          "Fragile and conflict affected situations",
          "Finland",
          "Fiji",
          "France",
          "Gabon",
          "United Kingdom",
          "Georgia",
          "Ghana",
          "Guinea",
          "Gambia, The",
          "Guinea-Bissau",
          "Equatorial Guinea",
          "Greece",
          "Guatemala",
          "Guam",
          "Guyana",
          "High income",
          "Hong Kong SAR, China",
          "Honduras",
          "Heavily indebted poor countries (HIPC)",
          "Croatia",
          "Haiti",
          "Hungary",
          "IBRD only",
          "IDA & IBRD total",
          "IDA total",
          "IDA blend",
          "Indonesia",
          "IDA only",
          "India",
          "Ireland",
          "Iran, Islamic Rep.",
          "Iraq",
          "Iceland",
          "Israel",
          "Italy",
          "Jamaica",
          "Jordan",
          "Japan",
          "Kazakhstan",
          "Kenya",
          "Kyrgyz Republic",
          "Cambodia",
          "Korea, Rep.",
          "Kuwait",
          "Latin America & Caribbean (excluding high income)",
          "Lao PDR",
          "Lebanon",
          "Liberia",
          "Libya",
          "St. Lucia",
          "Latin America & Caribbean",
          "Least developed countries: UN classification",
          "Low income",
          "Sri Lanka",
          "Lower middle income",
          "Low & middle income",
          "Lesotho",
          "Late-demographic dividend",
          "Lithuania",
          "Luxembourg",
          "Latvia",
          "Macao SAR, China",
          "Morocco",
          "Moldova",
          "Madagascar",
          "Maldives",
          "Middle East & North Africa",
          "Mexico",
          "Middle income",
          "North Macedonia",
          "Mali",
          "Malta",
          "Myanmar",
          "Middle East & North Africa (excluding high income)",
          "Montenegro",
          "Mongolia",
          "Mozambique",
          "Mauritania",
          "Mauritius",
          "Malawi",
          "Malaysia",
          "North America",
          "Namibia",
          "New Caledonia",
          "Niger",
          "Nigeria",
          "Nicaragua",
          "Netherlands",
          "Norway",
          "Nepal",
          "New Zealand",
          "OECD members",
          "Oman",
          "Other small states",
          "Pakistan",
          "Panama",
          "Peru",
          "Philippines",
          "Papua New Guinea",
          "Poland",
          "Pre-demographic dividend",
          "Puerto Rico",
          "Korea, Dem. People’s Rep.",
          "Portugal",
          "Paraguay",
          "West Bank and Gaza",
          "Pacific island small states",
          "Post-demographic dividend",
          "French Polynesia",
          "Qatar",
          "Romania",
          "Russian Federation",
          "Rwanda",
          "South Asia",
          "Saudi Arabia",
          "Sudan",
          "Senegal",
          "Singapore",
          "Solomon Islands",
          "Sierra Leone",
          "El Salvador",
          "Somalia",
          "Serbia",
          "Sub-Saharan Africa (excluding high income)",
          "South Sudan",
          "Sub-Saharan Africa",
          "Small states",
          "Sao Tome and Principe",
          "Suriname",
          "Slovak Republic",
          "Slovenia",
          "Sweden",
          "Eswatini",
          "Syrian Arab Republic",
          "Chad",
          "East Asia & Pacific (IDA & IBRD countries)",
          "Europe & Central Asia (IDA & IBRD countries)",
          "Togo",
          "Thailand",
          "Tajikistan",
          "Turkmenistan",
          "Latin America & the Caribbean (IDA & IBRD countries)",
          "Timor-Leste",
          "Middle East & North Africa (IDA & IBRD countries)",
          "Tonga",
          "South Asia (IDA & IBRD)",
          "Sub-Saharan Africa (IDA & IBRD countries)",
          "Trinidad and Tobago",
          "Tunisia",
          "Turkey",
          "Tanzania",
          "Uganda",
          "Ukraine",
          "Upper middle income",
          "Uruguay",
          "United States",
          "Uzbekistan",
          "St. Vincent and the Grenadines",
          "Venezuela, RB",
          "Virgin Islands (U.S.)",
          "Vietnam",
          "Vanuatu",
          "World",
          "Samoa",
          "Yemen, Rep.",
          "South Africa",
          "Zambia",
          "Zimbabwe"
         ],
         "type": "scatter",
         "y": [
          11.11800003,
          6.886000156000001,
          12.33100033,
          10.33694622,
          2.34800005,
          9.788999557,
          16.98999977,
          5.2680001260000004,
          4.673999786,
          5.508999825,
          1.4270000459999999,
          5.589000225,
          2.2320001130000002,
          6.263999939,
          4.190000057,
          4.340000153,
          0.713999987,
          10.35999966,
          18.42499924,
          4.59499979,
          6.413000107,
          3.497999907,
          12.08300018,
          10.33100033,
          9.116999626,
          2.3420000080000003,
          18.19300079,
          3.680000067,
          5.56400013,
          3.870378192,
          4.5809998510000005,
          7.486999989,
          7.090000152999999,
          4.320000172,
          3.316999912,
          3.3800001139999996,
          4.236000061,
          9.472000122,
          9.706999779,
          4.335999966,
          12.2489996,
          11.85400009,
          8.011520389,
          1.638000011,
          7.274000168,
          1.9329999690000002,
          3.042999983,
          10.29500008,
          4.913000107,
          5.84499979,
          11.70400047,
          3.8956813510000003,
          5.816613529,
          3.830287611,
          7.491865217000001,
          6.763186376,
          3.967999935,
          10.76000023,
          7.496169932999999,
          5.144000053,
          13.95899963,
          5.114999771,
          2.08100009,
          6.666848568,
          6.9649992439999995,
          6.59499979,
          4.100999832,
          8.427000046,
          20.00399971,
          3.851000071,
          14.39799976,
          4.3309998510000005,
          4.296000004,
          9.055999756,
          2.46600008,
          6.433000087999999,
          17.23800087,
          2.459000111,
          5.31099987,
          11.85200024,
          4.793254837,
          3.628999949,
          5.386000156000001,
          4.447173146,
          6.934999942999999,
          13.78100014,
          3.398999929,
          5.770164567999999,
          5.5302332210000005,
          4.711286128,
          5.4583945389999995,
          4.686999798,
          4.382339958,
          5.355000018999999,
          4.927999973,
          11.38199997,
          12.82199955,
          2.8420000080000003,
          3.8610000610000004,
          9.887000084,
          8.001999855,
          14.71500015,
          2.290999889,
          4.590000153,
          2.64199996,
          6.329999924,
          0.6769999859999999,
          4.1479997630000005,
          2.1819999219999997,
          8.134316793,
          0.625999987,
          6.229000092000001,
          2.8139998910000004,
          18.56299973,
          20.70599937,
          8.069178678,
          4.348260905,
          4.889683791,
          4.197999954,
          5.134931187,
          5.527787008,
          23.40500069,
          5.06480201,
          6.352000237,
          5.362999916000001,
          6.519999981000001,
          2.236999989,
          9.019000053,
          5.47300005,
          1.758000016,
          6.138000011,
          9.825076901000001,
          3.424999952,
          5.592531052999999,
          17.75900078,
          7.223999977,
          3.47300005,
          1.5770000219999998,
          11.52503546,
          14.88300037,
          6.011000156000001,
          3.2409999369999998,
          9.548000336,
          6.673999786,
          5.652999877999999,
          3.323999882,
          3.889743746,
          20.27300072,
          12.80000019,
          0.474999994,
          8.095999718,
          6.836999893,
          3.196000099,
          3.3459999560000004,
          1.406999946,
          4.068999767,
          5.356232185,
          2.671000004,
          9.159979502999999,
          4.453000069,
          3.90199995,
          3.3099999430000002,
          2.150000095,
          2.459000111,
          3.473999977,
          5.6934621,
          8.187000275,
          2.74000001,
          6.334000111,
          4.809000015,
          26.16900063,
          2.970332224,
          4.999670912,
          12.09599972,
          0.09099999800000001,
          3.976000071,
          4.585000038,
          1.0299999709999998,
          5.111422752,
          5.927000046,
          16.53499985,
          6.604000092000001,
          4.109000206,
          0.575999975,
          4.427999973,
          4.110000134,
          11.35099983,
          12.68599987,
          6.186109627,
          12.24400043,
          6.186806795,
          8.645776074,
          13.36900043,
          7.334000111,
          5.56099987,
          4.195000172,
          6.475999832,
          22.08300018,
          8.369999886,
          1.8910000319999998,
          3.91277164,
          6.994651235,
          2.038000107,
          0.754000008,
          11.0170002,
          3.913000107,
          8.172789853,
          4.547999859,
          11.36794496,
          1.116999984,
          5.111422752,
          6.186806795,
          2.6860001089999996,
          16.02199936,
          13.48999977,
          1.980000019,
          1.843000054,
          8.881999968999999,
          5.94048844,
          8.730999947,
          3.6819999219999997,
          5.916999817000001,
          18.88100052,
          8.800999641,
          8.661999702000001,
          2.013000011,
          4.385000229,
          5.39506305,
          8.359000206000001,
          12.90999985,
          28.18099976,
          11.42500019,
          4.953999996
         ]
        }
       ],
       "layout": {
        "autosize": true,
        "hovermode": "closest",
        "showlegend": false,
        "template": {
         "data": {
          "bar": [
           {
            "error_x": {
             "color": "#2a3f5f"
            },
            "error_y": {
             "color": "#2a3f5f"
            },
            "marker": {
             "line": {
              "color": "#E5ECF6",
              "width": 0.5
             }
            },
            "type": "bar"
           }
          ],
          "barpolar": [
           {
            "marker": {
             "line": {
              "color": "#E5ECF6",
              "width": 0.5
             }
            },
            "type": "barpolar"
           }
          ],
          "carpet": [
           {
            "aaxis": {
             "endlinecolor": "#2a3f5f",
             "gridcolor": "white",
             "linecolor": "white",
             "minorgridcolor": "white",
             "startlinecolor": "#2a3f5f"
            },
            "baxis": {
             "endlinecolor": "#2a3f5f",
             "gridcolor": "white",
             "linecolor": "white",
             "minorgridcolor": "white",
             "startlinecolor": "#2a3f5f"
            },
            "type": "carpet"
           }
          ],
          "choropleth": [
           {
            "colorbar": {
             "outlinewidth": 0,
             "ticks": ""
            },
            "type": "choropleth"
           }
          ],
          "contour": [
           {
            "colorbar": {
             "outlinewidth": 0,
             "ticks": ""
            },
            "colorscale": [
             [
              0,
              "#0d0887"
             ],
             [
              0.1111111111111111,
              "#46039f"
             ],
             [
              0.2222222222222222,
              "#7201a8"
             ],
             [
              0.3333333333333333,
              "#9c179e"
             ],
             [
              0.4444444444444444,
              "#bd3786"
             ],
             [
              0.5555555555555556,
              "#d8576b"
             ],
             [
              0.6666666666666666,
              "#ed7953"
             ],
             [
              0.7777777777777778,
              "#fb9f3a"
             ],
             [
              0.8888888888888888,
              "#fdca26"
             ],
             [
              1,
              "#f0f921"
             ]
            ],
            "type": "contour"
           }
          ],
          "contourcarpet": [
           {
            "colorbar": {
             "outlinewidth": 0,
             "ticks": ""
            },
            "type": "contourcarpet"
           }
          ],
          "heatmap": [
           {
            "colorbar": {
             "outlinewidth": 0,
             "ticks": ""
            },
            "colorscale": [
             [
              0,
              "#0d0887"
             ],
             [
              0.1111111111111111,
              "#46039f"
             ],
             [
              0.2222222222222222,
              "#7201a8"
             ],
             [
              0.3333333333333333,
              "#9c179e"
             ],
             [
              0.4444444444444444,
              "#bd3786"
             ],
             [
              0.5555555555555556,
              "#d8576b"
             ],
             [
              0.6666666666666666,
              "#ed7953"
             ],
             [
              0.7777777777777778,
              "#fb9f3a"
             ],
             [
              0.8888888888888888,
              "#fdca26"
             ],
             [
              1,
              "#f0f921"
             ]
            ],
            "type": "heatmap"
           }
          ],
          "heatmapgl": [
           {
            "colorbar": {
             "outlinewidth": 0,
             "ticks": ""
            },
            "colorscale": [
             [
              0,
              "#0d0887"
             ],
             [
              0.1111111111111111,
              "#46039f"
             ],
             [
              0.2222222222222222,
              "#7201a8"
             ],
             [
              0.3333333333333333,
              "#9c179e"
             ],
             [
              0.4444444444444444,
              "#bd3786"
             ],
             [
              0.5555555555555556,
              "#d8576b"
             ],
             [
              0.6666666666666666,
              "#ed7953"
             ],
             [
              0.7777777777777778,
              "#fb9f3a"
             ],
             [
              0.8888888888888888,
              "#fdca26"
             ],
             [
              1,
              "#f0f921"
             ]
            ],
            "type": "heatmapgl"
           }
          ],
          "histogram": [
           {
            "marker": {
             "colorbar": {
              "outlinewidth": 0,
              "ticks": ""
             }
            },
            "type": "histogram"
           }
          ],
          "histogram2d": [
           {
            "colorbar": {
             "outlinewidth": 0,
             "ticks": ""
            },
            "colorscale": [
             [
              0,
              "#0d0887"
             ],
             [
              0.1111111111111111,
              "#46039f"
             ],
             [
              0.2222222222222222,
              "#7201a8"
             ],
             [
              0.3333333333333333,
              "#9c179e"
             ],
             [
              0.4444444444444444,
              "#bd3786"
             ],
             [
              0.5555555555555556,
              "#d8576b"
             ],
             [
              0.6666666666666666,
              "#ed7953"
             ],
             [
              0.7777777777777778,
              "#fb9f3a"
             ],
             [
              0.8888888888888888,
              "#fdca26"
             ],
             [
              1,
              "#f0f921"
             ]
            ],
            "type": "histogram2d"
           }
          ],
          "histogram2dcontour": [
           {
            "colorbar": {
             "outlinewidth": 0,
             "ticks": ""
            },
            "colorscale": [
             [
              0,
              "#0d0887"
             ],
             [
              0.1111111111111111,
              "#46039f"
             ],
             [
              0.2222222222222222,
              "#7201a8"
             ],
             [
              0.3333333333333333,
              "#9c179e"
             ],
             [
              0.4444444444444444,
              "#bd3786"
             ],
             [
              0.5555555555555556,
              "#d8576b"
             ],
             [
              0.6666666666666666,
              "#ed7953"
             ],
             [
              0.7777777777777778,
              "#fb9f3a"
             ],
             [
              0.8888888888888888,
              "#fdca26"
             ],
             [
              1,
              "#f0f921"
             ]
            ],
            "type": "histogram2dcontour"
           }
          ],
          "mesh3d": [
           {
            "colorbar": {
             "outlinewidth": 0,
             "ticks": ""
            },
            "type": "mesh3d"
           }
          ],
          "parcoords": [
           {
            "line": {
             "colorbar": {
              "outlinewidth": 0,
              "ticks": ""
             }
            },
            "type": "parcoords"
           }
          ],
          "pie": [
           {
            "automargin": true,
            "type": "pie"
           }
          ],
          "scatter": [
           {
            "marker": {
             "colorbar": {
              "outlinewidth": 0,
              "ticks": ""
             }
            },
            "type": "scatter"
           }
          ],
          "scatter3d": [
           {
            "line": {
             "colorbar": {
              "outlinewidth": 0,
              "ticks": ""
             }
            },
            "marker": {
             "colorbar": {
              "outlinewidth": 0,
              "ticks": ""
             }
            },
            "type": "scatter3d"
           }
          ],
          "scattercarpet": [
           {
            "marker": {
             "colorbar": {
              "outlinewidth": 0,
              "ticks": ""
             }
            },
            "type": "scattercarpet"
           }
          ],
          "scattergeo": [
           {
            "marker": {
             "colorbar": {
              "outlinewidth": 0,
              "ticks": ""
             }
            },
            "type": "scattergeo"
           }
          ],
          "scattergl": [
           {
            "marker": {
             "colorbar": {
              "outlinewidth": 0,
              "ticks": ""
             }
            },
            "type": "scattergl"
           }
          ],
          "scattermapbox": [
           {
            "marker": {
             "colorbar": {
              "outlinewidth": 0,
              "ticks": ""
             }
            },
            "type": "scattermapbox"
           }
          ],
          "scatterpolar": [
           {
            "marker": {
             "colorbar": {
              "outlinewidth": 0,
              "ticks": ""
             }
            },
            "type": "scatterpolar"
           }
          ],
          "scatterpolargl": [
           {
            "marker": {
             "colorbar": {
              "outlinewidth": 0,
              "ticks": ""
             }
            },
            "type": "scatterpolargl"
           }
          ],
          "scatterternary": [
           {
            "marker": {
             "colorbar": {
              "outlinewidth": 0,
              "ticks": ""
             }
            },
            "type": "scatterternary"
           }
          ],
          "surface": [
           {
            "colorbar": {
             "outlinewidth": 0,
             "ticks": ""
            },
            "colorscale": [
             [
              0,
              "#0d0887"
             ],
             [
              0.1111111111111111,
              "#46039f"
             ],
             [
              0.2222222222222222,
              "#7201a8"
             ],
             [
              0.3333333333333333,
              "#9c179e"
             ],
             [
              0.4444444444444444,
              "#bd3786"
             ],
             [
              0.5555555555555556,
              "#d8576b"
             ],
             [
              0.6666666666666666,
              "#ed7953"
             ],
             [
              0.7777777777777778,
              "#fb9f3a"
             ],
             [
              0.8888888888888888,
              "#fdca26"
             ],
             [
              1,
              "#f0f921"
             ]
            ],
            "type": "surface"
           }
          ],
          "table": [
           {
            "cells": {
             "fill": {
              "color": "#EBF0F8"
             },
             "line": {
              "color": "white"
             }
            },
            "header": {
             "fill": {
              "color": "#C8D4E3"
             },
             "line": {
              "color": "white"
             }
            },
            "type": "table"
           }
          ]
         },
         "layout": {
          "annotationdefaults": {
           "arrowcolor": "#2a3f5f",
           "arrowhead": 0,
           "arrowwidth": 1
          },
          "autotypenumbers": "strict",
          "coloraxis": {
           "colorbar": {
            "outlinewidth": 0,
            "ticks": ""
           }
          },
          "colorscale": {
           "diverging": [
            [
             0,
             "#8e0152"
            ],
            [
             0.1,
             "#c51b7d"
            ],
            [
             0.2,
             "#de77ae"
            ],
            [
             0.3,
             "#f1b6da"
            ],
            [
             0.4,
             "#fde0ef"
            ],
            [
             0.5,
             "#f7f7f7"
            ],
            [
             0.6,
             "#e6f5d0"
            ],
            [
             0.7,
             "#b8e186"
            ],
            [
             0.8,
             "#7fbc41"
            ],
            [
             0.9,
             "#4d9221"
            ],
            [
             1,
             "#276419"
            ]
           ],
           "sequential": [
            [
             0,
             "#0d0887"
            ],
            [
             0.1111111111111111,
             "#46039f"
            ],
            [
             0.2222222222222222,
             "#7201a8"
            ],
            [
             0.3333333333333333,
             "#9c179e"
            ],
            [
             0.4444444444444444,
             "#bd3786"
            ],
            [
             0.5555555555555556,
             "#d8576b"
            ],
            [
             0.6666666666666666,
             "#ed7953"
            ],
            [
             0.7777777777777778,
             "#fb9f3a"
            ],
            [
             0.8888888888888888,
             "#fdca26"
            ],
            [
             1,
             "#f0f921"
            ]
           ],
           "sequentialminus": [
            [
             0,
             "#0d0887"
            ],
            [
             0.1111111111111111,
             "#46039f"
            ],
            [
             0.2222222222222222,
             "#7201a8"
            ],
            [
             0.3333333333333333,
             "#9c179e"
            ],
            [
             0.4444444444444444,
             "#bd3786"
            ],
            [
             0.5555555555555556,
             "#d8576b"
            ],
            [
             0.6666666666666666,
             "#ed7953"
            ],
            [
             0.7777777777777778,
             "#fb9f3a"
            ],
            [
             0.8888888888888888,
             "#fdca26"
            ],
            [
             1,
             "#f0f921"
            ]
           ]
          },
          "colorway": [
           "#636efa",
           "#EF553B",
           "#00cc96",
           "#ab63fa",
           "#FFA15A",
           "#19d3f3",
           "#FF6692",
           "#B6E880",
           "#FF97FF",
           "#FECB52"
          ],
          "font": {
           "color": "#2a3f5f"
          },
          "geo": {
           "bgcolor": "white",
           "lakecolor": "white",
           "landcolor": "#E5ECF6",
           "showlakes": true,
           "showland": true,
           "subunitcolor": "white"
          },
          "hoverlabel": {
           "align": "left"
          },
          "hovermode": "closest",
          "mapbox": {
           "style": "light"
          },
          "paper_bgcolor": "white",
          "plot_bgcolor": "#E5ECF6",
          "polar": {
           "angularaxis": {
            "gridcolor": "white",
            "linecolor": "white",
            "ticks": ""
           },
           "bgcolor": "#E5ECF6",
           "radialaxis": {
            "gridcolor": "white",
            "linecolor": "white",
            "ticks": ""
           }
          },
          "scene": {
           "xaxis": {
            "backgroundcolor": "#E5ECF6",
            "gridcolor": "white",
            "gridwidth": 2,
            "linecolor": "white",
            "showbackground": true,
            "ticks": "",
            "zerolinecolor": "white"
           },
           "yaxis": {
            "backgroundcolor": "#E5ECF6",
            "gridcolor": "white",
            "gridwidth": 2,
            "linecolor": "white",
            "showbackground": true,
            "ticks": "",
            "zerolinecolor": "white"
           },
           "zaxis": {
            "backgroundcolor": "#E5ECF6",
            "gridcolor": "white",
            "gridwidth": 2,
            "linecolor": "white",
            "showbackground": true,
            "ticks": "",
            "zerolinecolor": "white"
           }
          },
          "shapedefaults": {
           "line": {
            "color": "#2a3f5f"
           }
          },
          "ternary": {
           "aaxis": {
            "gridcolor": "white",
            "linecolor": "white",
            "ticks": ""
           },
           "baxis": {
            "gridcolor": "white",
            "linecolor": "white",
            "ticks": ""
           },
           "bgcolor": "#E5ECF6",
           "caxis": {
            "gridcolor": "white",
            "linecolor": "white",
            "ticks": ""
           }
          },
          "title": {
           "x": 0.05
          },
          "xaxis": {
           "automargin": true,
           "gridcolor": "white",
           "linecolor": "white",
           "ticks": "",
           "title": {
            "standoff": 15
           },
           "zerolinecolor": "white",
           "zerolinewidth": 2
          },
          "yaxis": {
           "automargin": true,
           "gridcolor": "white",
           "linecolor": "white",
           "ticks": "",
           "title": {
            "standoff": 15
           },
           "zerolinecolor": "white",
           "zerolinewidth": 2
          }
         }
        },
        "title": {
         "text": "Scatter Plot of Unemployment Rates in 2019 (x = Index, y = rates)"
        },
        "xaxis": {
         "gridwidth": 2,
         "ticklen": 5,
         "title": {
          "text": "Country Index by alphabetical order"
         },
         "zeroline": false
        },
        "yaxis": {
         "gridwidth": 2,
         "ticklen": 5,
         "title": {
          "text": "Unemployment Rate"
         }
        }
       }
      },
      "text/html": [
       "<div>                            <div id=\"66650492-f1ba-4b7a-b581-be08188b2bfe\" class=\"plotly-graph-div\" style=\"height:525px; width:100%;\"></div>            <script type=\"text/javascript\">                require([\"plotly\"], function(Plotly) {                    window.PLOTLYENV=window.PLOTLYENV || {};                                    if (document.getElementById(\"66650492-f1ba-4b7a-b581-be08188b2bfe\")) {                    Plotly.newPlot(                        \"66650492-f1ba-4b7a-b581-be08188b2bfe\",                        [{\"marker\": {\"color\": [11.11800003, 6.886000156000001, 12.33100033, 10.33694622, 2.34800005, 9.788999557, 16.98999977, 5.2680001260000004, 4.673999786, 5.508999825, 1.4270000459999999, 5.589000225, 2.2320001130000002, 6.263999939, 4.190000057, 4.340000153, 0.713999987, 10.35999966, 18.42499924, 4.59499979, 6.413000107, 3.497999907, 12.08300018, 10.33100033, 9.116999626, 2.3420000080000003, 18.19300079, 3.680000067, 5.56400013, 3.870378192, 4.5809998510000005, 7.486999989, 7.090000152999999, 4.320000172, 3.316999912, 3.3800001139999996, 4.236000061, 9.472000122, 9.706999779, 4.335999966, 12.2489996, 11.85400009, 8.011520389, 1.638000011, 7.274000168, 1.9329999690000002, 3.042999983, 10.29500008, 4.913000107, 5.84499979, 11.70400047, 3.8956813510000003, 5.816613529, 3.830287611, 7.491865217000001, 6.763186376, 3.967999935, 10.76000023, 7.496169932999999, 5.144000053, 13.95899963, 5.114999771, 2.08100009, 6.666848568, 6.9649992439999995, 6.59499979, 4.100999832, 8.427000046, 20.00399971, 3.851000071, 14.39799976, 4.3309998510000005, 4.296000004, 9.055999756, 2.46600008, 6.433000087999999, 17.23800087, 2.459000111, 5.31099987, 11.85200024, 4.793254837, 3.628999949, 5.386000156000001, 4.447173146, 6.934999942999999, 13.78100014, 3.398999929, 5.770164567999999, 5.5302332210000005, 4.711286128, 5.4583945389999995, 4.686999798, 4.382339958, 5.355000018999999, 4.927999973, 11.38199997, 12.82199955, 2.8420000080000003, 3.8610000610000004, 9.887000084, 8.001999855, 14.71500015, 2.290999889, 4.590000153, 2.64199996, 6.329999924, 0.6769999859999999, 4.1479997630000005, 2.1819999219999997, 8.134316793, 0.625999987, 6.229000092000001, 2.8139998910000004, 18.56299973, 20.70599937, 8.069178678, 4.348260905, 4.889683791, 4.197999954, 5.134931187, 5.527787008, 23.40500069, 5.06480201, 6.352000237, 5.362999916000001, 6.519999981000001, 2.236999989, 9.019000053, 5.47300005, 1.758000016, 6.138000011, 9.825076901000001, 3.424999952, 5.592531052999999, 17.75900078, 7.223999977, 3.47300005, 1.5770000219999998, 11.52503546, 14.88300037, 6.011000156000001, 3.2409999369999998, 9.548000336, 6.673999786, 5.652999877999999, 3.323999882, 3.889743746, 20.27300072, 12.80000019, 0.474999994, 8.095999718, 6.836999893, 3.196000099, 3.3459999560000004, 1.406999946, 4.068999767, 5.356232185, 2.671000004, 9.159979502999999, 4.453000069, 3.90199995, 3.3099999430000002, 2.150000095, 2.459000111, 3.473999977, 5.6934621, 8.187000275, 2.74000001, 6.334000111, 4.809000015, 26.16900063, 2.970332224, 4.999670912, 12.09599972, 0.09099999800000001, 3.976000071, 4.585000038, 1.0299999709999998, 5.111422752, 5.927000046, 16.53499985, 6.604000092000001, 4.109000206, 0.575999975, 4.427999973, 4.110000134, 11.35099983, 12.68599987, 6.186109627, 12.24400043, 6.186806795, 8.645776074, 13.36900043, 7.334000111, 5.56099987, 4.195000172, 6.475999832, 22.08300018, 8.369999886, 1.8910000319999998, 3.91277164, 6.994651235, 2.038000107, 0.754000008, 11.0170002, 3.913000107, 8.172789853, 4.547999859, 11.36794496, 1.116999984, 5.111422752, 6.186806795, 2.6860001089999996, 16.02199936, 13.48999977, 1.980000019, 1.843000054, 8.881999968999999, 5.94048844, 8.730999947, 3.6819999219999997, 5.916999817000001, 18.88100052, 8.800999641, 8.661999702000001, 2.013000011, 4.385000229, 5.39506305, 8.359000206000001, 12.90999985, 28.18099976, 11.42500019, 4.953999996], \"colorscale\": [[0.0, \"rgb(12,51,131)\"], [0.25, \"rgb(10,136,186)\"], [0.5, \"rgb(242,211,56)\"], [0.75, \"rgb(242,143,56)\"], [1.0, \"rgb(217,30,30)\"]], \"showscale\": true, \"size\": [11.11800003, 6.886000156000001, 12.33100033, 10.33694622, 2.34800005, 9.788999557, 16.98999977, 5.2680001260000004, 4.673999786, 5.508999825, 1.4270000459999999, 5.589000225, 2.2320001130000002, 6.263999939, 4.190000057, 4.340000153, 0.713999987, 10.35999966, 18.42499924, 4.59499979, 6.413000107, 3.497999907, 12.08300018, 10.33100033, 9.116999626, 2.3420000080000003, 18.19300079, 3.680000067, 5.56400013, 3.870378192, 4.5809998510000005, 7.486999989, 7.090000152999999, 4.320000172, 3.316999912, 3.3800001139999996, 4.236000061, 9.472000122, 9.706999779, 4.335999966, 12.2489996, 11.85400009, 8.011520389, 1.638000011, 7.274000168, 1.9329999690000002, 3.042999983, 10.29500008, 4.913000107, 5.84499979, 11.70400047, 3.8956813510000003, 5.816613529, 3.830287611, 7.491865217000001, 6.763186376, 3.967999935, 10.76000023, 7.496169932999999, 5.144000053, 13.95899963, 5.114999771, 2.08100009, 6.666848568, 6.9649992439999995, 6.59499979, 4.100999832, 8.427000046, 20.00399971, 3.851000071, 14.39799976, 4.3309998510000005, 4.296000004, 9.055999756, 2.46600008, 6.433000087999999, 17.23800087, 2.459000111, 5.31099987, 11.85200024, 4.793254837, 3.628999949, 5.386000156000001, 4.447173146, 6.934999942999999, 13.78100014, 3.398999929, 5.770164567999999, 5.5302332210000005, 4.711286128, 5.4583945389999995, 4.686999798, 4.382339958, 5.355000018999999, 4.927999973, 11.38199997, 12.82199955, 2.8420000080000003, 3.8610000610000004, 9.887000084, 8.001999855, 14.71500015, 2.290999889, 4.590000153, 2.64199996, 6.329999924, 0.6769999859999999, 4.1479997630000005, 2.1819999219999997, 8.134316793, 0.625999987, 6.229000092000001, 2.8139998910000004, 18.56299973, 20.70599937, 8.069178678, 4.348260905, 4.889683791, 4.197999954, 5.134931187, 5.527787008, 23.40500069, 5.06480201, 6.352000237, 5.362999916000001, 6.519999981000001, 2.236999989, 9.019000053, 5.47300005, 1.758000016, 6.138000011, 9.825076901000001, 3.424999952, 5.592531052999999, 17.75900078, 7.223999977, 3.47300005, 1.5770000219999998, 11.52503546, 14.88300037, 6.011000156000001, 3.2409999369999998, 9.548000336, 6.673999786, 5.652999877999999, 3.323999882, 3.889743746, 20.27300072, 12.80000019, 0.474999994, 8.095999718, 6.836999893, 3.196000099, 3.3459999560000004, 1.406999946, 4.068999767, 5.356232185, 2.671000004, 9.159979502999999, 4.453000069, 3.90199995, 3.3099999430000002, 2.150000095, 2.459000111, 3.473999977, 5.6934621, 8.187000275, 2.74000001, 6.334000111, 4.809000015, 26.16900063, 2.970332224, 4.999670912, 12.09599972, 0.09099999800000001, 3.976000071, 4.585000038, 1.0299999709999998, 5.111422752, 5.927000046, 16.53499985, 6.604000092000001, 4.109000206, 0.575999975, 4.427999973, 4.110000134, 11.35099983, 12.68599987, 6.186109627, 12.24400043, 6.186806795, 8.645776074, 13.36900043, 7.334000111, 5.56099987, 4.195000172, 6.475999832, 22.08300018, 8.369999886, 1.8910000319999998, 3.91277164, 6.994651235, 2.038000107, 0.754000008, 11.0170002, 3.913000107, 8.172789853, 4.547999859, 11.36794496, 1.116999984, 5.111422752, 6.186806795, 2.6860001089999996, 16.02199936, 13.48999977, 1.980000019, 1.843000054, 8.881999968999999, 5.94048844, 8.730999947, 3.6819999219999997, 5.916999817000001, 18.88100052, 8.800999641, 8.661999702000001, 2.013000011, 4.385000229, 5.39506305, 8.359000206000001, 12.90999985, 28.18099976, 11.42500019, 4.953999996]}, \"mode\": \"markers\", \"text\": [\"Afghanistan\", \"Angola\", \"Albania\", \"Arab World\", \"United Arab Emirates\", \"Argentina\", \"Armenia\", \"Australia\", \"Austria\", \"Azerbaijan\", \"Burundi\", \"Belgium\", \"Benin\", \"Burkina Faso\", \"Bangladesh\", \"Bulgaria\", \"Bahrain\", \"Bahamas, The\", \"Bosnia and Herzegovina\", \"Belarus\", \"Belize\", \"Bolivia\", \"Brazil\", \"Barbados\", \"Brunei Darussalam\", \"Bhutan\", \"Botswana\", \"Central African Republic\", \"Canada\", \"Central Europe and the Baltics\", \"Switzerland\", \"Channel Islands\", \"Chile\", \"China\", \"Cote d'Ivoire\", \"Cameroon\", \"Congo, Dem. Rep.\", \"Congo, Rep.\", \"Colombia\", \"Comoros\", \"Cabo Verde\", \"Costa Rica\", \"Caribbean small states\", \"Cuba\", \"Cyprus\", \"Czech Republic\", \"Germany\", \"Djibouti\", \"Denmark\", \"Dominican Republic\", \"Algeria\", \"East Asia & Pacific (excluding high income)\", \"Early-demographic dividend\", \"East Asia & Pacific\", \"Europe & Central Asia (excluding high income)\", \"Europe & Central Asia\", \"Ecuador\", \"Egypt, Arab Rep.\", \"Euro area\", \"Eritrea\", \"Spain\", \"Estonia\", \"Ethiopia\", \"European Union\", \"Fragile and conflict affected situations\", \"Finland\", \"Fiji\", \"France\", \"Gabon\", \"United Kingdom\", \"Georgia\", \"Ghana\", \"Guinea\", \"Gambia, The\", \"Guinea-Bissau\", \"Equatorial Guinea\", \"Greece\", \"Guatemala\", \"Guam\", \"Guyana\", \"High income\", \"Hong Kong SAR, China\", \"Honduras\", \"Heavily indebted poor countries (HIPC)\", \"Croatia\", \"Haiti\", \"Hungary\", \"IBRD only\", \"IDA & IBRD total\", \"IDA total\", \"IDA blend\", \"Indonesia\", \"IDA only\", \"India\", \"Ireland\", \"Iran, Islamic Rep.\", \"Iraq\", \"Iceland\", \"Israel\", \"Italy\", \"Jamaica\", \"Jordan\", \"Japan\", \"Kazakhstan\", \"Kenya\", \"Kyrgyz Republic\", \"Cambodia\", \"Korea, Rep.\", \"Kuwait\", \"Latin America & Caribbean (excluding high income)\", \"Lao PDR\", \"Lebanon\", \"Liberia\", \"Libya\", \"St. Lucia\", \"Latin America & Caribbean\", \"Least developed countries: UN classification\", \"Low income\", \"Sri Lanka\", \"Lower middle income\", \"Low & middle income\", \"Lesotho\", \"Late-demographic dividend\", \"Lithuania\", \"Luxembourg\", \"Latvia\", \"Macao SAR, China\", \"Morocco\", \"Moldova\", \"Madagascar\", \"Maldives\", \"Middle East & North Africa\", \"Mexico\", \"Middle income\", \"North Macedonia\", \"Mali\", \"Malta\", \"Myanmar\", \"Middle East & North Africa (excluding high income)\", \"Montenegro\", \"Mongolia\", \"Mozambique\", \"Mauritania\", \"Mauritius\", \"Malawi\", \"Malaysia\", \"North America\", \"Namibia\", \"New Caledonia\", \"Niger\", \"Nigeria\", \"Nicaragua\", \"Netherlands\", \"Norway\", \"Nepal\", \"New Zealand\", \"OECD members\", \"Oman\", \"Other small states\", \"Pakistan\", \"Panama\", \"Peru\", \"Philippines\", \"Papua New Guinea\", \"Poland\", \"Pre-demographic dividend\", \"Puerto Rico\", \"Korea, Dem. People\\u2019s Rep.\", \"Portugal\", \"Paraguay\", \"West Bank and Gaza\", \"Pacific island small states\", \"Post-demographic dividend\", \"French Polynesia\", \"Qatar\", \"Romania\", \"Russian Federation\", \"Rwanda\", \"South Asia\", \"Saudi Arabia\", \"Sudan\", \"Senegal\", \"Singapore\", \"Solomon Islands\", \"Sierra Leone\", \"El Salvador\", \"Somalia\", \"Serbia\", \"Sub-Saharan Africa (excluding high income)\", \"South Sudan\", \"Sub-Saharan Africa\", \"Small states\", \"Sao Tome and Principe\", \"Suriname\", \"Slovak Republic\", \"Slovenia\", \"Sweden\", \"Eswatini\", \"Syrian Arab Republic\", \"Chad\", \"East Asia & Pacific (IDA & IBRD countries)\", \"Europe & Central Asia (IDA & IBRD countries)\", \"Togo\", \"Thailand\", \"Tajikistan\", \"Turkmenistan\", \"Latin America & the Caribbean (IDA & IBRD countries)\", \"Timor-Leste\", \"Middle East & North Africa (IDA & IBRD countries)\", \"Tonga\", \"South Asia (IDA & IBRD)\", \"Sub-Saharan Africa (IDA & IBRD countries)\", \"Trinidad and Tobago\", \"Tunisia\", \"Turkey\", \"Tanzania\", \"Uganda\", \"Ukraine\", \"Upper middle income\", \"Uruguay\", \"United States\", \"Uzbekistan\", \"St. Vincent and the Grenadines\", \"Venezuela, RB\", \"Virgin Islands (U.S.)\", \"Vietnam\", \"Vanuatu\", \"World\", \"Samoa\", \"Yemen, Rep.\", \"South Africa\", \"Zambia\", \"Zimbabwe\"], \"type\": \"scatter\", \"y\": [11.11800003, 6.886000156000001, 12.33100033, 10.33694622, 2.34800005, 9.788999557, 16.98999977, 5.2680001260000004, 4.673999786, 5.508999825, 1.4270000459999999, 5.589000225, 2.2320001130000002, 6.263999939, 4.190000057, 4.340000153, 0.713999987, 10.35999966, 18.42499924, 4.59499979, 6.413000107, 3.497999907, 12.08300018, 10.33100033, 9.116999626, 2.3420000080000003, 18.19300079, 3.680000067, 5.56400013, 3.870378192, 4.5809998510000005, 7.486999989, 7.090000152999999, 4.320000172, 3.316999912, 3.3800001139999996, 4.236000061, 9.472000122, 9.706999779, 4.335999966, 12.2489996, 11.85400009, 8.011520389, 1.638000011, 7.274000168, 1.9329999690000002, 3.042999983, 10.29500008, 4.913000107, 5.84499979, 11.70400047, 3.8956813510000003, 5.816613529, 3.830287611, 7.491865217000001, 6.763186376, 3.967999935, 10.76000023, 7.496169932999999, 5.144000053, 13.95899963, 5.114999771, 2.08100009, 6.666848568, 6.9649992439999995, 6.59499979, 4.100999832, 8.427000046, 20.00399971, 3.851000071, 14.39799976, 4.3309998510000005, 4.296000004, 9.055999756, 2.46600008, 6.433000087999999, 17.23800087, 2.459000111, 5.31099987, 11.85200024, 4.793254837, 3.628999949, 5.386000156000001, 4.447173146, 6.934999942999999, 13.78100014, 3.398999929, 5.770164567999999, 5.5302332210000005, 4.711286128, 5.4583945389999995, 4.686999798, 4.382339958, 5.355000018999999, 4.927999973, 11.38199997, 12.82199955, 2.8420000080000003, 3.8610000610000004, 9.887000084, 8.001999855, 14.71500015, 2.290999889, 4.590000153, 2.64199996, 6.329999924, 0.6769999859999999, 4.1479997630000005, 2.1819999219999997, 8.134316793, 0.625999987, 6.229000092000001, 2.8139998910000004, 18.56299973, 20.70599937, 8.069178678, 4.348260905, 4.889683791, 4.197999954, 5.134931187, 5.527787008, 23.40500069, 5.06480201, 6.352000237, 5.362999916000001, 6.519999981000001, 2.236999989, 9.019000053, 5.47300005, 1.758000016, 6.138000011, 9.825076901000001, 3.424999952, 5.592531052999999, 17.75900078, 7.223999977, 3.47300005, 1.5770000219999998, 11.52503546, 14.88300037, 6.011000156000001, 3.2409999369999998, 9.548000336, 6.673999786, 5.652999877999999, 3.323999882, 3.889743746, 20.27300072, 12.80000019, 0.474999994, 8.095999718, 6.836999893, 3.196000099, 3.3459999560000004, 1.406999946, 4.068999767, 5.356232185, 2.671000004, 9.159979502999999, 4.453000069, 3.90199995, 3.3099999430000002, 2.150000095, 2.459000111, 3.473999977, 5.6934621, 8.187000275, 2.74000001, 6.334000111, 4.809000015, 26.16900063, 2.970332224, 4.999670912, 12.09599972, 0.09099999800000001, 3.976000071, 4.585000038, 1.0299999709999998, 5.111422752, 5.927000046, 16.53499985, 6.604000092000001, 4.109000206, 0.575999975, 4.427999973, 4.110000134, 11.35099983, 12.68599987, 6.186109627, 12.24400043, 6.186806795, 8.645776074, 13.36900043, 7.334000111, 5.56099987, 4.195000172, 6.475999832, 22.08300018, 8.369999886, 1.8910000319999998, 3.91277164, 6.994651235, 2.038000107, 0.754000008, 11.0170002, 3.913000107, 8.172789853, 4.547999859, 11.36794496, 1.116999984, 5.111422752, 6.186806795, 2.6860001089999996, 16.02199936, 13.48999977, 1.980000019, 1.843000054, 8.881999968999999, 5.94048844, 8.730999947, 3.6819999219999997, 5.916999817000001, 18.88100052, 8.800999641, 8.661999702000001, 2.013000011, 4.385000229, 5.39506305, 8.359000206000001, 12.90999985, 28.18099976, 11.42500019, 4.953999996]}],                        {\"autosize\": true, \"hovermode\": \"closest\", \"showlegend\": false, \"template\": {\"data\": {\"bar\": [{\"error_x\": {\"color\": \"#2a3f5f\"}, \"error_y\": {\"color\": \"#2a3f5f\"}, \"marker\": {\"line\": {\"color\": \"#E5ECF6\", \"width\": 0.5}}, \"type\": \"bar\"}], \"barpolar\": [{\"marker\": {\"line\": {\"color\": \"#E5ECF6\", \"width\": 0.5}}, \"type\": \"barpolar\"}], \"carpet\": [{\"aaxis\": {\"endlinecolor\": \"#2a3f5f\", \"gridcolor\": \"white\", \"linecolor\": \"white\", \"minorgridcolor\": \"white\", \"startlinecolor\": \"#2a3f5f\"}, \"baxis\": {\"endlinecolor\": \"#2a3f5f\", \"gridcolor\": \"white\", \"linecolor\": \"white\", \"minorgridcolor\": \"white\", \"startlinecolor\": \"#2a3f5f\"}, \"type\": \"carpet\"}], \"choropleth\": [{\"colorbar\": {\"outlinewidth\": 0, \"ticks\": \"\"}, \"type\": \"choropleth\"}], \"contour\": [{\"colorbar\": {\"outlinewidth\": 0, \"ticks\": \"\"}, \"colorscale\": [[0.0, \"#0d0887\"], [0.1111111111111111, \"#46039f\"], [0.2222222222222222, \"#7201a8\"], [0.3333333333333333, \"#9c179e\"], [0.4444444444444444, \"#bd3786\"], [0.5555555555555556, \"#d8576b\"], [0.6666666666666666, \"#ed7953\"], [0.7777777777777778, \"#fb9f3a\"], [0.8888888888888888, \"#fdca26\"], [1.0, \"#f0f921\"]], \"type\": \"contour\"}], \"contourcarpet\": [{\"colorbar\": {\"outlinewidth\": 0, \"ticks\": \"\"}, \"type\": \"contourcarpet\"}], \"heatmap\": [{\"colorbar\": {\"outlinewidth\": 0, \"ticks\": \"\"}, \"colorscale\": [[0.0, \"#0d0887\"], [0.1111111111111111, \"#46039f\"], [0.2222222222222222, \"#7201a8\"], [0.3333333333333333, \"#9c179e\"], [0.4444444444444444, \"#bd3786\"], [0.5555555555555556, \"#d8576b\"], [0.6666666666666666, \"#ed7953\"], [0.7777777777777778, \"#fb9f3a\"], [0.8888888888888888, \"#fdca26\"], [1.0, \"#f0f921\"]], \"type\": \"heatmap\"}], \"heatmapgl\": [{\"colorbar\": {\"outlinewidth\": 0, \"ticks\": \"\"}, \"colorscale\": [[0.0, \"#0d0887\"], [0.1111111111111111, \"#46039f\"], [0.2222222222222222, \"#7201a8\"], [0.3333333333333333, \"#9c179e\"], [0.4444444444444444, \"#bd3786\"], [0.5555555555555556, \"#d8576b\"], [0.6666666666666666, \"#ed7953\"], [0.7777777777777778, \"#fb9f3a\"], [0.8888888888888888, \"#fdca26\"], [1.0, \"#f0f921\"]], \"type\": \"heatmapgl\"}], \"histogram\": [{\"marker\": {\"colorbar\": {\"outlinewidth\": 0, \"ticks\": \"\"}}, \"type\": \"histogram\"}], \"histogram2d\": [{\"colorbar\": {\"outlinewidth\": 0, \"ticks\": \"\"}, \"colorscale\": [[0.0, \"#0d0887\"], [0.1111111111111111, \"#46039f\"], [0.2222222222222222, \"#7201a8\"], [0.3333333333333333, \"#9c179e\"], [0.4444444444444444, \"#bd3786\"], [0.5555555555555556, \"#d8576b\"], [0.6666666666666666, \"#ed7953\"], [0.7777777777777778, \"#fb9f3a\"], [0.8888888888888888, \"#fdca26\"], [1.0, \"#f0f921\"]], \"type\": \"histogram2d\"}], \"histogram2dcontour\": [{\"colorbar\": {\"outlinewidth\": 0, \"ticks\": \"\"}, \"colorscale\": [[0.0, \"#0d0887\"], [0.1111111111111111, \"#46039f\"], [0.2222222222222222, \"#7201a8\"], [0.3333333333333333, \"#9c179e\"], [0.4444444444444444, \"#bd3786\"], [0.5555555555555556, \"#d8576b\"], [0.6666666666666666, \"#ed7953\"], [0.7777777777777778, \"#fb9f3a\"], [0.8888888888888888, \"#fdca26\"], [1.0, \"#f0f921\"]], \"type\": \"histogram2dcontour\"}], \"mesh3d\": [{\"colorbar\": {\"outlinewidth\": 0, \"ticks\": \"\"}, \"type\": \"mesh3d\"}], \"parcoords\": [{\"line\": {\"colorbar\": {\"outlinewidth\": 0, \"ticks\": \"\"}}, \"type\": \"parcoords\"}], \"pie\": [{\"automargin\": true, \"type\": \"pie\"}], \"scatter\": [{\"marker\": {\"colorbar\": {\"outlinewidth\": 0, \"ticks\": \"\"}}, \"type\": \"scatter\"}], \"scatter3d\": [{\"line\": {\"colorbar\": {\"outlinewidth\": 0, \"ticks\": \"\"}}, \"marker\": {\"colorbar\": {\"outlinewidth\": 0, \"ticks\": \"\"}}, \"type\": \"scatter3d\"}], \"scattercarpet\": [{\"marker\": {\"colorbar\": {\"outlinewidth\": 0, \"ticks\": \"\"}}, \"type\": \"scattercarpet\"}], \"scattergeo\": [{\"marker\": {\"colorbar\": {\"outlinewidth\": 0, \"ticks\": \"\"}}, \"type\": \"scattergeo\"}], \"scattergl\": [{\"marker\": {\"colorbar\": {\"outlinewidth\": 0, \"ticks\": \"\"}}, \"type\": \"scattergl\"}], \"scattermapbox\": [{\"marker\": {\"colorbar\": {\"outlinewidth\": 0, \"ticks\": \"\"}}, \"type\": \"scattermapbox\"}], \"scatterpolar\": [{\"marker\": {\"colorbar\": {\"outlinewidth\": 0, \"ticks\": \"\"}}, \"type\": \"scatterpolar\"}], \"scatterpolargl\": [{\"marker\": {\"colorbar\": {\"outlinewidth\": 0, \"ticks\": \"\"}}, \"type\": \"scatterpolargl\"}], \"scatterternary\": [{\"marker\": {\"colorbar\": {\"outlinewidth\": 0, \"ticks\": \"\"}}, \"type\": \"scatterternary\"}], \"surface\": [{\"colorbar\": {\"outlinewidth\": 0, \"ticks\": \"\"}, \"colorscale\": [[0.0, \"#0d0887\"], [0.1111111111111111, \"#46039f\"], [0.2222222222222222, \"#7201a8\"], [0.3333333333333333, \"#9c179e\"], [0.4444444444444444, \"#bd3786\"], [0.5555555555555556, \"#d8576b\"], [0.6666666666666666, \"#ed7953\"], [0.7777777777777778, \"#fb9f3a\"], [0.8888888888888888, \"#fdca26\"], [1.0, \"#f0f921\"]], \"type\": \"surface\"}], \"table\": [{\"cells\": {\"fill\": {\"color\": \"#EBF0F8\"}, \"line\": {\"color\": \"white\"}}, \"header\": {\"fill\": {\"color\": \"#C8D4E3\"}, \"line\": {\"color\": \"white\"}}, \"type\": \"table\"}]}, \"layout\": {\"annotationdefaults\": {\"arrowcolor\": \"#2a3f5f\", \"arrowhead\": 0, \"arrowwidth\": 1}, \"autotypenumbers\": \"strict\", \"coloraxis\": {\"colorbar\": {\"outlinewidth\": 0, \"ticks\": \"\"}}, \"colorscale\": {\"diverging\": [[0, \"#8e0152\"], [0.1, \"#c51b7d\"], [0.2, \"#de77ae\"], [0.3, \"#f1b6da\"], [0.4, \"#fde0ef\"], [0.5, \"#f7f7f7\"], [0.6, \"#e6f5d0\"], [0.7, \"#b8e186\"], [0.8, \"#7fbc41\"], [0.9, \"#4d9221\"], [1, \"#276419\"]], \"sequential\": [[0.0, \"#0d0887\"], [0.1111111111111111, \"#46039f\"], [0.2222222222222222, \"#7201a8\"], [0.3333333333333333, \"#9c179e\"], [0.4444444444444444, \"#bd3786\"], [0.5555555555555556, \"#d8576b\"], [0.6666666666666666, \"#ed7953\"], [0.7777777777777778, \"#fb9f3a\"], [0.8888888888888888, \"#fdca26\"], [1.0, \"#f0f921\"]], \"sequentialminus\": [[0.0, \"#0d0887\"], [0.1111111111111111, \"#46039f\"], [0.2222222222222222, \"#7201a8\"], [0.3333333333333333, \"#9c179e\"], [0.4444444444444444, \"#bd3786\"], [0.5555555555555556, \"#d8576b\"], [0.6666666666666666, \"#ed7953\"], [0.7777777777777778, \"#fb9f3a\"], [0.8888888888888888, \"#fdca26\"], [1.0, \"#f0f921\"]]}, \"colorway\": [\"#636efa\", \"#EF553B\", \"#00cc96\", \"#ab63fa\", \"#FFA15A\", \"#19d3f3\", \"#FF6692\", \"#B6E880\", \"#FF97FF\", \"#FECB52\"], \"font\": {\"color\": \"#2a3f5f\"}, \"geo\": {\"bgcolor\": \"white\", \"lakecolor\": \"white\", \"landcolor\": \"#E5ECF6\", \"showlakes\": true, \"showland\": true, \"subunitcolor\": \"white\"}, \"hoverlabel\": {\"align\": \"left\"}, \"hovermode\": \"closest\", \"mapbox\": {\"style\": \"light\"}, \"paper_bgcolor\": \"white\", \"plot_bgcolor\": \"#E5ECF6\", \"polar\": {\"angularaxis\": {\"gridcolor\": \"white\", \"linecolor\": \"white\", \"ticks\": \"\"}, \"bgcolor\": \"#E5ECF6\", \"radialaxis\": {\"gridcolor\": \"white\", \"linecolor\": \"white\", \"ticks\": \"\"}}, \"scene\": {\"xaxis\": {\"backgroundcolor\": \"#E5ECF6\", \"gridcolor\": \"white\", \"gridwidth\": 2, \"linecolor\": \"white\", \"showbackground\": true, \"ticks\": \"\", \"zerolinecolor\": \"white\"}, \"yaxis\": {\"backgroundcolor\": \"#E5ECF6\", \"gridcolor\": \"white\", \"gridwidth\": 2, \"linecolor\": \"white\", \"showbackground\": true, \"ticks\": \"\", \"zerolinecolor\": \"white\"}, \"zaxis\": {\"backgroundcolor\": \"#E5ECF6\", \"gridcolor\": \"white\", \"gridwidth\": 2, \"linecolor\": \"white\", \"showbackground\": true, \"ticks\": \"\", \"zerolinecolor\": \"white\"}}, \"shapedefaults\": {\"line\": {\"color\": \"#2a3f5f\"}}, \"ternary\": {\"aaxis\": {\"gridcolor\": \"white\", \"linecolor\": \"white\", \"ticks\": \"\"}, \"baxis\": {\"gridcolor\": \"white\", \"linecolor\": \"white\", \"ticks\": \"\"}, \"bgcolor\": \"#E5ECF6\", \"caxis\": {\"gridcolor\": \"white\", \"linecolor\": \"white\", \"ticks\": \"\"}}, \"title\": {\"x\": 0.05}, \"xaxis\": {\"automargin\": true, \"gridcolor\": \"white\", \"linecolor\": \"white\", \"ticks\": \"\", \"title\": {\"standoff\": 15}, \"zerolinecolor\": \"white\", \"zerolinewidth\": 2}, \"yaxis\": {\"automargin\": true, \"gridcolor\": \"white\", \"linecolor\": \"white\", \"ticks\": \"\", \"title\": {\"standoff\": 15}, \"zerolinecolor\": \"white\", \"zerolinewidth\": 2}}}, \"title\": {\"text\": \"Scatter Plot of Unemployment Rates in 2019 (x = Index, y = rates)\"}, \"xaxis\": {\"gridwidth\": 2, \"ticklen\": 5, \"title\": {\"text\": \"Country Index by alphabetical order\"}, \"zeroline\": false}, \"yaxis\": {\"gridwidth\": 2, \"ticklen\": 5, \"title\": {\"text\": \"Unemployment Rate\"}}},                        {\"responsive\": true}                    ).then(function(){\n",
       "                            \n",
       "var gd = document.getElementById('66650492-f1ba-4b7a-b581-be08188b2bfe');\n",
       "var x = new MutationObserver(function (mutations, observer) {{\n",
       "        var display = window.getComputedStyle(gd).display;\n",
       "        if (!display || display === 'none') {{\n",
       "            console.log([gd, 'removed!']);\n",
       "            Plotly.purge(gd);\n",
       "            observer.disconnect();\n",
       "        }}\n",
       "}});\n",
       "\n",
       "// Listen for the removal of the full notebook cells\n",
       "var notebookContainer = gd.closest('#notebook-container');\n",
       "if (notebookContainer) {{\n",
       "    x.observe(notebookContainer, {childList: true});\n",
       "}}\n",
       "\n",
       "// Listen for the clearing of the current output cell\n",
       "var outputEl = gd.closest('.output');\n",
       "if (outputEl) {{\n",
       "    x.observe(outputEl, {childList: true});\n",
       "}}\n",
       "\n",
       "                        })                };                });            </script>        </div>"
      ]
     },
     "metadata": {},
     "output_type": "display_data"
    },
    {
     "data": {
      "application/vnd.plotly.v1+json": {
       "config": {
        "linkText": "Export to plot.ly",
        "plotlyServerURL": "https://plot.ly",
        "showLink": false
       },
       "data": [
        {
         "marker": {
          "color": [
           11.16399956,
           6.774000168,
           12.81299973,
           10.19147219,
           2.447000027,
           10.43599987,
           16.625,
           5.328000069,
           4.778999805,
           5.9600000379999996,
           1.407999992,
           5.691999912000001,
           2.023000002,
           6.414000034,
           4.151000023,
           3.849999905,
           0.7630000109999999,
           11.27000046,
           18.43799973,
           4.625,
           6.3569998739999996,
           3.450000048,
           11.9659996,
           10.93799973,
           9.043999672,
           2.390000105,
           18.72100067,
           3.696000099,
           5.412000179,
           3.6418477869999997,
           4.848999977,
           7.534999847000001,
           7.096000195,
           4.3699998860000004,
           3.423000097,
           3.427999973,
           4.25,
           9.281999588,
           9.744000435,
           4.366000175,
           12.31799984,
           12.73400021,
           8.092526873999999,
           1.5900000330000001,
           7.234000206,
           1.9099999669999999,
           3.025000095,
           10.32299995,
           4.846000195,
           5.9190001489999995,
           11.52499962,
           3.9514128860000004,
           5.84416443,
           3.8978883669999997,
           7.376411121,
           6.631571683,
           4.237999916000001,
           10.12800026,
           7.25474786,
           5.171999931,
           13.01500034,
           5.379000187000001,
           2.082000017,
           6.445279815,
           6.994557176,
           6.65899992,
           4.079999924,
           8.338000297999999,
           20.14500046,
           4.114999771,
           14.74199963,
           4.508999825,
           4.329999924,
           9.107000351,
           2.486999989,
           6.46999979,
           15.47399998,
           2.506999969,
           5.6750001910000005,
           11.81299973,
           4.811218412,
           4.264999866,
           5.229000092,
           4.477224919,
           7.113999843999999,
           13.91499996,
           3.460000038,
           5.801744919,
           5.552639069,
           4.720010308,
           5.425470438,
           4.835000038,
           4.410047533999999,
           5.399000168,
           5.157999992,
           11.18099976,
           12.82499981,
           3.2219998839999997,
           3.7790000439999996,
           9.836000443,
           7.9499998089999995,
           14.61299992,
           2.338999987,
           4.551000118,
           2.6459999080000003,
           6.6430001260000004,
           0.69599998,
           4.597000122,
           2.302999973,
           8.208613324,
           0.6019999979999999,
           6.276000023,
           2.724999905,
           18.62599945,
           20.14999962,
           8.141540487,
           4.3633873219999995,
           4.913977185,
           4.177999973,
           5.1322451860000005,
           5.55321215,
           22.83099937,
           5.08484507,
           6.261000156000001,
           5.243999958,
           6.532999992000001,
           2.505000114,
           8.954999924,
           5.364999771,
           1.832999945,
           6.434000015,
           9.636612298,
           3.6540000439999996,
           5.619500691,
           16.43899918,
           7.34100008,
           3.367000103,
           1.710999966,
           11.29630708,
           14.75599957,
           5.946000099,
           3.242000103,
           9.61400032,
           6.68900013,
           5.673999786,
           3.378000021,
           4.03348776,
           20.58699989,
           12.78100014,
           0.485000014,
           7.9600000379999996,
           7.355000018999999,
           2.974999905,
           3.3099999430000002,
           1.4659999609999999,
           4.013000011,
           5.365522499,
           2.546000004,
           9.214162667,
           4.445000172,
           3.825000048,
           3.196000099,
           2.164000034,
           2.486999989,
           3.039999962,
           5.679897304,
           8.413999557,
           2.7639999389999996,
           5.933000087999999,
           4.835999966,
           26.09799957,
           2.9439423330000003,
           5.030064089,
           11.93400002,
           0.082000002,
           3.921999931,
           4.4250001910000005,
           1.041000009,
           5.140202803999999,
           5.857999802,
           16.61800003,
           6.676000117999999,
           4.3800001139999996,
           0.541999996,
           4.440999985,
           4.196000099,
           11.39999962,
           12.72200012,
           6.1750409170000005,
           12.25699997,
           6.175756538,
           8.702974863,
           13.67099953,
           7.472000122000001,
           5.104000092,
           3.8020000460000003,
           6.673999786,
           21.97100067,
           8.447999954,
           1.942999959,
           3.9690323530000002,
           6.8602548389999995,
           2.005000114,
           0.8029999729999999,
           10.98900032,
           4.071000099,
           8.244177129,
           4.603000164,
           11.13439221,
           1.156999946,
           5.140202803999999,
           6.175756538,
           2.7950000760000004,
           16.15399933,
           12.94099998,
           1.980999947,
           1.91900003,
           8.934000015,
           5.9953467279999995,
           8.777000427,
           3.8619999889999996,
           6.081999778999999,
           18.87000084,
           9.380999565,
           8.758999825,
           2.022000074,
           4.407999992,
           5.420152616,
           8.354999542,
           12.82999992,
           28.47699928,
           11.411999699999999,
           4.991000175
          ],
          "colorscale": [
           [
            0,
            "rgb(12,51,131)"
           ],
           [
            0.25,
            "rgb(10,136,186)"
           ],
           [
            0.5,
            "rgb(242,211,56)"
           ],
           [
            0.75,
            "rgb(242,143,56)"
           ],
           [
            1,
            "rgb(217,30,30)"
           ]
          ],
          "showscale": true,
          "size": [
           11.16399956,
           6.774000168,
           12.81299973,
           10.19147219,
           2.447000027,
           10.43599987,
           16.625,
           5.328000069,
           4.778999805,
           5.9600000379999996,
           1.407999992,
           5.691999912000001,
           2.023000002,
           6.414000034,
           4.151000023,
           3.849999905,
           0.7630000109999999,
           11.27000046,
           18.43799973,
           4.625,
           6.3569998739999996,
           3.450000048,
           11.9659996,
           10.93799973,
           9.043999672,
           2.390000105,
           18.72100067,
           3.696000099,
           5.412000179,
           3.6418477869999997,
           4.848999977,
           7.534999847000001,
           7.096000195,
           4.3699998860000004,
           3.423000097,
           3.427999973,
           4.25,
           9.281999588,
           9.744000435,
           4.366000175,
           12.31799984,
           12.73400021,
           8.092526873999999,
           1.5900000330000001,
           7.234000206,
           1.9099999669999999,
           3.025000095,
           10.32299995,
           4.846000195,
           5.9190001489999995,
           11.52499962,
           3.9514128860000004,
           5.84416443,
           3.8978883669999997,
           7.376411121,
           6.631571683,
           4.237999916000001,
           10.12800026,
           7.25474786,
           5.171999931,
           13.01500034,
           5.379000187000001,
           2.082000017,
           6.445279815,
           6.994557176,
           6.65899992,
           4.079999924,
           8.338000297999999,
           20.14500046,
           4.114999771,
           14.74199963,
           4.508999825,
           4.329999924,
           9.107000351,
           2.486999989,
           6.46999979,
           15.47399998,
           2.506999969,
           5.6750001910000005,
           11.81299973,
           4.811218412,
           4.264999866,
           5.229000092,
           4.477224919,
           7.113999843999999,
           13.91499996,
           3.460000038,
           5.801744919,
           5.552639069,
           4.720010308,
           5.425470438,
           4.835000038,
           4.410047533999999,
           5.399000168,
           5.157999992,
           11.18099976,
           12.82499981,
           3.2219998839999997,
           3.7790000439999996,
           9.836000443,
           7.9499998089999995,
           14.61299992,
           2.338999987,
           4.551000118,
           2.6459999080000003,
           6.6430001260000004,
           0.69599998,
           4.597000122,
           2.302999973,
           8.208613324,
           0.6019999979999999,
           6.276000023,
           2.724999905,
           18.62599945,
           20.14999962,
           8.141540487,
           4.3633873219999995,
           4.913977185,
           4.177999973,
           5.1322451860000005,
           5.55321215,
           22.83099937,
           5.08484507,
           6.261000156000001,
           5.243999958,
           6.532999992000001,
           2.505000114,
           8.954999924,
           5.364999771,
           1.832999945,
           6.434000015,
           9.636612298,
           3.6540000439999996,
           5.619500691,
           16.43899918,
           7.34100008,
           3.367000103,
           1.710999966,
           11.29630708,
           14.75599957,
           5.946000099,
           3.242000103,
           9.61400032,
           6.68900013,
           5.673999786,
           3.378000021,
           4.03348776,
           20.58699989,
           12.78100014,
           0.485000014,
           7.9600000379999996,
           7.355000018999999,
           2.974999905,
           3.3099999430000002,
           1.4659999609999999,
           4.013000011,
           5.365522499,
           2.546000004,
           9.214162667,
           4.445000172,
           3.825000048,
           3.196000099,
           2.164000034,
           2.486999989,
           3.039999962,
           5.679897304,
           8.413999557,
           2.7639999389999996,
           5.933000087999999,
           4.835999966,
           26.09799957,
           2.9439423330000003,
           5.030064089,
           11.93400002,
           0.082000002,
           3.921999931,
           4.4250001910000005,
           1.041000009,
           5.140202803999999,
           5.857999802,
           16.61800003,
           6.676000117999999,
           4.3800001139999996,
           0.541999996,
           4.440999985,
           4.196000099,
           11.39999962,
           12.72200012,
           6.1750409170000005,
           12.25699997,
           6.175756538,
           8.702974863,
           13.67099953,
           7.472000122000001,
           5.104000092,
           3.8020000460000003,
           6.673999786,
           21.97100067,
           8.447999954,
           1.942999959,
           3.9690323530000002,
           6.8602548389999995,
           2.005000114,
           0.8029999729999999,
           10.98900032,
           4.071000099,
           8.244177129,
           4.603000164,
           11.13439221,
           1.156999946,
           5.140202803999999,
           6.175756538,
           2.7950000760000004,
           16.15399933,
           12.94099998,
           1.980999947,
           1.91900003,
           8.934000015,
           5.9953467279999995,
           8.777000427,
           3.8619999889999996,
           6.081999778999999,
           18.87000084,
           9.380999565,
           8.758999825,
           2.022000074,
           4.407999992,
           5.420152616,
           8.354999542,
           12.82999992,
           28.47699928,
           11.411999699999999,
           4.991000175
          ]
         },
         "mode": "markers",
         "text": [
          "Afghanistan",
          "Angola",
          "Albania",
          "Arab World",
          "United Arab Emirates",
          "Argentina",
          "Armenia",
          "Australia",
          "Austria",
          "Azerbaijan",
          "Burundi",
          "Belgium",
          "Benin",
          "Burkina Faso",
          "Bangladesh",
          "Bulgaria",
          "Bahrain",
          "Bahamas, The",
          "Bosnia and Herzegovina",
          "Belarus",
          "Belize",
          "Bolivia",
          "Brazil",
          "Barbados",
          "Brunei Darussalam",
          "Bhutan",
          "Botswana",
          "Central African Republic",
          "Canada",
          "Central Europe and the Baltics",
          "Switzerland",
          "Channel Islands",
          "Chile",
          "China",
          "Cote d'Ivoire",
          "Cameroon",
          "Congo, Dem. Rep.",
          "Congo, Rep.",
          "Colombia",
          "Comoros",
          "Cabo Verde",
          "Costa Rica",
          "Caribbean small states",
          "Cuba",
          "Cyprus",
          "Czech Republic",
          "Germany",
          "Djibouti",
          "Denmark",
          "Dominican Republic",
          "Algeria",
          "East Asia & Pacific (excluding high income)",
          "Early-demographic dividend",
          "East Asia & Pacific",
          "Europe & Central Asia (excluding high income)",
          "Europe & Central Asia",
          "Ecuador",
          "Egypt, Arab Rep.",
          "Euro area",
          "Eritrea",
          "Spain",
          "Estonia",
          "Ethiopia",
          "European Union",
          "Fragile and conflict affected situations",
          "Finland",
          "Fiji",
          "France",
          "Gabon",
          "United Kingdom",
          "Georgia",
          "Ghana",
          "Guinea",
          "Gambia, The",
          "Guinea-Bissau",
          "Equatorial Guinea",
          "Greece",
          "Guatemala",
          "Guam",
          "Guyana",
          "High income",
          "Hong Kong SAR, China",
          "Honduras",
          "Heavily indebted poor countries (HIPC)",
          "Croatia",
          "Haiti",
          "Hungary",
          "IBRD only",
          "IDA & IBRD total",
          "IDA total",
          "IDA blend",
          "Indonesia",
          "IDA only",
          "India",
          "Ireland",
          "Iran, Islamic Rep.",
          "Iraq",
          "Iceland",
          "Israel",
          "Italy",
          "Jamaica",
          "Jordan",
          "Japan",
          "Kazakhstan",
          "Kenya",
          "Kyrgyz Republic",
          "Cambodia",
          "Korea, Rep.",
          "Kuwait",
          "Latin America & Caribbean (excluding high income)",
          "Lao PDR",
          "Lebanon",
          "Liberia",
          "Libya",
          "St. Lucia",
          "Latin America & Caribbean",
          "Least developed countries: UN classification",
          "Low income",
          "Sri Lanka",
          "Lower middle income",
          "Low & middle income",
          "Lesotho",
          "Late-demographic dividend",
          "Lithuania",
          "Luxembourg",
          "Latvia",
          "Macao SAR, China",
          "Morocco",
          "Moldova",
          "Madagascar",
          "Maldives",
          "Middle East & North Africa",
          "Mexico",
          "Middle income",
          "North Macedonia",
          "Mali",
          "Malta",
          "Myanmar",
          "Middle East & North Africa (excluding high income)",
          "Montenegro",
          "Mongolia",
          "Mozambique",
          "Mauritania",
          "Mauritius",
          "Malawi",
          "Malaysia",
          "North America",
          "Namibia",
          "New Caledonia",
          "Niger",
          "Nigeria",
          "Nicaragua",
          "Netherlands",
          "Norway",
          "Nepal",
          "New Zealand",
          "OECD members",
          "Oman",
          "Other small states",
          "Pakistan",
          "Panama",
          "Peru",
          "Philippines",
          "Papua New Guinea",
          "Poland",
          "Pre-demographic dividend",
          "Puerto Rico",
          "Korea, Dem. People’s Rep.",
          "Portugal",
          "Paraguay",
          "West Bank and Gaza",
          "Pacific island small states",
          "Post-demographic dividend",
          "French Polynesia",
          "Qatar",
          "Romania",
          "Russian Federation",
          "Rwanda",
          "South Asia",
          "Saudi Arabia",
          "Sudan",
          "Senegal",
          "Singapore",
          "Solomon Islands",
          "Sierra Leone",
          "El Salvador",
          "Somalia",
          "Serbia",
          "Sub-Saharan Africa (excluding high income)",
          "South Sudan",
          "Sub-Saharan Africa",
          "Small states",
          "Sao Tome and Principe",
          "Suriname",
          "Slovak Republic",
          "Slovenia",
          "Sweden",
          "Eswatini",
          "Syrian Arab Republic",
          "Chad",
          "East Asia & Pacific (IDA & IBRD countries)",
          "Europe & Central Asia (IDA & IBRD countries)",
          "Togo",
          "Thailand",
          "Tajikistan",
          "Turkmenistan",
          "Latin America & the Caribbean (IDA & IBRD countries)",
          "Timor-Leste",
          "Middle East & North Africa (IDA & IBRD countries)",
          "Tonga",
          "South Asia (IDA & IBRD)",
          "Sub-Saharan Africa (IDA & IBRD countries)",
          "Trinidad and Tobago",
          "Tunisia",
          "Turkey",
          "Tanzania",
          "Uganda",
          "Ukraine",
          "Upper middle income",
          "Uruguay",
          "United States",
          "Uzbekistan",
          "St. Vincent and the Grenadines",
          "Venezuela, RB",
          "Virgin Islands (U.S.)",
          "Vietnam",
          "Vanuatu",
          "World",
          "Samoa",
          "Yemen, Rep.",
          "South Africa",
          "Zambia",
          "Zimbabwe"
         ],
         "type": "scatter",
         "y": [
          11.16399956,
          6.774000168,
          12.81299973,
          10.19147219,
          2.447000027,
          10.43599987,
          16.625,
          5.328000069,
          4.778999805,
          5.9600000379999996,
          1.407999992,
          5.691999912000001,
          2.023000002,
          6.414000034,
          4.151000023,
          3.849999905,
          0.7630000109999999,
          11.27000046,
          18.43799973,
          4.625,
          6.3569998739999996,
          3.450000048,
          11.9659996,
          10.93799973,
          9.043999672,
          2.390000105,
          18.72100067,
          3.696000099,
          5.412000179,
          3.6418477869999997,
          4.848999977,
          7.534999847000001,
          7.096000195,
          4.3699998860000004,
          3.423000097,
          3.427999973,
          4.25,
          9.281999588,
          9.744000435,
          4.366000175,
          12.31799984,
          12.73400021,
          8.092526873999999,
          1.5900000330000001,
          7.234000206,
          1.9099999669999999,
          3.025000095,
          10.32299995,
          4.846000195,
          5.9190001489999995,
          11.52499962,
          3.9514128860000004,
          5.84416443,
          3.8978883669999997,
          7.376411121,
          6.631571683,
          4.237999916000001,
          10.12800026,
          7.25474786,
          5.171999931,
          13.01500034,
          5.379000187000001,
          2.082000017,
          6.445279815,
          6.994557176,
          6.65899992,
          4.079999924,
          8.338000297999999,
          20.14500046,
          4.114999771,
          14.74199963,
          4.508999825,
          4.329999924,
          9.107000351,
          2.486999989,
          6.46999979,
          15.47399998,
          2.506999969,
          5.6750001910000005,
          11.81299973,
          4.811218412,
          4.264999866,
          5.229000092,
          4.477224919,
          7.113999843999999,
          13.91499996,
          3.460000038,
          5.801744919,
          5.552639069,
          4.720010308,
          5.425470438,
          4.835000038,
          4.410047533999999,
          5.399000168,
          5.157999992,
          11.18099976,
          12.82499981,
          3.2219998839999997,
          3.7790000439999996,
          9.836000443,
          7.9499998089999995,
          14.61299992,
          2.338999987,
          4.551000118,
          2.6459999080000003,
          6.6430001260000004,
          0.69599998,
          4.597000122,
          2.302999973,
          8.208613324,
          0.6019999979999999,
          6.276000023,
          2.724999905,
          18.62599945,
          20.14999962,
          8.141540487,
          4.3633873219999995,
          4.913977185,
          4.177999973,
          5.1322451860000005,
          5.55321215,
          22.83099937,
          5.08484507,
          6.261000156000001,
          5.243999958,
          6.532999992000001,
          2.505000114,
          8.954999924,
          5.364999771,
          1.832999945,
          6.434000015,
          9.636612298,
          3.6540000439999996,
          5.619500691,
          16.43899918,
          7.34100008,
          3.367000103,
          1.710999966,
          11.29630708,
          14.75599957,
          5.946000099,
          3.242000103,
          9.61400032,
          6.68900013,
          5.673999786,
          3.378000021,
          4.03348776,
          20.58699989,
          12.78100014,
          0.485000014,
          7.9600000379999996,
          7.355000018999999,
          2.974999905,
          3.3099999430000002,
          1.4659999609999999,
          4.013000011,
          5.365522499,
          2.546000004,
          9.214162667,
          4.445000172,
          3.825000048,
          3.196000099,
          2.164000034,
          2.486999989,
          3.039999962,
          5.679897304,
          8.413999557,
          2.7639999389999996,
          5.933000087999999,
          4.835999966,
          26.09799957,
          2.9439423330000003,
          5.030064089,
          11.93400002,
          0.082000002,
          3.921999931,
          4.4250001910000005,
          1.041000009,
          5.140202803999999,
          5.857999802,
          16.61800003,
          6.676000117999999,
          4.3800001139999996,
          0.541999996,
          4.440999985,
          4.196000099,
          11.39999962,
          12.72200012,
          6.1750409170000005,
          12.25699997,
          6.175756538,
          8.702974863,
          13.67099953,
          7.472000122000001,
          5.104000092,
          3.8020000460000003,
          6.673999786,
          21.97100067,
          8.447999954,
          1.942999959,
          3.9690323530000002,
          6.8602548389999995,
          2.005000114,
          0.8029999729999999,
          10.98900032,
          4.071000099,
          8.244177129,
          4.603000164,
          11.13439221,
          1.156999946,
          5.140202803999999,
          6.175756538,
          2.7950000760000004,
          16.15399933,
          12.94099998,
          1.980999947,
          1.91900003,
          8.934000015,
          5.9953467279999995,
          8.777000427,
          3.8619999889999996,
          6.081999778999999,
          18.87000084,
          9.380999565,
          8.758999825,
          2.022000074,
          4.407999992,
          5.420152616,
          8.354999542,
          12.82999992,
          28.47699928,
          11.411999699999999,
          4.991000175
         ]
        }
       ],
       "layout": {
        "hovermode": "closest",
        "showlegend": false,
        "template": {
         "data": {
          "bar": [
           {
            "error_x": {
             "color": "#2a3f5f"
            },
            "error_y": {
             "color": "#2a3f5f"
            },
            "marker": {
             "line": {
              "color": "#E5ECF6",
              "width": 0.5
             }
            },
            "type": "bar"
           }
          ],
          "barpolar": [
           {
            "marker": {
             "line": {
              "color": "#E5ECF6",
              "width": 0.5
             }
            },
            "type": "barpolar"
           }
          ],
          "carpet": [
           {
            "aaxis": {
             "endlinecolor": "#2a3f5f",
             "gridcolor": "white",
             "linecolor": "white",
             "minorgridcolor": "white",
             "startlinecolor": "#2a3f5f"
            },
            "baxis": {
             "endlinecolor": "#2a3f5f",
             "gridcolor": "white",
             "linecolor": "white",
             "minorgridcolor": "white",
             "startlinecolor": "#2a3f5f"
            },
            "type": "carpet"
           }
          ],
          "choropleth": [
           {
            "colorbar": {
             "outlinewidth": 0,
             "ticks": ""
            },
            "type": "choropleth"
           }
          ],
          "contour": [
           {
            "colorbar": {
             "outlinewidth": 0,
             "ticks": ""
            },
            "colorscale": [
             [
              0,
              "#0d0887"
             ],
             [
              0.1111111111111111,
              "#46039f"
             ],
             [
              0.2222222222222222,
              "#7201a8"
             ],
             [
              0.3333333333333333,
              "#9c179e"
             ],
             [
              0.4444444444444444,
              "#bd3786"
             ],
             [
              0.5555555555555556,
              "#d8576b"
             ],
             [
              0.6666666666666666,
              "#ed7953"
             ],
             [
              0.7777777777777778,
              "#fb9f3a"
             ],
             [
              0.8888888888888888,
              "#fdca26"
             ],
             [
              1,
              "#f0f921"
             ]
            ],
            "type": "contour"
           }
          ],
          "contourcarpet": [
           {
            "colorbar": {
             "outlinewidth": 0,
             "ticks": ""
            },
            "type": "contourcarpet"
           }
          ],
          "heatmap": [
           {
            "colorbar": {
             "outlinewidth": 0,
             "ticks": ""
            },
            "colorscale": [
             [
              0,
              "#0d0887"
             ],
             [
              0.1111111111111111,
              "#46039f"
             ],
             [
              0.2222222222222222,
              "#7201a8"
             ],
             [
              0.3333333333333333,
              "#9c179e"
             ],
             [
              0.4444444444444444,
              "#bd3786"
             ],
             [
              0.5555555555555556,
              "#d8576b"
             ],
             [
              0.6666666666666666,
              "#ed7953"
             ],
             [
              0.7777777777777778,
              "#fb9f3a"
             ],
             [
              0.8888888888888888,
              "#fdca26"
             ],
             [
              1,
              "#f0f921"
             ]
            ],
            "type": "heatmap"
           }
          ],
          "heatmapgl": [
           {
            "colorbar": {
             "outlinewidth": 0,
             "ticks": ""
            },
            "colorscale": [
             [
              0,
              "#0d0887"
             ],
             [
              0.1111111111111111,
              "#46039f"
             ],
             [
              0.2222222222222222,
              "#7201a8"
             ],
             [
              0.3333333333333333,
              "#9c179e"
             ],
             [
              0.4444444444444444,
              "#bd3786"
             ],
             [
              0.5555555555555556,
              "#d8576b"
             ],
             [
              0.6666666666666666,
              "#ed7953"
             ],
             [
              0.7777777777777778,
              "#fb9f3a"
             ],
             [
              0.8888888888888888,
              "#fdca26"
             ],
             [
              1,
              "#f0f921"
             ]
            ],
            "type": "heatmapgl"
           }
          ],
          "histogram": [
           {
            "marker": {
             "colorbar": {
              "outlinewidth": 0,
              "ticks": ""
             }
            },
            "type": "histogram"
           }
          ],
          "histogram2d": [
           {
            "colorbar": {
             "outlinewidth": 0,
             "ticks": ""
            },
            "colorscale": [
             [
              0,
              "#0d0887"
             ],
             [
              0.1111111111111111,
              "#46039f"
             ],
             [
              0.2222222222222222,
              "#7201a8"
             ],
             [
              0.3333333333333333,
              "#9c179e"
             ],
             [
              0.4444444444444444,
              "#bd3786"
             ],
             [
              0.5555555555555556,
              "#d8576b"
             ],
             [
              0.6666666666666666,
              "#ed7953"
             ],
             [
              0.7777777777777778,
              "#fb9f3a"
             ],
             [
              0.8888888888888888,
              "#fdca26"
             ],
             [
              1,
              "#f0f921"
             ]
            ],
            "type": "histogram2d"
           }
          ],
          "histogram2dcontour": [
           {
            "colorbar": {
             "outlinewidth": 0,
             "ticks": ""
            },
            "colorscale": [
             [
              0,
              "#0d0887"
             ],
             [
              0.1111111111111111,
              "#46039f"
             ],
             [
              0.2222222222222222,
              "#7201a8"
             ],
             [
              0.3333333333333333,
              "#9c179e"
             ],
             [
              0.4444444444444444,
              "#bd3786"
             ],
             [
              0.5555555555555556,
              "#d8576b"
             ],
             [
              0.6666666666666666,
              "#ed7953"
             ],
             [
              0.7777777777777778,
              "#fb9f3a"
             ],
             [
              0.8888888888888888,
              "#fdca26"
             ],
             [
              1,
              "#f0f921"
             ]
            ],
            "type": "histogram2dcontour"
           }
          ],
          "mesh3d": [
           {
            "colorbar": {
             "outlinewidth": 0,
             "ticks": ""
            },
            "type": "mesh3d"
           }
          ],
          "parcoords": [
           {
            "line": {
             "colorbar": {
              "outlinewidth": 0,
              "ticks": ""
             }
            },
            "type": "parcoords"
           }
          ],
          "pie": [
           {
            "automargin": true,
            "type": "pie"
           }
          ],
          "scatter": [
           {
            "marker": {
             "colorbar": {
              "outlinewidth": 0,
              "ticks": ""
             }
            },
            "type": "scatter"
           }
          ],
          "scatter3d": [
           {
            "line": {
             "colorbar": {
              "outlinewidth": 0,
              "ticks": ""
             }
            },
            "marker": {
             "colorbar": {
              "outlinewidth": 0,
              "ticks": ""
             }
            },
            "type": "scatter3d"
           }
          ],
          "scattercarpet": [
           {
            "marker": {
             "colorbar": {
              "outlinewidth": 0,
              "ticks": ""
             }
            },
            "type": "scattercarpet"
           }
          ],
          "scattergeo": [
           {
            "marker": {
             "colorbar": {
              "outlinewidth": 0,
              "ticks": ""
             }
            },
            "type": "scattergeo"
           }
          ],
          "scattergl": [
           {
            "marker": {
             "colorbar": {
              "outlinewidth": 0,
              "ticks": ""
             }
            },
            "type": "scattergl"
           }
          ],
          "scattermapbox": [
           {
            "marker": {
             "colorbar": {
              "outlinewidth": 0,
              "ticks": ""
             }
            },
            "type": "scattermapbox"
           }
          ],
          "scatterpolar": [
           {
            "marker": {
             "colorbar": {
              "outlinewidth": 0,
              "ticks": ""
             }
            },
            "type": "scatterpolar"
           }
          ],
          "scatterpolargl": [
           {
            "marker": {
             "colorbar": {
              "outlinewidth": 0,
              "ticks": ""
             }
            },
            "type": "scatterpolargl"
           }
          ],
          "scatterternary": [
           {
            "marker": {
             "colorbar": {
              "outlinewidth": 0,
              "ticks": ""
             }
            },
            "type": "scatterternary"
           }
          ],
          "surface": [
           {
            "colorbar": {
             "outlinewidth": 0,
             "ticks": ""
            },
            "colorscale": [
             [
              0,
              "#0d0887"
             ],
             [
              0.1111111111111111,
              "#46039f"
             ],
             [
              0.2222222222222222,
              "#7201a8"
             ],
             [
              0.3333333333333333,
              "#9c179e"
             ],
             [
              0.4444444444444444,
              "#bd3786"
             ],
             [
              0.5555555555555556,
              "#d8576b"
             ],
             [
              0.6666666666666666,
              "#ed7953"
             ],
             [
              0.7777777777777778,
              "#fb9f3a"
             ],
             [
              0.8888888888888888,
              "#fdca26"
             ],
             [
              1,
              "#f0f921"
             ]
            ],
            "type": "surface"
           }
          ],
          "table": [
           {
            "cells": {
             "fill": {
              "color": "#EBF0F8"
             },
             "line": {
              "color": "white"
             }
            },
            "header": {
             "fill": {
              "color": "#C8D4E3"
             },
             "line": {
              "color": "white"
             }
            },
            "type": "table"
           }
          ]
         },
         "layout": {
          "annotationdefaults": {
           "arrowcolor": "#2a3f5f",
           "arrowhead": 0,
           "arrowwidth": 1
          },
          "autotypenumbers": "strict",
          "coloraxis": {
           "colorbar": {
            "outlinewidth": 0,
            "ticks": ""
           }
          },
          "colorscale": {
           "diverging": [
            [
             0,
             "#8e0152"
            ],
            [
             0.1,
             "#c51b7d"
            ],
            [
             0.2,
             "#de77ae"
            ],
            [
             0.3,
             "#f1b6da"
            ],
            [
             0.4,
             "#fde0ef"
            ],
            [
             0.5,
             "#f7f7f7"
            ],
            [
             0.6,
             "#e6f5d0"
            ],
            [
             0.7,
             "#b8e186"
            ],
            [
             0.8,
             "#7fbc41"
            ],
            [
             0.9,
             "#4d9221"
            ],
            [
             1,
             "#276419"
            ]
           ],
           "sequential": [
            [
             0,
             "#0d0887"
            ],
            [
             0.1111111111111111,
             "#46039f"
            ],
            [
             0.2222222222222222,
             "#7201a8"
            ],
            [
             0.3333333333333333,
             "#9c179e"
            ],
            [
             0.4444444444444444,
             "#bd3786"
            ],
            [
             0.5555555555555556,
             "#d8576b"
            ],
            [
             0.6666666666666666,
             "#ed7953"
            ],
            [
             0.7777777777777778,
             "#fb9f3a"
            ],
            [
             0.8888888888888888,
             "#fdca26"
            ],
            [
             1,
             "#f0f921"
            ]
           ],
           "sequentialminus": [
            [
             0,
             "#0d0887"
            ],
            [
             0.1111111111111111,
             "#46039f"
            ],
            [
             0.2222222222222222,
             "#7201a8"
            ],
            [
             0.3333333333333333,
             "#9c179e"
            ],
            [
             0.4444444444444444,
             "#bd3786"
            ],
            [
             0.5555555555555556,
             "#d8576b"
            ],
            [
             0.6666666666666666,
             "#ed7953"
            ],
            [
             0.7777777777777778,
             "#fb9f3a"
            ],
            [
             0.8888888888888888,
             "#fdca26"
            ],
            [
             1,
             "#f0f921"
            ]
           ]
          },
          "colorway": [
           "#636efa",
           "#EF553B",
           "#00cc96",
           "#ab63fa",
           "#FFA15A",
           "#19d3f3",
           "#FF6692",
           "#B6E880",
           "#FF97FF",
           "#FECB52"
          ],
          "font": {
           "color": "#2a3f5f"
          },
          "geo": {
           "bgcolor": "white",
           "lakecolor": "white",
           "landcolor": "#E5ECF6",
           "showlakes": true,
           "showland": true,
           "subunitcolor": "white"
          },
          "hoverlabel": {
           "align": "left"
          },
          "hovermode": "closest",
          "mapbox": {
           "style": "light"
          },
          "paper_bgcolor": "white",
          "plot_bgcolor": "#E5ECF6",
          "polar": {
           "angularaxis": {
            "gridcolor": "white",
            "linecolor": "white",
            "ticks": ""
           },
           "bgcolor": "#E5ECF6",
           "radialaxis": {
            "gridcolor": "white",
            "linecolor": "white",
            "ticks": ""
           }
          },
          "scene": {
           "xaxis": {
            "backgroundcolor": "#E5ECF6",
            "gridcolor": "white",
            "gridwidth": 2,
            "linecolor": "white",
            "showbackground": true,
            "ticks": "",
            "zerolinecolor": "white"
           },
           "yaxis": {
            "backgroundcolor": "#E5ECF6",
            "gridcolor": "white",
            "gridwidth": 2,
            "linecolor": "white",
            "showbackground": true,
            "ticks": "",
            "zerolinecolor": "white"
           },
           "zaxis": {
            "backgroundcolor": "#E5ECF6",
            "gridcolor": "white",
            "gridwidth": 2,
            "linecolor": "white",
            "showbackground": true,
            "ticks": "",
            "zerolinecolor": "white"
           }
          },
          "shapedefaults": {
           "line": {
            "color": "#2a3f5f"
           }
          },
          "ternary": {
           "aaxis": {
            "gridcolor": "white",
            "linecolor": "white",
            "ticks": ""
           },
           "baxis": {
            "gridcolor": "white",
            "linecolor": "white",
            "ticks": ""
           },
           "bgcolor": "#E5ECF6",
           "caxis": {
            "gridcolor": "white",
            "linecolor": "white",
            "ticks": ""
           }
          },
          "title": {
           "x": 0.05
          },
          "xaxis": {
           "automargin": true,
           "gridcolor": "white",
           "linecolor": "white",
           "ticks": "",
           "title": {
            "standoff": 15
           },
           "zerolinecolor": "white",
           "zerolinewidth": 2
          },
          "yaxis": {
           "automargin": true,
           "gridcolor": "white",
           "linecolor": "white",
           "ticks": "",
           "title": {
            "standoff": 15
           },
           "zerolinecolor": "white",
           "zerolinewidth": 2
          }
         }
        },
        "title": {
         "text": "Scatter Plot of Unemployment Rates in 2020 (x = Index, y = rates)"
        },
        "xaxis": {
         "gridwidth": 2,
         "ticklen": 5,
         "title": {
          "text": "Country Index by Alphabetical Order"
         },
         "zeroline": false
        },
        "yaxis": {
         "gridwidth": 2,
         "ticklen": 5,
         "title": {
          "text": "Unemployment Rate"
         }
        }
       }
      },
      "text/html": [
       "<div>                            <div id=\"dd1670d8-1d16-4c6a-8314-aee84d86f91e\" class=\"plotly-graph-div\" style=\"height:525px; width:100%;\"></div>            <script type=\"text/javascript\">                require([\"plotly\"], function(Plotly) {                    window.PLOTLYENV=window.PLOTLYENV || {};                                    if (document.getElementById(\"dd1670d8-1d16-4c6a-8314-aee84d86f91e\")) {                    Plotly.newPlot(                        \"dd1670d8-1d16-4c6a-8314-aee84d86f91e\",                        [{\"marker\": {\"color\": [11.16399956, 6.774000168, 12.81299973, 10.19147219, 2.447000027, 10.43599987, 16.625, 5.328000069, 4.778999805, 5.9600000379999996, 1.407999992, 5.691999912000001, 2.023000002, 6.414000034, 4.151000023, 3.849999905, 0.7630000109999999, 11.27000046, 18.43799973, 4.625, 6.3569998739999996, 3.450000048, 11.9659996, 10.93799973, 9.043999672, 2.390000105, 18.72100067, 3.696000099, 5.412000179, 3.6418477869999997, 4.848999977, 7.534999847000001, 7.096000195, 4.3699998860000004, 3.423000097, 3.427999973, 4.25, 9.281999588, 9.744000435, 4.366000175, 12.31799984, 12.73400021, 8.092526873999999, 1.5900000330000001, 7.234000206, 1.9099999669999999, 3.025000095, 10.32299995, 4.846000195, 5.9190001489999995, 11.52499962, 3.9514128860000004, 5.84416443, 3.8978883669999997, 7.376411121, 6.631571683, 4.237999916000001, 10.12800026, 7.25474786, 5.171999931, 13.01500034, 5.379000187000001, 2.082000017, 6.445279815, 6.994557176, 6.65899992, 4.079999924, 8.338000297999999, 20.14500046, 4.114999771, 14.74199963, 4.508999825, 4.329999924, 9.107000351, 2.486999989, 6.46999979, 15.47399998, 2.506999969, 5.6750001910000005, 11.81299973, 4.811218412, 4.264999866, 5.229000092, 4.477224919, 7.113999843999999, 13.91499996, 3.460000038, 5.801744919, 5.552639069, 4.720010308, 5.425470438, 4.835000038, 4.410047533999999, 5.399000168, 5.157999992, 11.18099976, 12.82499981, 3.2219998839999997, 3.7790000439999996, 9.836000443, 7.9499998089999995, 14.61299992, 2.338999987, 4.551000118, 2.6459999080000003, 6.6430001260000004, 0.69599998, 4.597000122, 2.302999973, 8.208613324, 0.6019999979999999, 6.276000023, 2.724999905, 18.62599945, 20.14999962, 8.141540487, 4.3633873219999995, 4.913977185, 4.177999973, 5.1322451860000005, 5.55321215, 22.83099937, 5.08484507, 6.261000156000001, 5.243999958, 6.532999992000001, 2.505000114, 8.954999924, 5.364999771, 1.832999945, 6.434000015, 9.636612298, 3.6540000439999996, 5.619500691, 16.43899918, 7.34100008, 3.367000103, 1.710999966, 11.29630708, 14.75599957, 5.946000099, 3.242000103, 9.61400032, 6.68900013, 5.673999786, 3.378000021, 4.03348776, 20.58699989, 12.78100014, 0.485000014, 7.9600000379999996, 7.355000018999999, 2.974999905, 3.3099999430000002, 1.4659999609999999, 4.013000011, 5.365522499, 2.546000004, 9.214162667, 4.445000172, 3.825000048, 3.196000099, 2.164000034, 2.486999989, 3.039999962, 5.679897304, 8.413999557, 2.7639999389999996, 5.933000087999999, 4.835999966, 26.09799957, 2.9439423330000003, 5.030064089, 11.93400002, 0.082000002, 3.921999931, 4.4250001910000005, 1.041000009, 5.140202803999999, 5.857999802, 16.61800003, 6.676000117999999, 4.3800001139999996, 0.541999996, 4.440999985, 4.196000099, 11.39999962, 12.72200012, 6.1750409170000005, 12.25699997, 6.175756538, 8.702974863, 13.67099953, 7.472000122000001, 5.104000092, 3.8020000460000003, 6.673999786, 21.97100067, 8.447999954, 1.942999959, 3.9690323530000002, 6.8602548389999995, 2.005000114, 0.8029999729999999, 10.98900032, 4.071000099, 8.244177129, 4.603000164, 11.13439221, 1.156999946, 5.140202803999999, 6.175756538, 2.7950000760000004, 16.15399933, 12.94099998, 1.980999947, 1.91900003, 8.934000015, 5.9953467279999995, 8.777000427, 3.8619999889999996, 6.081999778999999, 18.87000084, 9.380999565, 8.758999825, 2.022000074, 4.407999992, 5.420152616, 8.354999542, 12.82999992, 28.47699928, 11.411999699999999, 4.991000175], \"colorscale\": [[0.0, \"rgb(12,51,131)\"], [0.25, \"rgb(10,136,186)\"], [0.5, \"rgb(242,211,56)\"], [0.75, \"rgb(242,143,56)\"], [1.0, \"rgb(217,30,30)\"]], \"showscale\": true, \"size\": [11.16399956, 6.774000168, 12.81299973, 10.19147219, 2.447000027, 10.43599987, 16.625, 5.328000069, 4.778999805, 5.9600000379999996, 1.407999992, 5.691999912000001, 2.023000002, 6.414000034, 4.151000023, 3.849999905, 0.7630000109999999, 11.27000046, 18.43799973, 4.625, 6.3569998739999996, 3.450000048, 11.9659996, 10.93799973, 9.043999672, 2.390000105, 18.72100067, 3.696000099, 5.412000179, 3.6418477869999997, 4.848999977, 7.534999847000001, 7.096000195, 4.3699998860000004, 3.423000097, 3.427999973, 4.25, 9.281999588, 9.744000435, 4.366000175, 12.31799984, 12.73400021, 8.092526873999999, 1.5900000330000001, 7.234000206, 1.9099999669999999, 3.025000095, 10.32299995, 4.846000195, 5.9190001489999995, 11.52499962, 3.9514128860000004, 5.84416443, 3.8978883669999997, 7.376411121, 6.631571683, 4.237999916000001, 10.12800026, 7.25474786, 5.171999931, 13.01500034, 5.379000187000001, 2.082000017, 6.445279815, 6.994557176, 6.65899992, 4.079999924, 8.338000297999999, 20.14500046, 4.114999771, 14.74199963, 4.508999825, 4.329999924, 9.107000351, 2.486999989, 6.46999979, 15.47399998, 2.506999969, 5.6750001910000005, 11.81299973, 4.811218412, 4.264999866, 5.229000092, 4.477224919, 7.113999843999999, 13.91499996, 3.460000038, 5.801744919, 5.552639069, 4.720010308, 5.425470438, 4.835000038, 4.410047533999999, 5.399000168, 5.157999992, 11.18099976, 12.82499981, 3.2219998839999997, 3.7790000439999996, 9.836000443, 7.9499998089999995, 14.61299992, 2.338999987, 4.551000118, 2.6459999080000003, 6.6430001260000004, 0.69599998, 4.597000122, 2.302999973, 8.208613324, 0.6019999979999999, 6.276000023, 2.724999905, 18.62599945, 20.14999962, 8.141540487, 4.3633873219999995, 4.913977185, 4.177999973, 5.1322451860000005, 5.55321215, 22.83099937, 5.08484507, 6.261000156000001, 5.243999958, 6.532999992000001, 2.505000114, 8.954999924, 5.364999771, 1.832999945, 6.434000015, 9.636612298, 3.6540000439999996, 5.619500691, 16.43899918, 7.34100008, 3.367000103, 1.710999966, 11.29630708, 14.75599957, 5.946000099, 3.242000103, 9.61400032, 6.68900013, 5.673999786, 3.378000021, 4.03348776, 20.58699989, 12.78100014, 0.485000014, 7.9600000379999996, 7.355000018999999, 2.974999905, 3.3099999430000002, 1.4659999609999999, 4.013000011, 5.365522499, 2.546000004, 9.214162667, 4.445000172, 3.825000048, 3.196000099, 2.164000034, 2.486999989, 3.039999962, 5.679897304, 8.413999557, 2.7639999389999996, 5.933000087999999, 4.835999966, 26.09799957, 2.9439423330000003, 5.030064089, 11.93400002, 0.082000002, 3.921999931, 4.4250001910000005, 1.041000009, 5.140202803999999, 5.857999802, 16.61800003, 6.676000117999999, 4.3800001139999996, 0.541999996, 4.440999985, 4.196000099, 11.39999962, 12.72200012, 6.1750409170000005, 12.25699997, 6.175756538, 8.702974863, 13.67099953, 7.472000122000001, 5.104000092, 3.8020000460000003, 6.673999786, 21.97100067, 8.447999954, 1.942999959, 3.9690323530000002, 6.8602548389999995, 2.005000114, 0.8029999729999999, 10.98900032, 4.071000099, 8.244177129, 4.603000164, 11.13439221, 1.156999946, 5.140202803999999, 6.175756538, 2.7950000760000004, 16.15399933, 12.94099998, 1.980999947, 1.91900003, 8.934000015, 5.9953467279999995, 8.777000427, 3.8619999889999996, 6.081999778999999, 18.87000084, 9.380999565, 8.758999825, 2.022000074, 4.407999992, 5.420152616, 8.354999542, 12.82999992, 28.47699928, 11.411999699999999, 4.991000175]}, \"mode\": \"markers\", \"text\": [\"Afghanistan\", \"Angola\", \"Albania\", \"Arab World\", \"United Arab Emirates\", \"Argentina\", \"Armenia\", \"Australia\", \"Austria\", \"Azerbaijan\", \"Burundi\", \"Belgium\", \"Benin\", \"Burkina Faso\", \"Bangladesh\", \"Bulgaria\", \"Bahrain\", \"Bahamas, The\", \"Bosnia and Herzegovina\", \"Belarus\", \"Belize\", \"Bolivia\", \"Brazil\", \"Barbados\", \"Brunei Darussalam\", \"Bhutan\", \"Botswana\", \"Central African Republic\", \"Canada\", \"Central Europe and the Baltics\", \"Switzerland\", \"Channel Islands\", \"Chile\", \"China\", \"Cote d'Ivoire\", \"Cameroon\", \"Congo, Dem. Rep.\", \"Congo, Rep.\", \"Colombia\", \"Comoros\", \"Cabo Verde\", \"Costa Rica\", \"Caribbean small states\", \"Cuba\", \"Cyprus\", \"Czech Republic\", \"Germany\", \"Djibouti\", \"Denmark\", \"Dominican Republic\", \"Algeria\", \"East Asia & Pacific (excluding high income)\", \"Early-demographic dividend\", \"East Asia & Pacific\", \"Europe & Central Asia (excluding high income)\", \"Europe & Central Asia\", \"Ecuador\", \"Egypt, Arab Rep.\", \"Euro area\", \"Eritrea\", \"Spain\", \"Estonia\", \"Ethiopia\", \"European Union\", \"Fragile and conflict affected situations\", \"Finland\", \"Fiji\", \"France\", \"Gabon\", \"United Kingdom\", \"Georgia\", \"Ghana\", \"Guinea\", \"Gambia, The\", \"Guinea-Bissau\", \"Equatorial Guinea\", \"Greece\", \"Guatemala\", \"Guam\", \"Guyana\", \"High income\", \"Hong Kong SAR, China\", \"Honduras\", \"Heavily indebted poor countries (HIPC)\", \"Croatia\", \"Haiti\", \"Hungary\", \"IBRD only\", \"IDA & IBRD total\", \"IDA total\", \"IDA blend\", \"Indonesia\", \"IDA only\", \"India\", \"Ireland\", \"Iran, Islamic Rep.\", \"Iraq\", \"Iceland\", \"Israel\", \"Italy\", \"Jamaica\", \"Jordan\", \"Japan\", \"Kazakhstan\", \"Kenya\", \"Kyrgyz Republic\", \"Cambodia\", \"Korea, Rep.\", \"Kuwait\", \"Latin America & Caribbean (excluding high income)\", \"Lao PDR\", \"Lebanon\", \"Liberia\", \"Libya\", \"St. Lucia\", \"Latin America & Caribbean\", \"Least developed countries: UN classification\", \"Low income\", \"Sri Lanka\", \"Lower middle income\", \"Low & middle income\", \"Lesotho\", \"Late-demographic dividend\", \"Lithuania\", \"Luxembourg\", \"Latvia\", \"Macao SAR, China\", \"Morocco\", \"Moldova\", \"Madagascar\", \"Maldives\", \"Middle East & North Africa\", \"Mexico\", \"Middle income\", \"North Macedonia\", \"Mali\", \"Malta\", \"Myanmar\", \"Middle East & North Africa (excluding high income)\", \"Montenegro\", \"Mongolia\", \"Mozambique\", \"Mauritania\", \"Mauritius\", \"Malawi\", \"Malaysia\", \"North America\", \"Namibia\", \"New Caledonia\", \"Niger\", \"Nigeria\", \"Nicaragua\", \"Netherlands\", \"Norway\", \"Nepal\", \"New Zealand\", \"OECD members\", \"Oman\", \"Other small states\", \"Pakistan\", \"Panama\", \"Peru\", \"Philippines\", \"Papua New Guinea\", \"Poland\", \"Pre-demographic dividend\", \"Puerto Rico\", \"Korea, Dem. People\\u2019s Rep.\", \"Portugal\", \"Paraguay\", \"West Bank and Gaza\", \"Pacific island small states\", \"Post-demographic dividend\", \"French Polynesia\", \"Qatar\", \"Romania\", \"Russian Federation\", \"Rwanda\", \"South Asia\", \"Saudi Arabia\", \"Sudan\", \"Senegal\", \"Singapore\", \"Solomon Islands\", \"Sierra Leone\", \"El Salvador\", \"Somalia\", \"Serbia\", \"Sub-Saharan Africa (excluding high income)\", \"South Sudan\", \"Sub-Saharan Africa\", \"Small states\", \"Sao Tome and Principe\", \"Suriname\", \"Slovak Republic\", \"Slovenia\", \"Sweden\", \"Eswatini\", \"Syrian Arab Republic\", \"Chad\", \"East Asia & Pacific (IDA & IBRD countries)\", \"Europe & Central Asia (IDA & IBRD countries)\", \"Togo\", \"Thailand\", \"Tajikistan\", \"Turkmenistan\", \"Latin America & the Caribbean (IDA & IBRD countries)\", \"Timor-Leste\", \"Middle East & North Africa (IDA & IBRD countries)\", \"Tonga\", \"South Asia (IDA & IBRD)\", \"Sub-Saharan Africa (IDA & IBRD countries)\", \"Trinidad and Tobago\", \"Tunisia\", \"Turkey\", \"Tanzania\", \"Uganda\", \"Ukraine\", \"Upper middle income\", \"Uruguay\", \"United States\", \"Uzbekistan\", \"St. Vincent and the Grenadines\", \"Venezuela, RB\", \"Virgin Islands (U.S.)\", \"Vietnam\", \"Vanuatu\", \"World\", \"Samoa\", \"Yemen, Rep.\", \"South Africa\", \"Zambia\", \"Zimbabwe\"], \"type\": \"scatter\", \"y\": [11.16399956, 6.774000168, 12.81299973, 10.19147219, 2.447000027, 10.43599987, 16.625, 5.328000069, 4.778999805, 5.9600000379999996, 1.407999992, 5.691999912000001, 2.023000002, 6.414000034, 4.151000023, 3.849999905, 0.7630000109999999, 11.27000046, 18.43799973, 4.625, 6.3569998739999996, 3.450000048, 11.9659996, 10.93799973, 9.043999672, 2.390000105, 18.72100067, 3.696000099, 5.412000179, 3.6418477869999997, 4.848999977, 7.534999847000001, 7.096000195, 4.3699998860000004, 3.423000097, 3.427999973, 4.25, 9.281999588, 9.744000435, 4.366000175, 12.31799984, 12.73400021, 8.092526873999999, 1.5900000330000001, 7.234000206, 1.9099999669999999, 3.025000095, 10.32299995, 4.846000195, 5.9190001489999995, 11.52499962, 3.9514128860000004, 5.84416443, 3.8978883669999997, 7.376411121, 6.631571683, 4.237999916000001, 10.12800026, 7.25474786, 5.171999931, 13.01500034, 5.379000187000001, 2.082000017, 6.445279815, 6.994557176, 6.65899992, 4.079999924, 8.338000297999999, 20.14500046, 4.114999771, 14.74199963, 4.508999825, 4.329999924, 9.107000351, 2.486999989, 6.46999979, 15.47399998, 2.506999969, 5.6750001910000005, 11.81299973, 4.811218412, 4.264999866, 5.229000092, 4.477224919, 7.113999843999999, 13.91499996, 3.460000038, 5.801744919, 5.552639069, 4.720010308, 5.425470438, 4.835000038, 4.410047533999999, 5.399000168, 5.157999992, 11.18099976, 12.82499981, 3.2219998839999997, 3.7790000439999996, 9.836000443, 7.9499998089999995, 14.61299992, 2.338999987, 4.551000118, 2.6459999080000003, 6.6430001260000004, 0.69599998, 4.597000122, 2.302999973, 8.208613324, 0.6019999979999999, 6.276000023, 2.724999905, 18.62599945, 20.14999962, 8.141540487, 4.3633873219999995, 4.913977185, 4.177999973, 5.1322451860000005, 5.55321215, 22.83099937, 5.08484507, 6.261000156000001, 5.243999958, 6.532999992000001, 2.505000114, 8.954999924, 5.364999771, 1.832999945, 6.434000015, 9.636612298, 3.6540000439999996, 5.619500691, 16.43899918, 7.34100008, 3.367000103, 1.710999966, 11.29630708, 14.75599957, 5.946000099, 3.242000103, 9.61400032, 6.68900013, 5.673999786, 3.378000021, 4.03348776, 20.58699989, 12.78100014, 0.485000014, 7.9600000379999996, 7.355000018999999, 2.974999905, 3.3099999430000002, 1.4659999609999999, 4.013000011, 5.365522499, 2.546000004, 9.214162667, 4.445000172, 3.825000048, 3.196000099, 2.164000034, 2.486999989, 3.039999962, 5.679897304, 8.413999557, 2.7639999389999996, 5.933000087999999, 4.835999966, 26.09799957, 2.9439423330000003, 5.030064089, 11.93400002, 0.082000002, 3.921999931, 4.4250001910000005, 1.041000009, 5.140202803999999, 5.857999802, 16.61800003, 6.676000117999999, 4.3800001139999996, 0.541999996, 4.440999985, 4.196000099, 11.39999962, 12.72200012, 6.1750409170000005, 12.25699997, 6.175756538, 8.702974863, 13.67099953, 7.472000122000001, 5.104000092, 3.8020000460000003, 6.673999786, 21.97100067, 8.447999954, 1.942999959, 3.9690323530000002, 6.8602548389999995, 2.005000114, 0.8029999729999999, 10.98900032, 4.071000099, 8.244177129, 4.603000164, 11.13439221, 1.156999946, 5.140202803999999, 6.175756538, 2.7950000760000004, 16.15399933, 12.94099998, 1.980999947, 1.91900003, 8.934000015, 5.9953467279999995, 8.777000427, 3.8619999889999996, 6.081999778999999, 18.87000084, 9.380999565, 8.758999825, 2.022000074, 4.407999992, 5.420152616, 8.354999542, 12.82999992, 28.47699928, 11.411999699999999, 4.991000175]}],                        {\"hovermode\": \"closest\", \"showlegend\": false, \"template\": {\"data\": {\"bar\": [{\"error_x\": {\"color\": \"#2a3f5f\"}, \"error_y\": {\"color\": \"#2a3f5f\"}, \"marker\": {\"line\": {\"color\": \"#E5ECF6\", \"width\": 0.5}}, \"type\": \"bar\"}], \"barpolar\": [{\"marker\": {\"line\": {\"color\": \"#E5ECF6\", \"width\": 0.5}}, \"type\": \"barpolar\"}], \"carpet\": [{\"aaxis\": {\"endlinecolor\": \"#2a3f5f\", \"gridcolor\": \"white\", \"linecolor\": \"white\", \"minorgridcolor\": \"white\", \"startlinecolor\": \"#2a3f5f\"}, \"baxis\": {\"endlinecolor\": \"#2a3f5f\", \"gridcolor\": \"white\", \"linecolor\": \"white\", \"minorgridcolor\": \"white\", \"startlinecolor\": \"#2a3f5f\"}, \"type\": \"carpet\"}], \"choropleth\": [{\"colorbar\": {\"outlinewidth\": 0, \"ticks\": \"\"}, \"type\": \"choropleth\"}], \"contour\": [{\"colorbar\": {\"outlinewidth\": 0, \"ticks\": \"\"}, \"colorscale\": [[0.0, \"#0d0887\"], [0.1111111111111111, \"#46039f\"], [0.2222222222222222, \"#7201a8\"], [0.3333333333333333, \"#9c179e\"], [0.4444444444444444, \"#bd3786\"], [0.5555555555555556, \"#d8576b\"], [0.6666666666666666, \"#ed7953\"], [0.7777777777777778, \"#fb9f3a\"], [0.8888888888888888, \"#fdca26\"], [1.0, \"#f0f921\"]], \"type\": \"contour\"}], \"contourcarpet\": [{\"colorbar\": {\"outlinewidth\": 0, \"ticks\": \"\"}, \"type\": \"contourcarpet\"}], \"heatmap\": [{\"colorbar\": {\"outlinewidth\": 0, \"ticks\": \"\"}, \"colorscale\": [[0.0, \"#0d0887\"], [0.1111111111111111, \"#46039f\"], [0.2222222222222222, \"#7201a8\"], [0.3333333333333333, \"#9c179e\"], [0.4444444444444444, \"#bd3786\"], [0.5555555555555556, \"#d8576b\"], [0.6666666666666666, \"#ed7953\"], [0.7777777777777778, \"#fb9f3a\"], [0.8888888888888888, \"#fdca26\"], [1.0, \"#f0f921\"]], \"type\": \"heatmap\"}], \"heatmapgl\": [{\"colorbar\": {\"outlinewidth\": 0, \"ticks\": \"\"}, \"colorscale\": [[0.0, \"#0d0887\"], [0.1111111111111111, \"#46039f\"], [0.2222222222222222, \"#7201a8\"], [0.3333333333333333, \"#9c179e\"], [0.4444444444444444, \"#bd3786\"], [0.5555555555555556, \"#d8576b\"], [0.6666666666666666, \"#ed7953\"], [0.7777777777777778, \"#fb9f3a\"], [0.8888888888888888, \"#fdca26\"], [1.0, \"#f0f921\"]], \"type\": \"heatmapgl\"}], \"histogram\": [{\"marker\": {\"colorbar\": {\"outlinewidth\": 0, \"ticks\": \"\"}}, \"type\": \"histogram\"}], \"histogram2d\": [{\"colorbar\": {\"outlinewidth\": 0, \"ticks\": \"\"}, \"colorscale\": [[0.0, \"#0d0887\"], [0.1111111111111111, \"#46039f\"], [0.2222222222222222, \"#7201a8\"], [0.3333333333333333, \"#9c179e\"], [0.4444444444444444, \"#bd3786\"], [0.5555555555555556, \"#d8576b\"], [0.6666666666666666, \"#ed7953\"], [0.7777777777777778, \"#fb9f3a\"], [0.8888888888888888, \"#fdca26\"], [1.0, \"#f0f921\"]], \"type\": \"histogram2d\"}], \"histogram2dcontour\": [{\"colorbar\": {\"outlinewidth\": 0, \"ticks\": \"\"}, \"colorscale\": [[0.0, \"#0d0887\"], [0.1111111111111111, \"#46039f\"], [0.2222222222222222, \"#7201a8\"], [0.3333333333333333, \"#9c179e\"], [0.4444444444444444, \"#bd3786\"], [0.5555555555555556, \"#d8576b\"], [0.6666666666666666, \"#ed7953\"], [0.7777777777777778, \"#fb9f3a\"], [0.8888888888888888, \"#fdca26\"], [1.0, \"#f0f921\"]], \"type\": \"histogram2dcontour\"}], \"mesh3d\": [{\"colorbar\": {\"outlinewidth\": 0, \"ticks\": \"\"}, \"type\": \"mesh3d\"}], \"parcoords\": [{\"line\": {\"colorbar\": {\"outlinewidth\": 0, \"ticks\": \"\"}}, \"type\": \"parcoords\"}], \"pie\": [{\"automargin\": true, \"type\": \"pie\"}], \"scatter\": [{\"marker\": {\"colorbar\": {\"outlinewidth\": 0, \"ticks\": \"\"}}, \"type\": \"scatter\"}], \"scatter3d\": [{\"line\": {\"colorbar\": {\"outlinewidth\": 0, \"ticks\": \"\"}}, \"marker\": {\"colorbar\": {\"outlinewidth\": 0, \"ticks\": \"\"}}, \"type\": \"scatter3d\"}], \"scattercarpet\": [{\"marker\": {\"colorbar\": {\"outlinewidth\": 0, \"ticks\": \"\"}}, \"type\": \"scattercarpet\"}], \"scattergeo\": [{\"marker\": {\"colorbar\": {\"outlinewidth\": 0, \"ticks\": \"\"}}, \"type\": \"scattergeo\"}], \"scattergl\": [{\"marker\": {\"colorbar\": {\"outlinewidth\": 0, \"ticks\": \"\"}}, \"type\": \"scattergl\"}], \"scattermapbox\": [{\"marker\": {\"colorbar\": {\"outlinewidth\": 0, \"ticks\": \"\"}}, \"type\": \"scattermapbox\"}], \"scatterpolar\": [{\"marker\": {\"colorbar\": {\"outlinewidth\": 0, \"ticks\": \"\"}}, \"type\": \"scatterpolar\"}], \"scatterpolargl\": [{\"marker\": {\"colorbar\": {\"outlinewidth\": 0, \"ticks\": \"\"}}, \"type\": \"scatterpolargl\"}], \"scatterternary\": [{\"marker\": {\"colorbar\": {\"outlinewidth\": 0, \"ticks\": \"\"}}, \"type\": \"scatterternary\"}], \"surface\": [{\"colorbar\": {\"outlinewidth\": 0, \"ticks\": \"\"}, \"colorscale\": [[0.0, \"#0d0887\"], [0.1111111111111111, \"#46039f\"], [0.2222222222222222, \"#7201a8\"], [0.3333333333333333, \"#9c179e\"], [0.4444444444444444, \"#bd3786\"], [0.5555555555555556, \"#d8576b\"], [0.6666666666666666, \"#ed7953\"], [0.7777777777777778, \"#fb9f3a\"], [0.8888888888888888, \"#fdca26\"], [1.0, \"#f0f921\"]], \"type\": \"surface\"}], \"table\": [{\"cells\": {\"fill\": {\"color\": \"#EBF0F8\"}, \"line\": {\"color\": \"white\"}}, \"header\": {\"fill\": {\"color\": \"#C8D4E3\"}, \"line\": {\"color\": \"white\"}}, \"type\": \"table\"}]}, \"layout\": {\"annotationdefaults\": {\"arrowcolor\": \"#2a3f5f\", \"arrowhead\": 0, \"arrowwidth\": 1}, \"autotypenumbers\": \"strict\", \"coloraxis\": {\"colorbar\": {\"outlinewidth\": 0, \"ticks\": \"\"}}, \"colorscale\": {\"diverging\": [[0, \"#8e0152\"], [0.1, \"#c51b7d\"], [0.2, \"#de77ae\"], [0.3, \"#f1b6da\"], [0.4, \"#fde0ef\"], [0.5, \"#f7f7f7\"], [0.6, \"#e6f5d0\"], [0.7, \"#b8e186\"], [0.8, \"#7fbc41\"], [0.9, \"#4d9221\"], [1, \"#276419\"]], \"sequential\": [[0.0, \"#0d0887\"], [0.1111111111111111, \"#46039f\"], [0.2222222222222222, \"#7201a8\"], [0.3333333333333333, \"#9c179e\"], [0.4444444444444444, \"#bd3786\"], [0.5555555555555556, \"#d8576b\"], [0.6666666666666666, \"#ed7953\"], [0.7777777777777778, \"#fb9f3a\"], [0.8888888888888888, \"#fdca26\"], [1.0, \"#f0f921\"]], \"sequentialminus\": [[0.0, \"#0d0887\"], [0.1111111111111111, \"#46039f\"], [0.2222222222222222, \"#7201a8\"], [0.3333333333333333, \"#9c179e\"], [0.4444444444444444, \"#bd3786\"], [0.5555555555555556, \"#d8576b\"], [0.6666666666666666, \"#ed7953\"], [0.7777777777777778, \"#fb9f3a\"], [0.8888888888888888, \"#fdca26\"], [1.0, \"#f0f921\"]]}, \"colorway\": [\"#636efa\", \"#EF553B\", \"#00cc96\", \"#ab63fa\", \"#FFA15A\", \"#19d3f3\", \"#FF6692\", \"#B6E880\", \"#FF97FF\", \"#FECB52\"], \"font\": {\"color\": \"#2a3f5f\"}, \"geo\": {\"bgcolor\": \"white\", \"lakecolor\": \"white\", \"landcolor\": \"#E5ECF6\", \"showlakes\": true, \"showland\": true, \"subunitcolor\": \"white\"}, \"hoverlabel\": {\"align\": \"left\"}, \"hovermode\": \"closest\", \"mapbox\": {\"style\": \"light\"}, \"paper_bgcolor\": \"white\", \"plot_bgcolor\": \"#E5ECF6\", \"polar\": {\"angularaxis\": {\"gridcolor\": \"white\", \"linecolor\": \"white\", \"ticks\": \"\"}, \"bgcolor\": \"#E5ECF6\", \"radialaxis\": {\"gridcolor\": \"white\", \"linecolor\": \"white\", \"ticks\": \"\"}}, \"scene\": {\"xaxis\": {\"backgroundcolor\": \"#E5ECF6\", \"gridcolor\": \"white\", \"gridwidth\": 2, \"linecolor\": \"white\", \"showbackground\": true, \"ticks\": \"\", \"zerolinecolor\": \"white\"}, \"yaxis\": {\"backgroundcolor\": \"#E5ECF6\", \"gridcolor\": \"white\", \"gridwidth\": 2, \"linecolor\": \"white\", \"showbackground\": true, \"ticks\": \"\", \"zerolinecolor\": \"white\"}, \"zaxis\": {\"backgroundcolor\": \"#E5ECF6\", \"gridcolor\": \"white\", \"gridwidth\": 2, \"linecolor\": \"white\", \"showbackground\": true, \"ticks\": \"\", \"zerolinecolor\": \"white\"}}, \"shapedefaults\": {\"line\": {\"color\": \"#2a3f5f\"}}, \"ternary\": {\"aaxis\": {\"gridcolor\": \"white\", \"linecolor\": \"white\", \"ticks\": \"\"}, \"baxis\": {\"gridcolor\": \"white\", \"linecolor\": \"white\", \"ticks\": \"\"}, \"bgcolor\": \"#E5ECF6\", \"caxis\": {\"gridcolor\": \"white\", \"linecolor\": \"white\", \"ticks\": \"\"}}, \"title\": {\"x\": 0.05}, \"xaxis\": {\"automargin\": true, \"gridcolor\": \"white\", \"linecolor\": \"white\", \"ticks\": \"\", \"title\": {\"standoff\": 15}, \"zerolinecolor\": \"white\", \"zerolinewidth\": 2}, \"yaxis\": {\"automargin\": true, \"gridcolor\": \"white\", \"linecolor\": \"white\", \"ticks\": \"\", \"title\": {\"standoff\": 15}, \"zerolinecolor\": \"white\", \"zerolinewidth\": 2}}}, \"title\": {\"text\": \"Scatter Plot of Unemployment Rates in 2020 (x = Index, y = rates)\"}, \"xaxis\": {\"gridwidth\": 2, \"ticklen\": 5, \"title\": {\"text\": \"Country Index by Alphabetical Order\"}, \"zeroline\": false}, \"yaxis\": {\"gridwidth\": 2, \"ticklen\": 5, \"title\": {\"text\": \"Unemployment Rate\"}}},                        {\"responsive\": true}                    ).then(function(){\n",
       "                            \n",
       "var gd = document.getElementById('dd1670d8-1d16-4c6a-8314-aee84d86f91e');\n",
       "var x = new MutationObserver(function (mutations, observer) {{\n",
       "        var display = window.getComputedStyle(gd).display;\n",
       "        if (!display || display === 'none') {{\n",
       "            console.log([gd, 'removed!']);\n",
       "            Plotly.purge(gd);\n",
       "            observer.disconnect();\n",
       "        }}\n",
       "}});\n",
       "\n",
       "// Listen for the removal of the full notebook cells\n",
       "var notebookContainer = gd.closest('#notebook-container');\n",
       "if (notebookContainer) {{\n",
       "    x.observe(notebookContainer, {childList: true});\n",
       "}}\n",
       "\n",
       "// Listen for the clearing of the current output cell\n",
       "var outputEl = gd.closest('.output');\n",
       "if (outputEl) {{\n",
       "    x.observe(outputEl, {childList: true});\n",
       "}}\n",
       "\n",
       "                        })                };                });            </script>        </div>"
      ]
     },
     "metadata": {},
     "output_type": "display_data"
    }
   ],
   "source": [
    "# Make Scatter plots for unemployment rates in 2019 and 2020 by their coutries' alphabetical order.\n",
    "# Thanks to https://www.kaggle.com/arthurtok/generation-unemployed-interactive-plotly-visuals/data\n",
    "# Scatter plot of 2019 unemployment rates\n",
    "trace = go.Scatter(\n",
    "    y = df['2019'].values,\n",
    "    mode='markers',\n",
    "    marker=dict(\n",
    "        size= df['2019'].values,\n",
    "        #color = np.random.randn(500), #set color equal to a variable\n",
    "        color = df['2019'].values,\n",
    "        colorscale='Portland',\n",
    "        showscale=True\n",
    "    ),\n",
    "    text = df['Country Name'].values\n",
    ")\n",
    "data = [trace]\n",
    "\n",
    "layout= go.Layout(\n",
    "    autosize= True,\n",
    "    title= 'Scatter Plot of Unemployment Rates in 2019 (x = Index, y = rates)',\n",
    "    hovermode= 'closest',\n",
    "   xaxis= dict(\n",
    "        title= 'Country Index by alphabetical order',\n",
    "        ticklen= 5,\n",
    "        zeroline= False,\n",
    "        gridwidth= 2,\n",
    "    ),\n",
    "    yaxis=dict(\n",
    "        title= 'Unemployment Rate',\n",
    "        ticklen= 5,\n",
    "        gridwidth= 2,\n",
    "    ),\n",
    "    showlegend= False\n",
    ")\n",
    "fig = go.Figure(data=data, layout=layout)\n",
    "py.iplot(fig,filename='scatter2019')\n",
    "\n",
    "# Scatter plot of 2020 unemployment rates\n",
    "trace1 = go.Scatter(\n",
    "    y = df['2020'].values,\n",
    "    mode='markers',\n",
    "    marker=dict(\n",
    "        size=df['2020'].values,\n",
    "        #color = np.random.randn(500), #set color equal to a variable\n",
    "        color = df['2020'].values,\n",
    "        colorscale='Portland',\n",
    "        showscale=True\n",
    "    ),\n",
    "    text = df['Country Name'].values\n",
    ")\n",
    "data = [trace1]\n",
    "\n",
    "layout= go.Layout(\n",
    "    title= 'Scatter Plot of Unemployment Rates in 2020 (x = Index, y = rates)',\n",
    "    hovermode= 'closest',\n",
    "    xaxis= dict(\n",
    "        title= 'Country Index by Alphabetical Order',\n",
    "        ticklen= 5,\n",
    "        zeroline= False,\n",
    "        gridwidth= 2,\n",
    "    ),\n",
    "    yaxis=dict(\n",
    "        title= 'Unemployment Rate',\n",
    "        ticklen= 5,\n",
    "        gridwidth= 2,\n",
    "    ),\n",
    "    showlegend= False\n",
    ")\n",
    "\n",
    "fig = go.Figure(data=data, layout=layout)\n",
    "py.iplot(fig,filename='scatter2020')"
   ]
  },
  {
   "cell_type": "code",
   "execution_count": 80,
   "metadata": {},
   "outputs": [
    {
     "data": {
      "application/vnd.plotly.v1+json": {
       "config": {
        "linkText": "Export to plot.ly",
        "plotlyServerURL": "https://plot.ly",
        "showLink": false
       },
       "data": [
        {
         "boxmean": true,
         "boxpoints": "all",
         "fillcolor": "rgba(93, 164, 214, 0.5)",
         "line": {
          "width": 1
         },
         "marker": {
          "size": 2
         },
         "name": "2018",
         "type": "box",
         "whiskerwidth": 0.2,
         "y": [
          11.05700016,
          7.019000052999999,
          12.34000015,
          10.56334426,
          2.2290000919999997,
          9.220000267,
          17.49600029,
          5.297999859,
          4.84800005,
          4.900000095,
          1.4479999540000001,
          5.947999954,
          2.385999918,
          6.093999863,
          4.2810001369999995,
          5.210999966,
          0.649999976,
          10,
          18.39999962,
          4.760000229,
          6.512000083999999,
          3.53399992,
          12.33399963,
          9.385000229,
          8.862000465,
          2.302999973,
          17.35300064,
          3.664000034,
          5.8309998510000005,
          4.312452102,
          4.712999821,
          7.409999847000001,
          7.232999802,
          4.276000023,
          3.210000038,
          3.3570001130000002,
          4.19299984,
          9.670000076,
          9.111000061,
          4.302000046,
          12.17000008,
          9.631999968999999,
          8.372812195,
          1.7000000480000002,
          8.369999886,
          2.243000031,
          3.3840000630000002,
          10.25699997,
          4.974999905,
          5.738999843999999,
          11.88199997,
          3.852769049,
          5.689869894,
          3.7884354989999998,
          7.092560212,
          6.903874432,
          3.529999971,
          11.59200001,
          8.187862166,
          5.104000092,
          15.25500011,
          5.366000175,
          2.075000048,
          7.26938483,
          6.914434856000001,
          7.361000061,
          4.157999992,
          9.059000015,
          19.80699921,
          3.996000051,
          13.78499985,
          4.157000065,
          4.247000217,
          9.027000427,
          2.437999964,
          6.382999897,
          19.29199982,
          2.40199995,
          4.928999901,
          11.90600014,
          5.074339469,
          2.9030001160000003,
          5.647999763,
          4.42163363,
          8.43200016,
          13.59200001,
          3.707999945,
          5.699092447999999,
          5.470069400000001,
          4.671868283999999,
          5.358918837,
          4.511000156000001,
          4.368850354,
          5.329999924,
          5.739999771,
          12.03999996,
          12.86200047,
          2.7039999960000003,
          3.997999907,
          10.60999966,
          9.104000092,
          14.95899963,
          2.400000095,
          4.8249998089999995,
          2.63499999,
          5.9600000379999996,
          0.65200001,
          3.84800005,
          2.075999975,
          8.008721829,
          0.640999973,
          6.1430001260000004,
          2.9319999219999997,
          18.46800041,
          20.87899971,
          7.954364685,
          4.3556171589999995,
          4.881436116000001,
          4.118999958,
          5.132227136,
          5.462895418,
          23.97100067,
          5.0594727960000005,
          6.146999836,
          5.5850000379999996,
          7.412000179,
          1.9659999609999999,
          9.078000069,
          2.9779999260000003,
          1.68900001,
          5.848999977,
          10.137186400000001,
          3.2829999919999997,
          5.5206425789999996,
          20.73600006,
          7.110000134,
          3.71600008,
          1.493999958,
          11.90052671,
          15.17500019,
          6.254000187000001,
          3.2369999889999996,
          9.463999747999999,
          6.657000065,
          5.622000217,
          3.349999905,
          4.107848655,
          19.87700081,
          12.84700012,
          0.47099998600000004,
          8.243000031000001,
          5.1999998089999995,
          3.8299999239999996,
          3.799999952,
          1.350000024,
          4.297999859,
          5.443626204,
          2.864000082,
          9.167588381,
          4.083000183,
          3.894000053,
          3.390000105,
          2.338000059,
          2.423000097,
          3.845000029,
          5.72582218,
          9.199999809,
          2.7130000589999996,
          6.993000031,
          4.53399992,
          26.25600052,
          3.01339654,
          5.28618863,
          12.31400013,
          0.109999999,
          4.186999798,
          4.846000195,
          1.01699996,
          5.059690961,
          6.0399999620000004,
          16.89999962,
          6.52699995,
          4.019000053,
          0.617999971,
          4.416999817,
          4.006000042,
          11.27999973,
          12.7329998,
          6.158683561,
          12.22500038,
          6.159415136000001,
          8.717256912,
          13.14799976,
          6.993999958,
          6.535999775,
          5.107999802,
          6.346000195,
          22.36100006,
          8.256999968999999,
          1.838000059,
          3.869544351,
          6.700274423,
          2.078999996,
          0.765999973,
          11.13300037,
          3.799999952,
          8.053110769,
          4.479000092,
          11.74984848,
          1.0520000459999999,
          5.059690961,
          6.159415136000001,
          2.5,
          15.45899963,
          10.89000034,
          1.99000001,
          1.7489999530000002,
          8.798999786,
          5.811806796,
          8.336000443,
          3.8959999080000003,
          5.736000061,
          18.87899971,
          7.217000007999999,
          8.397999763,
          1.993000031,
          4.368000031,
          5.39221306,
          8.312000275,
          13.00199986,
          26.92000008,
          11.5,
          5.086999893
         ]
        },
        {
         "boxmean": true,
         "boxpoints": "all",
         "fillcolor": "rgba(255, 144, 14, 0.5)",
         "line": {
          "width": 1
         },
         "marker": {
          "size": 2
         },
         "name": "2019",
         "type": "box",
         "whiskerwidth": 0.2,
         "y": [
          11.11800003,
          6.886000156000001,
          12.33100033,
          10.33694622,
          2.34800005,
          9.788999557,
          16.98999977,
          5.2680001260000004,
          4.673999786,
          5.508999825,
          1.4270000459999999,
          5.589000225,
          2.2320001130000002,
          6.263999939,
          4.190000057,
          4.340000153,
          0.713999987,
          10.35999966,
          18.42499924,
          4.59499979,
          6.413000107,
          3.497999907,
          12.08300018,
          10.33100033,
          9.116999626,
          2.3420000080000003,
          18.19300079,
          3.680000067,
          5.56400013,
          3.870378192,
          4.5809998510000005,
          7.486999989,
          7.090000152999999,
          4.320000172,
          3.316999912,
          3.3800001139999996,
          4.236000061,
          9.472000122,
          9.706999779,
          4.335999966,
          12.2489996,
          11.85400009,
          8.011520389,
          1.638000011,
          7.274000168,
          1.9329999690000002,
          3.042999983,
          10.29500008,
          4.913000107,
          5.84499979,
          11.70400047,
          3.8956813510000003,
          5.816613529,
          3.830287611,
          7.491865217000001,
          6.763186376,
          3.967999935,
          10.76000023,
          7.496169932999999,
          5.144000053,
          13.95899963,
          5.114999771,
          2.08100009,
          6.666848568,
          6.9649992439999995,
          6.59499979,
          4.100999832,
          8.427000046,
          20.00399971,
          3.851000071,
          14.39799976,
          4.3309998510000005,
          4.296000004,
          9.055999756,
          2.46600008,
          6.433000087999999,
          17.23800087,
          2.459000111,
          5.31099987,
          11.85200024,
          4.793254837,
          3.628999949,
          5.386000156000001,
          4.447173146,
          6.934999942999999,
          13.78100014,
          3.398999929,
          5.770164567999999,
          5.5302332210000005,
          4.711286128,
          5.4583945389999995,
          4.686999798,
          4.382339958,
          5.355000018999999,
          4.927999973,
          11.38199997,
          12.82199955,
          2.8420000080000003,
          3.8610000610000004,
          9.887000084,
          8.001999855,
          14.71500015,
          2.290999889,
          4.590000153,
          2.64199996,
          6.329999924,
          0.6769999859999999,
          4.1479997630000005,
          2.1819999219999997,
          8.134316793,
          0.625999987,
          6.229000092000001,
          2.8139998910000004,
          18.56299973,
          20.70599937,
          8.069178678,
          4.348260905,
          4.889683791,
          4.197999954,
          5.134931187,
          5.527787008,
          23.40500069,
          5.06480201,
          6.352000237,
          5.362999916000001,
          6.519999981000001,
          2.236999989,
          9.019000053,
          5.47300005,
          1.758000016,
          6.138000011,
          9.825076901000001,
          3.424999952,
          5.592531052999999,
          17.75900078,
          7.223999977,
          3.47300005,
          1.5770000219999998,
          11.52503546,
          14.88300037,
          6.011000156000001,
          3.2409999369999998,
          9.548000336,
          6.673999786,
          5.652999877999999,
          3.323999882,
          3.889743746,
          20.27300072,
          12.80000019,
          0.474999994,
          8.095999718,
          6.836999893,
          3.196000099,
          3.3459999560000004,
          1.406999946,
          4.068999767,
          5.356232185,
          2.671000004,
          9.159979502999999,
          4.453000069,
          3.90199995,
          3.3099999430000002,
          2.150000095,
          2.459000111,
          3.473999977,
          5.6934621,
          8.187000275,
          2.74000001,
          6.334000111,
          4.809000015,
          26.16900063,
          2.970332224,
          4.999670912,
          12.09599972,
          0.09099999800000001,
          3.976000071,
          4.585000038,
          1.0299999709999998,
          5.111422752,
          5.927000046,
          16.53499985,
          6.604000092000001,
          4.109000206,
          0.575999975,
          4.427999973,
          4.110000134,
          11.35099983,
          12.68599987,
          6.186109627,
          12.24400043,
          6.186806795,
          8.645776074,
          13.36900043,
          7.334000111,
          5.56099987,
          4.195000172,
          6.475999832,
          22.08300018,
          8.369999886,
          1.8910000319999998,
          3.91277164,
          6.994651235,
          2.038000107,
          0.754000008,
          11.0170002,
          3.913000107,
          8.172789853,
          4.547999859,
          11.36794496,
          1.116999984,
          5.111422752,
          6.186806795,
          2.6860001089999996,
          16.02199936,
          13.48999977,
          1.980000019,
          1.843000054,
          8.881999968999999,
          5.94048844,
          8.730999947,
          3.6819999219999997,
          5.916999817000001,
          18.88100052,
          8.800999641,
          8.661999702000001,
          2.013000011,
          4.385000229,
          5.39506305,
          8.359000206000001,
          12.90999985,
          28.18099976,
          11.42500019,
          4.953999996
         ]
        },
        {
         "boxmean": true,
         "boxpoints": "all",
         "fillcolor": "rgba(44, 160, 101, 0.5)",
         "line": {
          "width": 1
         },
         "marker": {
          "size": 2
         },
         "name": "2020",
         "type": "box",
         "whiskerwidth": 0.2,
         "y": [
          11.16399956,
          6.774000168,
          12.81299973,
          10.19147219,
          2.447000027,
          10.43599987,
          16.625,
          5.328000069,
          4.778999805,
          5.9600000379999996,
          1.407999992,
          5.691999912000001,
          2.023000002,
          6.414000034,
          4.151000023,
          3.849999905,
          0.7630000109999999,
          11.27000046,
          18.43799973,
          4.625,
          6.3569998739999996,
          3.450000048,
          11.9659996,
          10.93799973,
          9.043999672,
          2.390000105,
          18.72100067,
          3.696000099,
          5.412000179,
          3.6418477869999997,
          4.848999977,
          7.534999847000001,
          7.096000195,
          4.3699998860000004,
          3.423000097,
          3.427999973,
          4.25,
          9.281999588,
          9.744000435,
          4.366000175,
          12.31799984,
          12.73400021,
          8.092526873999999,
          1.5900000330000001,
          7.234000206,
          1.9099999669999999,
          3.025000095,
          10.32299995,
          4.846000195,
          5.9190001489999995,
          11.52499962,
          3.9514128860000004,
          5.84416443,
          3.8978883669999997,
          7.376411121,
          6.631571683,
          4.237999916000001,
          10.12800026,
          7.25474786,
          5.171999931,
          13.01500034,
          5.379000187000001,
          2.082000017,
          6.445279815,
          6.994557176,
          6.65899992,
          4.079999924,
          8.338000297999999,
          20.14500046,
          4.114999771,
          14.74199963,
          4.508999825,
          4.329999924,
          9.107000351,
          2.486999989,
          6.46999979,
          15.47399998,
          2.506999969,
          5.6750001910000005,
          11.81299973,
          4.811218412,
          4.264999866,
          5.229000092,
          4.477224919,
          7.113999843999999,
          13.91499996,
          3.460000038,
          5.801744919,
          5.552639069,
          4.720010308,
          5.425470438,
          4.835000038,
          4.410047533999999,
          5.399000168,
          5.157999992,
          11.18099976,
          12.82499981,
          3.2219998839999997,
          3.7790000439999996,
          9.836000443,
          7.9499998089999995,
          14.61299992,
          2.338999987,
          4.551000118,
          2.6459999080000003,
          6.6430001260000004,
          0.69599998,
          4.597000122,
          2.302999973,
          8.208613324,
          0.6019999979999999,
          6.276000023,
          2.724999905,
          18.62599945,
          20.14999962,
          8.141540487,
          4.3633873219999995,
          4.913977185,
          4.177999973,
          5.1322451860000005,
          5.55321215,
          22.83099937,
          5.08484507,
          6.261000156000001,
          5.243999958,
          6.532999992000001,
          2.505000114,
          8.954999924,
          5.364999771,
          1.832999945,
          6.434000015,
          9.636612298,
          3.6540000439999996,
          5.619500691,
          16.43899918,
          7.34100008,
          3.367000103,
          1.710999966,
          11.29630708,
          14.75599957,
          5.946000099,
          3.242000103,
          9.61400032,
          6.68900013,
          5.673999786,
          3.378000021,
          4.03348776,
          20.58699989,
          12.78100014,
          0.485000014,
          7.9600000379999996,
          7.355000018999999,
          2.974999905,
          3.3099999430000002,
          1.4659999609999999,
          4.013000011,
          5.365522499,
          2.546000004,
          9.214162667,
          4.445000172,
          3.825000048,
          3.196000099,
          2.164000034,
          2.486999989,
          3.039999962,
          5.679897304,
          8.413999557,
          2.7639999389999996,
          5.933000087999999,
          4.835999966,
          26.09799957,
          2.9439423330000003,
          5.030064089,
          11.93400002,
          0.082000002,
          3.921999931,
          4.4250001910000005,
          1.041000009,
          5.140202803999999,
          5.857999802,
          16.61800003,
          6.676000117999999,
          4.3800001139999996,
          0.541999996,
          4.440999985,
          4.196000099,
          11.39999962,
          12.72200012,
          6.1750409170000005,
          12.25699997,
          6.175756538,
          8.702974863,
          13.67099953,
          7.472000122000001,
          5.104000092,
          3.8020000460000003,
          6.673999786,
          21.97100067,
          8.447999954,
          1.942999959,
          3.9690323530000002,
          6.8602548389999995,
          2.005000114,
          0.8029999729999999,
          10.98900032,
          4.071000099,
          8.244177129,
          4.603000164,
          11.13439221,
          1.156999946,
          5.140202803999999,
          6.175756538,
          2.7950000760000004,
          16.15399933,
          12.94099998,
          1.980999947,
          1.91900003,
          8.934000015,
          5.9953467279999995,
          8.777000427,
          3.8619999889999996,
          6.081999778999999,
          18.87000084,
          9.380999565,
          8.758999825,
          2.022000074,
          4.407999992,
          5.420152616,
          8.354999542,
          12.82999992,
          28.47699928,
          11.411999699999999,
          4.991000175
         ]
        }
       ],
       "layout": {
        "margin": {
         "b": 80,
         "l": 40,
         "r": 30,
         "t": 100
        },
        "paper_bgcolor": "rgb(243, 243, 243)",
        "plot_bgcolor": "rgb(243, 243, 243)",
        "showlegend": false,
        "template": {
         "data": {
          "bar": [
           {
            "error_x": {
             "color": "#2a3f5f"
            },
            "error_y": {
             "color": "#2a3f5f"
            },
            "marker": {
             "line": {
              "color": "#E5ECF6",
              "width": 0.5
             }
            },
            "type": "bar"
           }
          ],
          "barpolar": [
           {
            "marker": {
             "line": {
              "color": "#E5ECF6",
              "width": 0.5
             }
            },
            "type": "barpolar"
           }
          ],
          "carpet": [
           {
            "aaxis": {
             "endlinecolor": "#2a3f5f",
             "gridcolor": "white",
             "linecolor": "white",
             "minorgridcolor": "white",
             "startlinecolor": "#2a3f5f"
            },
            "baxis": {
             "endlinecolor": "#2a3f5f",
             "gridcolor": "white",
             "linecolor": "white",
             "minorgridcolor": "white",
             "startlinecolor": "#2a3f5f"
            },
            "type": "carpet"
           }
          ],
          "choropleth": [
           {
            "colorbar": {
             "outlinewidth": 0,
             "ticks": ""
            },
            "type": "choropleth"
           }
          ],
          "contour": [
           {
            "colorbar": {
             "outlinewidth": 0,
             "ticks": ""
            },
            "colorscale": [
             [
              0,
              "#0d0887"
             ],
             [
              0.1111111111111111,
              "#46039f"
             ],
             [
              0.2222222222222222,
              "#7201a8"
             ],
             [
              0.3333333333333333,
              "#9c179e"
             ],
             [
              0.4444444444444444,
              "#bd3786"
             ],
             [
              0.5555555555555556,
              "#d8576b"
             ],
             [
              0.6666666666666666,
              "#ed7953"
             ],
             [
              0.7777777777777778,
              "#fb9f3a"
             ],
             [
              0.8888888888888888,
              "#fdca26"
             ],
             [
              1,
              "#f0f921"
             ]
            ],
            "type": "contour"
           }
          ],
          "contourcarpet": [
           {
            "colorbar": {
             "outlinewidth": 0,
             "ticks": ""
            },
            "type": "contourcarpet"
           }
          ],
          "heatmap": [
           {
            "colorbar": {
             "outlinewidth": 0,
             "ticks": ""
            },
            "colorscale": [
             [
              0,
              "#0d0887"
             ],
             [
              0.1111111111111111,
              "#46039f"
             ],
             [
              0.2222222222222222,
              "#7201a8"
             ],
             [
              0.3333333333333333,
              "#9c179e"
             ],
             [
              0.4444444444444444,
              "#bd3786"
             ],
             [
              0.5555555555555556,
              "#d8576b"
             ],
             [
              0.6666666666666666,
              "#ed7953"
             ],
             [
              0.7777777777777778,
              "#fb9f3a"
             ],
             [
              0.8888888888888888,
              "#fdca26"
             ],
             [
              1,
              "#f0f921"
             ]
            ],
            "type": "heatmap"
           }
          ],
          "heatmapgl": [
           {
            "colorbar": {
             "outlinewidth": 0,
             "ticks": ""
            },
            "colorscale": [
             [
              0,
              "#0d0887"
             ],
             [
              0.1111111111111111,
              "#46039f"
             ],
             [
              0.2222222222222222,
              "#7201a8"
             ],
             [
              0.3333333333333333,
              "#9c179e"
             ],
             [
              0.4444444444444444,
              "#bd3786"
             ],
             [
              0.5555555555555556,
              "#d8576b"
             ],
             [
              0.6666666666666666,
              "#ed7953"
             ],
             [
              0.7777777777777778,
              "#fb9f3a"
             ],
             [
              0.8888888888888888,
              "#fdca26"
             ],
             [
              1,
              "#f0f921"
             ]
            ],
            "type": "heatmapgl"
           }
          ],
          "histogram": [
           {
            "marker": {
             "colorbar": {
              "outlinewidth": 0,
              "ticks": ""
             }
            },
            "type": "histogram"
           }
          ],
          "histogram2d": [
           {
            "colorbar": {
             "outlinewidth": 0,
             "ticks": ""
            },
            "colorscale": [
             [
              0,
              "#0d0887"
             ],
             [
              0.1111111111111111,
              "#46039f"
             ],
             [
              0.2222222222222222,
              "#7201a8"
             ],
             [
              0.3333333333333333,
              "#9c179e"
             ],
             [
              0.4444444444444444,
              "#bd3786"
             ],
             [
              0.5555555555555556,
              "#d8576b"
             ],
             [
              0.6666666666666666,
              "#ed7953"
             ],
             [
              0.7777777777777778,
              "#fb9f3a"
             ],
             [
              0.8888888888888888,
              "#fdca26"
             ],
             [
              1,
              "#f0f921"
             ]
            ],
            "type": "histogram2d"
           }
          ],
          "histogram2dcontour": [
           {
            "colorbar": {
             "outlinewidth": 0,
             "ticks": ""
            },
            "colorscale": [
             [
              0,
              "#0d0887"
             ],
             [
              0.1111111111111111,
              "#46039f"
             ],
             [
              0.2222222222222222,
              "#7201a8"
             ],
             [
              0.3333333333333333,
              "#9c179e"
             ],
             [
              0.4444444444444444,
              "#bd3786"
             ],
             [
              0.5555555555555556,
              "#d8576b"
             ],
             [
              0.6666666666666666,
              "#ed7953"
             ],
             [
              0.7777777777777778,
              "#fb9f3a"
             ],
             [
              0.8888888888888888,
              "#fdca26"
             ],
             [
              1,
              "#f0f921"
             ]
            ],
            "type": "histogram2dcontour"
           }
          ],
          "mesh3d": [
           {
            "colorbar": {
             "outlinewidth": 0,
             "ticks": ""
            },
            "type": "mesh3d"
           }
          ],
          "parcoords": [
           {
            "line": {
             "colorbar": {
              "outlinewidth": 0,
              "ticks": ""
             }
            },
            "type": "parcoords"
           }
          ],
          "pie": [
           {
            "automargin": true,
            "type": "pie"
           }
          ],
          "scatter": [
           {
            "marker": {
             "colorbar": {
              "outlinewidth": 0,
              "ticks": ""
             }
            },
            "type": "scatter"
           }
          ],
          "scatter3d": [
           {
            "line": {
             "colorbar": {
              "outlinewidth": 0,
              "ticks": ""
             }
            },
            "marker": {
             "colorbar": {
              "outlinewidth": 0,
              "ticks": ""
             }
            },
            "type": "scatter3d"
           }
          ],
          "scattercarpet": [
           {
            "marker": {
             "colorbar": {
              "outlinewidth": 0,
              "ticks": ""
             }
            },
            "type": "scattercarpet"
           }
          ],
          "scattergeo": [
           {
            "marker": {
             "colorbar": {
              "outlinewidth": 0,
              "ticks": ""
             }
            },
            "type": "scattergeo"
           }
          ],
          "scattergl": [
           {
            "marker": {
             "colorbar": {
              "outlinewidth": 0,
              "ticks": ""
             }
            },
            "type": "scattergl"
           }
          ],
          "scattermapbox": [
           {
            "marker": {
             "colorbar": {
              "outlinewidth": 0,
              "ticks": ""
             }
            },
            "type": "scattermapbox"
           }
          ],
          "scatterpolar": [
           {
            "marker": {
             "colorbar": {
              "outlinewidth": 0,
              "ticks": ""
             }
            },
            "type": "scatterpolar"
           }
          ],
          "scatterpolargl": [
           {
            "marker": {
             "colorbar": {
              "outlinewidth": 0,
              "ticks": ""
             }
            },
            "type": "scatterpolargl"
           }
          ],
          "scatterternary": [
           {
            "marker": {
             "colorbar": {
              "outlinewidth": 0,
              "ticks": ""
             }
            },
            "type": "scatterternary"
           }
          ],
          "surface": [
           {
            "colorbar": {
             "outlinewidth": 0,
             "ticks": ""
            },
            "colorscale": [
             [
              0,
              "#0d0887"
             ],
             [
              0.1111111111111111,
              "#46039f"
             ],
             [
              0.2222222222222222,
              "#7201a8"
             ],
             [
              0.3333333333333333,
              "#9c179e"
             ],
             [
              0.4444444444444444,
              "#bd3786"
             ],
             [
              0.5555555555555556,
              "#d8576b"
             ],
             [
              0.6666666666666666,
              "#ed7953"
             ],
             [
              0.7777777777777778,
              "#fb9f3a"
             ],
             [
              0.8888888888888888,
              "#fdca26"
             ],
             [
              1,
              "#f0f921"
             ]
            ],
            "type": "surface"
           }
          ],
          "table": [
           {
            "cells": {
             "fill": {
              "color": "#EBF0F8"
             },
             "line": {
              "color": "white"
             }
            },
            "header": {
             "fill": {
              "color": "#C8D4E3"
             },
             "line": {
              "color": "white"
             }
            },
            "type": "table"
           }
          ]
         },
         "layout": {
          "annotationdefaults": {
           "arrowcolor": "#2a3f5f",
           "arrowhead": 0,
           "arrowwidth": 1
          },
          "autotypenumbers": "strict",
          "coloraxis": {
           "colorbar": {
            "outlinewidth": 0,
            "ticks": ""
           }
          },
          "colorscale": {
           "diverging": [
            [
             0,
             "#8e0152"
            ],
            [
             0.1,
             "#c51b7d"
            ],
            [
             0.2,
             "#de77ae"
            ],
            [
             0.3,
             "#f1b6da"
            ],
            [
             0.4,
             "#fde0ef"
            ],
            [
             0.5,
             "#f7f7f7"
            ],
            [
             0.6,
             "#e6f5d0"
            ],
            [
             0.7,
             "#b8e186"
            ],
            [
             0.8,
             "#7fbc41"
            ],
            [
             0.9,
             "#4d9221"
            ],
            [
             1,
             "#276419"
            ]
           ],
           "sequential": [
            [
             0,
             "#0d0887"
            ],
            [
             0.1111111111111111,
             "#46039f"
            ],
            [
             0.2222222222222222,
             "#7201a8"
            ],
            [
             0.3333333333333333,
             "#9c179e"
            ],
            [
             0.4444444444444444,
             "#bd3786"
            ],
            [
             0.5555555555555556,
             "#d8576b"
            ],
            [
             0.6666666666666666,
             "#ed7953"
            ],
            [
             0.7777777777777778,
             "#fb9f3a"
            ],
            [
             0.8888888888888888,
             "#fdca26"
            ],
            [
             1,
             "#f0f921"
            ]
           ],
           "sequentialminus": [
            [
             0,
             "#0d0887"
            ],
            [
             0.1111111111111111,
             "#46039f"
            ],
            [
             0.2222222222222222,
             "#7201a8"
            ],
            [
             0.3333333333333333,
             "#9c179e"
            ],
            [
             0.4444444444444444,
             "#bd3786"
            ],
            [
             0.5555555555555556,
             "#d8576b"
            ],
            [
             0.6666666666666666,
             "#ed7953"
            ],
            [
             0.7777777777777778,
             "#fb9f3a"
            ],
            [
             0.8888888888888888,
             "#fdca26"
            ],
            [
             1,
             "#f0f921"
            ]
           ]
          },
          "colorway": [
           "#636efa",
           "#EF553B",
           "#00cc96",
           "#ab63fa",
           "#FFA15A",
           "#19d3f3",
           "#FF6692",
           "#B6E880",
           "#FF97FF",
           "#FECB52"
          ],
          "font": {
           "color": "#2a3f5f"
          },
          "geo": {
           "bgcolor": "white",
           "lakecolor": "white",
           "landcolor": "#E5ECF6",
           "showlakes": true,
           "showland": true,
           "subunitcolor": "white"
          },
          "hoverlabel": {
           "align": "left"
          },
          "hovermode": "closest",
          "mapbox": {
           "style": "light"
          },
          "paper_bgcolor": "white",
          "plot_bgcolor": "#E5ECF6",
          "polar": {
           "angularaxis": {
            "gridcolor": "white",
            "linecolor": "white",
            "ticks": ""
           },
           "bgcolor": "#E5ECF6",
           "radialaxis": {
            "gridcolor": "white",
            "linecolor": "white",
            "ticks": ""
           }
          },
          "scene": {
           "xaxis": {
            "backgroundcolor": "#E5ECF6",
            "gridcolor": "white",
            "gridwidth": 2,
            "linecolor": "white",
            "showbackground": true,
            "ticks": "",
            "zerolinecolor": "white"
           },
           "yaxis": {
            "backgroundcolor": "#E5ECF6",
            "gridcolor": "white",
            "gridwidth": 2,
            "linecolor": "white",
            "showbackground": true,
            "ticks": "",
            "zerolinecolor": "white"
           },
           "zaxis": {
            "backgroundcolor": "#E5ECF6",
            "gridcolor": "white",
            "gridwidth": 2,
            "linecolor": "white",
            "showbackground": true,
            "ticks": "",
            "zerolinecolor": "white"
           }
          },
          "shapedefaults": {
           "line": {
            "color": "#2a3f5f"
           }
          },
          "ternary": {
           "aaxis": {
            "gridcolor": "white",
            "linecolor": "white",
            "ticks": ""
           },
           "baxis": {
            "gridcolor": "white",
            "linecolor": "white",
            "ticks": ""
           },
           "bgcolor": "#E5ECF6",
           "caxis": {
            "gridcolor": "white",
            "linecolor": "white",
            "ticks": ""
           }
          },
          "title": {
           "x": 0.05
          },
          "xaxis": {
           "automargin": true,
           "gridcolor": "white",
           "linecolor": "white",
           "ticks": "",
           "title": {
            "standoff": 15
           },
           "zerolinecolor": "white",
           "zerolinewidth": 2
          },
          "yaxis": {
           "automargin": true,
           "gridcolor": "white",
           "linecolor": "white",
           "ticks": "",
           "title": {
            "standoff": 15
           },
           "zerolinecolor": "white",
           "zerolinewidth": 2
          }
         }
        },
        "title": {
         "text": "Distribution of Unemployment Data in 2018, 2019, and 2020"
        },
        "xaxis": {
         "title": {
          "text": "Year"
         }
        },
        "yaxis": {
         "autorange": true,
         "dtick": 5,
         "gridcolor": "rgb(255, 255, 255)",
         "gridwidth": 1,
         "showgrid": true,
         "title": {
          "text": "Unemployment Rate (%)"
         },
         "zeroline": false
        }
       }
      },
      "text/html": [
       "<div>                            <div id=\"6667f3cb-3b71-4678-91e2-a3b23243026e\" class=\"plotly-graph-div\" style=\"height:525px; width:100%;\"></div>            <script type=\"text/javascript\">                require([\"plotly\"], function(Plotly) {                    window.PLOTLYENV=window.PLOTLYENV || {};                                    if (document.getElementById(\"6667f3cb-3b71-4678-91e2-a3b23243026e\")) {                    Plotly.newPlot(                        \"6667f3cb-3b71-4678-91e2-a3b23243026e\",                        [{\"boxmean\": true, \"boxpoints\": \"all\", \"fillcolor\": \"rgba(93, 164, 214, 0.5)\", \"line\": {\"width\": 1}, \"marker\": {\"size\": 2}, \"name\": \"2018\", \"type\": \"box\", \"whiskerwidth\": 0.2, \"y\": [11.05700016, 7.019000052999999, 12.34000015, 10.56334426, 2.2290000919999997, 9.220000267, 17.49600029, 5.297999859, 4.84800005, 4.900000095, 1.4479999540000001, 5.947999954, 2.385999918, 6.093999863, 4.2810001369999995, 5.210999966, 0.649999976, 10.0, 18.39999962, 4.760000229, 6.512000083999999, 3.53399992, 12.33399963, 9.385000229, 8.862000465, 2.302999973, 17.35300064, 3.664000034, 5.8309998510000005, 4.312452102, 4.712999821, 7.409999847000001, 7.232999802, 4.276000023, 3.210000038, 3.3570001130000002, 4.19299984, 9.670000076, 9.111000061, 4.302000046, 12.17000008, 9.631999968999999, 8.372812195, 1.7000000480000002, 8.369999886, 2.243000031, 3.3840000630000002, 10.25699997, 4.974999905, 5.738999843999999, 11.88199997, 3.852769049, 5.689869894, 3.7884354989999998, 7.092560212, 6.903874432, 3.529999971, 11.59200001, 8.187862166, 5.104000092, 15.25500011, 5.366000175, 2.075000048, 7.26938483, 6.914434856000001, 7.361000061, 4.157999992, 9.059000015, 19.80699921, 3.996000051, 13.78499985, 4.157000065, 4.247000217, 9.027000427, 2.437999964, 6.382999897, 19.29199982, 2.40199995, 4.928999901, 11.90600014, 5.074339469, 2.9030001160000003, 5.647999763, 4.42163363, 8.43200016, 13.59200001, 3.707999945, 5.699092447999999, 5.470069400000001, 4.671868283999999, 5.358918837, 4.511000156000001, 4.368850354, 5.329999924, 5.739999771, 12.03999996, 12.86200047, 2.7039999960000003, 3.997999907, 10.60999966, 9.104000092, 14.95899963, 2.400000095, 4.8249998089999995, 2.63499999, 5.9600000379999996, 0.65200001, 3.84800005, 2.075999975, 8.008721829, 0.640999973, 6.1430001260000004, 2.9319999219999997, 18.46800041, 20.87899971, 7.954364685, 4.3556171589999995, 4.881436116000001, 4.118999958, 5.132227136, 5.462895418, 23.97100067, 5.0594727960000005, 6.146999836, 5.5850000379999996, 7.412000179, 1.9659999609999999, 9.078000069, 2.9779999260000003, 1.68900001, 5.848999977, 10.137186400000001, 3.2829999919999997, 5.5206425789999996, 20.73600006, 7.110000134, 3.71600008, 1.493999958, 11.90052671, 15.17500019, 6.254000187000001, 3.2369999889999996, 9.463999747999999, 6.657000065, 5.622000217, 3.349999905, 4.107848655, 19.87700081, 12.84700012, 0.47099998600000004, 8.243000031000001, 5.1999998089999995, 3.8299999239999996, 3.799999952, 1.350000024, 4.297999859, 5.443626204, 2.864000082, 9.167588381, 4.083000183, 3.894000053, 3.390000105, 2.338000059, 2.423000097, 3.845000029, 5.72582218, 9.199999809, 2.7130000589999996, 6.993000031, 4.53399992, 26.25600052, 3.01339654, 5.28618863, 12.31400013, 0.109999999, 4.186999798, 4.846000195, 1.01699996, 5.059690961, 6.0399999620000004, 16.89999962, 6.52699995, 4.019000053, 0.617999971, 4.416999817, 4.006000042, 11.27999973, 12.7329998, 6.158683561, 12.22500038, 6.159415136000001, 8.717256912, 13.14799976, 6.993999958, 6.535999775, 5.107999802, 6.346000195, 22.36100006, 8.256999968999999, 1.838000059, 3.869544351, 6.700274423, 2.078999996, 0.765999973, 11.13300037, 3.799999952, 8.053110769, 4.479000092, 11.74984848, 1.0520000459999999, 5.059690961, 6.159415136000001, 2.5, 15.45899963, 10.89000034, 1.99000001, 1.7489999530000002, 8.798999786, 5.811806796, 8.336000443, 3.8959999080000003, 5.736000061, 18.87899971, 7.217000007999999, 8.397999763, 1.993000031, 4.368000031, 5.39221306, 8.312000275, 13.00199986, 26.92000008, 11.5, 5.086999893]}, {\"boxmean\": true, \"boxpoints\": \"all\", \"fillcolor\": \"rgba(255, 144, 14, 0.5)\", \"line\": {\"width\": 1}, \"marker\": {\"size\": 2}, \"name\": \"2019\", \"type\": \"box\", \"whiskerwidth\": 0.2, \"y\": [11.11800003, 6.886000156000001, 12.33100033, 10.33694622, 2.34800005, 9.788999557, 16.98999977, 5.2680001260000004, 4.673999786, 5.508999825, 1.4270000459999999, 5.589000225, 2.2320001130000002, 6.263999939, 4.190000057, 4.340000153, 0.713999987, 10.35999966, 18.42499924, 4.59499979, 6.413000107, 3.497999907, 12.08300018, 10.33100033, 9.116999626, 2.3420000080000003, 18.19300079, 3.680000067, 5.56400013, 3.870378192, 4.5809998510000005, 7.486999989, 7.090000152999999, 4.320000172, 3.316999912, 3.3800001139999996, 4.236000061, 9.472000122, 9.706999779, 4.335999966, 12.2489996, 11.85400009, 8.011520389, 1.638000011, 7.274000168, 1.9329999690000002, 3.042999983, 10.29500008, 4.913000107, 5.84499979, 11.70400047, 3.8956813510000003, 5.816613529, 3.830287611, 7.491865217000001, 6.763186376, 3.967999935, 10.76000023, 7.496169932999999, 5.144000053, 13.95899963, 5.114999771, 2.08100009, 6.666848568, 6.9649992439999995, 6.59499979, 4.100999832, 8.427000046, 20.00399971, 3.851000071, 14.39799976, 4.3309998510000005, 4.296000004, 9.055999756, 2.46600008, 6.433000087999999, 17.23800087, 2.459000111, 5.31099987, 11.85200024, 4.793254837, 3.628999949, 5.386000156000001, 4.447173146, 6.934999942999999, 13.78100014, 3.398999929, 5.770164567999999, 5.5302332210000005, 4.711286128, 5.4583945389999995, 4.686999798, 4.382339958, 5.355000018999999, 4.927999973, 11.38199997, 12.82199955, 2.8420000080000003, 3.8610000610000004, 9.887000084, 8.001999855, 14.71500015, 2.290999889, 4.590000153, 2.64199996, 6.329999924, 0.6769999859999999, 4.1479997630000005, 2.1819999219999997, 8.134316793, 0.625999987, 6.229000092000001, 2.8139998910000004, 18.56299973, 20.70599937, 8.069178678, 4.348260905, 4.889683791, 4.197999954, 5.134931187, 5.527787008, 23.40500069, 5.06480201, 6.352000237, 5.362999916000001, 6.519999981000001, 2.236999989, 9.019000053, 5.47300005, 1.758000016, 6.138000011, 9.825076901000001, 3.424999952, 5.592531052999999, 17.75900078, 7.223999977, 3.47300005, 1.5770000219999998, 11.52503546, 14.88300037, 6.011000156000001, 3.2409999369999998, 9.548000336, 6.673999786, 5.652999877999999, 3.323999882, 3.889743746, 20.27300072, 12.80000019, 0.474999994, 8.095999718, 6.836999893, 3.196000099, 3.3459999560000004, 1.406999946, 4.068999767, 5.356232185, 2.671000004, 9.159979502999999, 4.453000069, 3.90199995, 3.3099999430000002, 2.150000095, 2.459000111, 3.473999977, 5.6934621, 8.187000275, 2.74000001, 6.334000111, 4.809000015, 26.16900063, 2.970332224, 4.999670912, 12.09599972, 0.09099999800000001, 3.976000071, 4.585000038, 1.0299999709999998, 5.111422752, 5.927000046, 16.53499985, 6.604000092000001, 4.109000206, 0.575999975, 4.427999973, 4.110000134, 11.35099983, 12.68599987, 6.186109627, 12.24400043, 6.186806795, 8.645776074, 13.36900043, 7.334000111, 5.56099987, 4.195000172, 6.475999832, 22.08300018, 8.369999886, 1.8910000319999998, 3.91277164, 6.994651235, 2.038000107, 0.754000008, 11.0170002, 3.913000107, 8.172789853, 4.547999859, 11.36794496, 1.116999984, 5.111422752, 6.186806795, 2.6860001089999996, 16.02199936, 13.48999977, 1.980000019, 1.843000054, 8.881999968999999, 5.94048844, 8.730999947, 3.6819999219999997, 5.916999817000001, 18.88100052, 8.800999641, 8.661999702000001, 2.013000011, 4.385000229, 5.39506305, 8.359000206000001, 12.90999985, 28.18099976, 11.42500019, 4.953999996]}, {\"boxmean\": true, \"boxpoints\": \"all\", \"fillcolor\": \"rgba(44, 160, 101, 0.5)\", \"line\": {\"width\": 1}, \"marker\": {\"size\": 2}, \"name\": \"2020\", \"type\": \"box\", \"whiskerwidth\": 0.2, \"y\": [11.16399956, 6.774000168, 12.81299973, 10.19147219, 2.447000027, 10.43599987, 16.625, 5.328000069, 4.778999805, 5.9600000379999996, 1.407999992, 5.691999912000001, 2.023000002, 6.414000034, 4.151000023, 3.849999905, 0.7630000109999999, 11.27000046, 18.43799973, 4.625, 6.3569998739999996, 3.450000048, 11.9659996, 10.93799973, 9.043999672, 2.390000105, 18.72100067, 3.696000099, 5.412000179, 3.6418477869999997, 4.848999977, 7.534999847000001, 7.096000195, 4.3699998860000004, 3.423000097, 3.427999973, 4.25, 9.281999588, 9.744000435, 4.366000175, 12.31799984, 12.73400021, 8.092526873999999, 1.5900000330000001, 7.234000206, 1.9099999669999999, 3.025000095, 10.32299995, 4.846000195, 5.9190001489999995, 11.52499962, 3.9514128860000004, 5.84416443, 3.8978883669999997, 7.376411121, 6.631571683, 4.237999916000001, 10.12800026, 7.25474786, 5.171999931, 13.01500034, 5.379000187000001, 2.082000017, 6.445279815, 6.994557176, 6.65899992, 4.079999924, 8.338000297999999, 20.14500046, 4.114999771, 14.74199963, 4.508999825, 4.329999924, 9.107000351, 2.486999989, 6.46999979, 15.47399998, 2.506999969, 5.6750001910000005, 11.81299973, 4.811218412, 4.264999866, 5.229000092, 4.477224919, 7.113999843999999, 13.91499996, 3.460000038, 5.801744919, 5.552639069, 4.720010308, 5.425470438, 4.835000038, 4.410047533999999, 5.399000168, 5.157999992, 11.18099976, 12.82499981, 3.2219998839999997, 3.7790000439999996, 9.836000443, 7.9499998089999995, 14.61299992, 2.338999987, 4.551000118, 2.6459999080000003, 6.6430001260000004, 0.69599998, 4.597000122, 2.302999973, 8.208613324, 0.6019999979999999, 6.276000023, 2.724999905, 18.62599945, 20.14999962, 8.141540487, 4.3633873219999995, 4.913977185, 4.177999973, 5.1322451860000005, 5.55321215, 22.83099937, 5.08484507, 6.261000156000001, 5.243999958, 6.532999992000001, 2.505000114, 8.954999924, 5.364999771, 1.832999945, 6.434000015, 9.636612298, 3.6540000439999996, 5.619500691, 16.43899918, 7.34100008, 3.367000103, 1.710999966, 11.29630708, 14.75599957, 5.946000099, 3.242000103, 9.61400032, 6.68900013, 5.673999786, 3.378000021, 4.03348776, 20.58699989, 12.78100014, 0.485000014, 7.9600000379999996, 7.355000018999999, 2.974999905, 3.3099999430000002, 1.4659999609999999, 4.013000011, 5.365522499, 2.546000004, 9.214162667, 4.445000172, 3.825000048, 3.196000099, 2.164000034, 2.486999989, 3.039999962, 5.679897304, 8.413999557, 2.7639999389999996, 5.933000087999999, 4.835999966, 26.09799957, 2.9439423330000003, 5.030064089, 11.93400002, 0.082000002, 3.921999931, 4.4250001910000005, 1.041000009, 5.140202803999999, 5.857999802, 16.61800003, 6.676000117999999, 4.3800001139999996, 0.541999996, 4.440999985, 4.196000099, 11.39999962, 12.72200012, 6.1750409170000005, 12.25699997, 6.175756538, 8.702974863, 13.67099953, 7.472000122000001, 5.104000092, 3.8020000460000003, 6.673999786, 21.97100067, 8.447999954, 1.942999959, 3.9690323530000002, 6.8602548389999995, 2.005000114, 0.8029999729999999, 10.98900032, 4.071000099, 8.244177129, 4.603000164, 11.13439221, 1.156999946, 5.140202803999999, 6.175756538, 2.7950000760000004, 16.15399933, 12.94099998, 1.980999947, 1.91900003, 8.934000015, 5.9953467279999995, 8.777000427, 3.8619999889999996, 6.081999778999999, 18.87000084, 9.380999565, 8.758999825, 2.022000074, 4.407999992, 5.420152616, 8.354999542, 12.82999992, 28.47699928, 11.411999699999999, 4.991000175]}],                        {\"margin\": {\"b\": 80, \"l\": 40, \"r\": 30, \"t\": 100}, \"paper_bgcolor\": \"rgb(243, 243, 243)\", \"plot_bgcolor\": \"rgb(243, 243, 243)\", \"showlegend\": false, \"template\": {\"data\": {\"bar\": [{\"error_x\": {\"color\": \"#2a3f5f\"}, \"error_y\": {\"color\": \"#2a3f5f\"}, \"marker\": {\"line\": {\"color\": \"#E5ECF6\", \"width\": 0.5}}, \"type\": \"bar\"}], \"barpolar\": [{\"marker\": {\"line\": {\"color\": \"#E5ECF6\", \"width\": 0.5}}, \"type\": \"barpolar\"}], \"carpet\": [{\"aaxis\": {\"endlinecolor\": \"#2a3f5f\", \"gridcolor\": \"white\", \"linecolor\": \"white\", \"minorgridcolor\": \"white\", \"startlinecolor\": \"#2a3f5f\"}, \"baxis\": {\"endlinecolor\": \"#2a3f5f\", \"gridcolor\": \"white\", \"linecolor\": \"white\", \"minorgridcolor\": \"white\", \"startlinecolor\": \"#2a3f5f\"}, \"type\": \"carpet\"}], \"choropleth\": [{\"colorbar\": {\"outlinewidth\": 0, \"ticks\": \"\"}, \"type\": \"choropleth\"}], \"contour\": [{\"colorbar\": {\"outlinewidth\": 0, \"ticks\": \"\"}, \"colorscale\": [[0.0, \"#0d0887\"], [0.1111111111111111, \"#46039f\"], [0.2222222222222222, \"#7201a8\"], [0.3333333333333333, \"#9c179e\"], [0.4444444444444444, \"#bd3786\"], [0.5555555555555556, \"#d8576b\"], [0.6666666666666666, \"#ed7953\"], [0.7777777777777778, \"#fb9f3a\"], [0.8888888888888888, \"#fdca26\"], [1.0, \"#f0f921\"]], \"type\": \"contour\"}], \"contourcarpet\": [{\"colorbar\": {\"outlinewidth\": 0, \"ticks\": \"\"}, \"type\": \"contourcarpet\"}], \"heatmap\": [{\"colorbar\": {\"outlinewidth\": 0, \"ticks\": \"\"}, \"colorscale\": [[0.0, \"#0d0887\"], [0.1111111111111111, \"#46039f\"], [0.2222222222222222, \"#7201a8\"], [0.3333333333333333, \"#9c179e\"], [0.4444444444444444, \"#bd3786\"], [0.5555555555555556, \"#d8576b\"], [0.6666666666666666, \"#ed7953\"], [0.7777777777777778, \"#fb9f3a\"], [0.8888888888888888, \"#fdca26\"], [1.0, \"#f0f921\"]], \"type\": \"heatmap\"}], \"heatmapgl\": [{\"colorbar\": {\"outlinewidth\": 0, \"ticks\": \"\"}, \"colorscale\": [[0.0, \"#0d0887\"], [0.1111111111111111, \"#46039f\"], [0.2222222222222222, \"#7201a8\"], [0.3333333333333333, \"#9c179e\"], [0.4444444444444444, \"#bd3786\"], [0.5555555555555556, \"#d8576b\"], [0.6666666666666666, \"#ed7953\"], [0.7777777777777778, \"#fb9f3a\"], [0.8888888888888888, \"#fdca26\"], [1.0, \"#f0f921\"]], \"type\": \"heatmapgl\"}], \"histogram\": [{\"marker\": {\"colorbar\": {\"outlinewidth\": 0, \"ticks\": \"\"}}, \"type\": \"histogram\"}], \"histogram2d\": [{\"colorbar\": {\"outlinewidth\": 0, \"ticks\": \"\"}, \"colorscale\": [[0.0, \"#0d0887\"], [0.1111111111111111, \"#46039f\"], [0.2222222222222222, \"#7201a8\"], [0.3333333333333333, \"#9c179e\"], [0.4444444444444444, \"#bd3786\"], [0.5555555555555556, \"#d8576b\"], [0.6666666666666666, \"#ed7953\"], [0.7777777777777778, \"#fb9f3a\"], [0.8888888888888888, \"#fdca26\"], [1.0, \"#f0f921\"]], \"type\": \"histogram2d\"}], \"histogram2dcontour\": [{\"colorbar\": {\"outlinewidth\": 0, \"ticks\": \"\"}, \"colorscale\": [[0.0, \"#0d0887\"], [0.1111111111111111, \"#46039f\"], [0.2222222222222222, \"#7201a8\"], [0.3333333333333333, \"#9c179e\"], [0.4444444444444444, \"#bd3786\"], [0.5555555555555556, \"#d8576b\"], [0.6666666666666666, \"#ed7953\"], [0.7777777777777778, \"#fb9f3a\"], [0.8888888888888888, \"#fdca26\"], [1.0, \"#f0f921\"]], \"type\": \"histogram2dcontour\"}], \"mesh3d\": [{\"colorbar\": {\"outlinewidth\": 0, \"ticks\": \"\"}, \"type\": \"mesh3d\"}], \"parcoords\": [{\"line\": {\"colorbar\": {\"outlinewidth\": 0, \"ticks\": \"\"}}, \"type\": \"parcoords\"}], \"pie\": [{\"automargin\": true, \"type\": \"pie\"}], \"scatter\": [{\"marker\": {\"colorbar\": {\"outlinewidth\": 0, \"ticks\": \"\"}}, \"type\": \"scatter\"}], \"scatter3d\": [{\"line\": {\"colorbar\": {\"outlinewidth\": 0, \"ticks\": \"\"}}, \"marker\": {\"colorbar\": {\"outlinewidth\": 0, \"ticks\": \"\"}}, \"type\": \"scatter3d\"}], \"scattercarpet\": [{\"marker\": {\"colorbar\": {\"outlinewidth\": 0, \"ticks\": \"\"}}, \"type\": \"scattercarpet\"}], \"scattergeo\": [{\"marker\": {\"colorbar\": {\"outlinewidth\": 0, \"ticks\": \"\"}}, \"type\": \"scattergeo\"}], \"scattergl\": [{\"marker\": {\"colorbar\": {\"outlinewidth\": 0, \"ticks\": \"\"}}, \"type\": \"scattergl\"}], \"scattermapbox\": [{\"marker\": {\"colorbar\": {\"outlinewidth\": 0, \"ticks\": \"\"}}, \"type\": \"scattermapbox\"}], \"scatterpolar\": [{\"marker\": {\"colorbar\": {\"outlinewidth\": 0, \"ticks\": \"\"}}, \"type\": \"scatterpolar\"}], \"scatterpolargl\": [{\"marker\": {\"colorbar\": {\"outlinewidth\": 0, \"ticks\": \"\"}}, \"type\": \"scatterpolargl\"}], \"scatterternary\": [{\"marker\": {\"colorbar\": {\"outlinewidth\": 0, \"ticks\": \"\"}}, \"type\": \"scatterternary\"}], \"surface\": [{\"colorbar\": {\"outlinewidth\": 0, \"ticks\": \"\"}, \"colorscale\": [[0.0, \"#0d0887\"], [0.1111111111111111, \"#46039f\"], [0.2222222222222222, \"#7201a8\"], [0.3333333333333333, \"#9c179e\"], [0.4444444444444444, \"#bd3786\"], [0.5555555555555556, \"#d8576b\"], [0.6666666666666666, \"#ed7953\"], [0.7777777777777778, \"#fb9f3a\"], [0.8888888888888888, \"#fdca26\"], [1.0, \"#f0f921\"]], \"type\": \"surface\"}], \"table\": [{\"cells\": {\"fill\": {\"color\": \"#EBF0F8\"}, \"line\": {\"color\": \"white\"}}, \"header\": {\"fill\": {\"color\": \"#C8D4E3\"}, \"line\": {\"color\": \"white\"}}, \"type\": \"table\"}]}, \"layout\": {\"annotationdefaults\": {\"arrowcolor\": \"#2a3f5f\", \"arrowhead\": 0, \"arrowwidth\": 1}, \"autotypenumbers\": \"strict\", \"coloraxis\": {\"colorbar\": {\"outlinewidth\": 0, \"ticks\": \"\"}}, \"colorscale\": {\"diverging\": [[0, \"#8e0152\"], [0.1, \"#c51b7d\"], [0.2, \"#de77ae\"], [0.3, \"#f1b6da\"], [0.4, \"#fde0ef\"], [0.5, \"#f7f7f7\"], [0.6, \"#e6f5d0\"], [0.7, \"#b8e186\"], [0.8, \"#7fbc41\"], [0.9, \"#4d9221\"], [1, \"#276419\"]], \"sequential\": [[0.0, \"#0d0887\"], [0.1111111111111111, \"#46039f\"], [0.2222222222222222, \"#7201a8\"], [0.3333333333333333, \"#9c179e\"], [0.4444444444444444, \"#bd3786\"], [0.5555555555555556, \"#d8576b\"], [0.6666666666666666, \"#ed7953\"], [0.7777777777777778, \"#fb9f3a\"], [0.8888888888888888, \"#fdca26\"], [1.0, \"#f0f921\"]], \"sequentialminus\": [[0.0, \"#0d0887\"], [0.1111111111111111, \"#46039f\"], [0.2222222222222222, \"#7201a8\"], [0.3333333333333333, \"#9c179e\"], [0.4444444444444444, \"#bd3786\"], [0.5555555555555556, \"#d8576b\"], [0.6666666666666666, \"#ed7953\"], [0.7777777777777778, \"#fb9f3a\"], [0.8888888888888888, \"#fdca26\"], [1.0, \"#f0f921\"]]}, \"colorway\": [\"#636efa\", \"#EF553B\", \"#00cc96\", \"#ab63fa\", \"#FFA15A\", \"#19d3f3\", \"#FF6692\", \"#B6E880\", \"#FF97FF\", \"#FECB52\"], \"font\": {\"color\": \"#2a3f5f\"}, \"geo\": {\"bgcolor\": \"white\", \"lakecolor\": \"white\", \"landcolor\": \"#E5ECF6\", \"showlakes\": true, \"showland\": true, \"subunitcolor\": \"white\"}, \"hoverlabel\": {\"align\": \"left\"}, \"hovermode\": \"closest\", \"mapbox\": {\"style\": \"light\"}, \"paper_bgcolor\": \"white\", \"plot_bgcolor\": \"#E5ECF6\", \"polar\": {\"angularaxis\": {\"gridcolor\": \"white\", \"linecolor\": \"white\", \"ticks\": \"\"}, \"bgcolor\": \"#E5ECF6\", \"radialaxis\": {\"gridcolor\": \"white\", \"linecolor\": \"white\", \"ticks\": \"\"}}, \"scene\": {\"xaxis\": {\"backgroundcolor\": \"#E5ECF6\", \"gridcolor\": \"white\", \"gridwidth\": 2, \"linecolor\": \"white\", \"showbackground\": true, \"ticks\": \"\", \"zerolinecolor\": \"white\"}, \"yaxis\": {\"backgroundcolor\": \"#E5ECF6\", \"gridcolor\": \"white\", \"gridwidth\": 2, \"linecolor\": \"white\", \"showbackground\": true, \"ticks\": \"\", \"zerolinecolor\": \"white\"}, \"zaxis\": {\"backgroundcolor\": \"#E5ECF6\", \"gridcolor\": \"white\", \"gridwidth\": 2, \"linecolor\": \"white\", \"showbackground\": true, \"ticks\": \"\", \"zerolinecolor\": \"white\"}}, \"shapedefaults\": {\"line\": {\"color\": \"#2a3f5f\"}}, \"ternary\": {\"aaxis\": {\"gridcolor\": \"white\", \"linecolor\": \"white\", \"ticks\": \"\"}, \"baxis\": {\"gridcolor\": \"white\", \"linecolor\": \"white\", \"ticks\": \"\"}, \"bgcolor\": \"#E5ECF6\", \"caxis\": {\"gridcolor\": \"white\", \"linecolor\": \"white\", \"ticks\": \"\"}}, \"title\": {\"x\": 0.05}, \"xaxis\": {\"automargin\": true, \"gridcolor\": \"white\", \"linecolor\": \"white\", \"ticks\": \"\", \"title\": {\"standoff\": 15}, \"zerolinecolor\": \"white\", \"zerolinewidth\": 2}, \"yaxis\": {\"automargin\": true, \"gridcolor\": \"white\", \"linecolor\": \"white\", \"ticks\": \"\", \"title\": {\"standoff\": 15}, \"zerolinecolor\": \"white\", \"zerolinewidth\": 2}}}, \"title\": {\"text\": \"Distribution of Unemployment Data in 2018, 2019, and 2020\"}, \"xaxis\": {\"title\": {\"text\": \"Year\"}}, \"yaxis\": {\"autorange\": true, \"dtick\": 5, \"gridcolor\": \"rgb(255, 255, 255)\", \"gridwidth\": 1, \"showgrid\": true, \"title\": {\"text\": \"Unemployment Rate (%)\"}, \"zeroline\": false}},                        {\"responsive\": true}                    ).then(function(){\n",
       "                            \n",
       "var gd = document.getElementById('6667f3cb-3b71-4678-91e2-a3b23243026e');\n",
       "var x = new MutationObserver(function (mutations, observer) {{\n",
       "        var display = window.getComputedStyle(gd).display;\n",
       "        if (!display || display === 'none') {{\n",
       "            console.log([gd, 'removed!']);\n",
       "            Plotly.purge(gd);\n",
       "            observer.disconnect();\n",
       "        }}\n",
       "}});\n",
       "\n",
       "// Listen for the removal of the full notebook cells\n",
       "var notebookContainer = gd.closest('#notebook-container');\n",
       "if (notebookContainer) {{\n",
       "    x.observe(notebookContainer, {childList: true});\n",
       "}}\n",
       "\n",
       "// Listen for the clearing of the current output cell\n",
       "var outputEl = gd.closest('.output');\n",
       "if (outputEl) {{\n",
       "    x.observe(outputEl, {childList: true});\n",
       "}}\n",
       "\n",
       "                        })                };                });            </script>        </div>"
      ]
     },
     "metadata": {},
     "output_type": "display_data"
    }
   ],
   "source": [
    "# Boxplots For 2018, 2019, 2020 unemployment rates to have a better look at the distributions and central tendencies.\n",
    "# Thanks to https://www.kaggle.com/abhi084/analysis-of-unemployment-data\n",
    "\n",
    "x_data = ['2018', '2019','2020']\n",
    "\n",
    "y0 = df['2018']\n",
    "y1 = df['2019']\n",
    "y2 = df['2020']\n",
    "\n",
    "\n",
    "y_data = [y0,y1,y2]\n",
    "\n",
    "colors = ['rgba(93, 164, 214, 0.5)', 'rgba(255, 144, 14, 0.5)', 'rgba(44, 160, 101, 0.5)']\n",
    "\n",
    "traces = []\n",
    "\n",
    "for xd, yd, color in zip(x_data, y_data, colors):\n",
    "        traces.append(go.Box(\n",
    "            y=yd,\n",
    "            name=xd,\n",
    "            boxpoints='all',\n",
    "            whiskerwidth=0.2,\n",
    "            fillcolor=color,\n",
    "            marker=dict(\n",
    "                size=2,\n",
    "            ),\n",
    "            boxmean=True,    \n",
    "            line=dict(width=1),\n",
    "        ))\n",
    "\n",
    "layout = go.Layout(\n",
    "    title='Distribution of Unemployment Data in 2018, 2019, and 2020',\n",
    "    xaxis=dict(\n",
    "        title='Year'\n",
    "    ),\n",
    "    yaxis=dict(\n",
    "        title='Unemployment Rate (%)',\n",
    "        autorange=True,\n",
    "        showgrid=True,\n",
    "        zeroline=False,\n",
    "        dtick=5,\n",
    "        gridcolor='rgb(255, 255, 255)',\n",
    "        gridwidth=1,\n",
    "#        zerolinecolor='rgb(255, 255, 255)',\n",
    "#        zerolinewidth=2,\n",
    "    ),\n",
    "    margin=dict(\n",
    "        l=40,\n",
    "        r=30,\n",
    "        b=80,\n",
    "        t=100,\n",
    "    ),\n",
    "    paper_bgcolor='rgb(243, 243, 243)',\n",
    "    plot_bgcolor='rgb(243, 243, 243)',\n",
    "    showlegend=False\n",
    ")\n",
    "\n",
    "fig = go.Figure(data=traces, layout=layout)\n",
    "py.iplot(fig)"
   ]
  },
  {
   "cell_type": "markdown",
   "metadata": {},
   "source": [
    "Now, I would like to see the changes of these rates from one year to another. I am hoping to see that the changes in 2019-2020 will be dominated by positive changes as it will explain the rise of unemployment rates. I will compare this to the changes from 2018-2019"
   ]
  },
  {
   "cell_type": "code",
   "execution_count": 79,
   "metadata": {},
   "outputs": [],
   "source": [
    "# Create columns for the changes between years 2020-2019 and 2019-2018.\n",
    "\n",
    "df['2020-2019 change']=df['2020']-df['2019']\n",
    "df['2019-2018 change']=df['2019']-df['2018']\n",
    "\n"
   ]
  },
  {
   "cell_type": "code",
   "execution_count": 77,
   "metadata": {},
   "outputs": [
    {
     "name": "stdout",
     "output_type": "stream",
     "text": [
      "Number of negative changes in 2019 =  106\n",
      "Number of positive changes in 2019 =  127\n",
      "Number of negative changes in 2020 =  89\n",
      "Number of positive changes in 2020 =  144\n"
     ]
    }
   ],
   "source": [
    "# Count the positive and negative changes.\n",
    "\n",
    "print('Number of negative changes in 2019 = ', sum(n < 0 for n in df['2019-2018 change']))\n",
    "print('Number of positive changes in 2019 = ', sum(n > 0 for n in df['2019-2018 change']))\n",
    "print('Number of negative changes in 2020 = ', sum(n < 0 for n in df['2020-2019 change']))\n",
    "print('Number of positive changes in 2020 = ', sum(n > 0 for n in df['2020-2019 change']))\n",
    "\n"
   ]
  },
  {
   "cell_type": "code",
   "execution_count": 78,
   "metadata": {},
   "outputs": [
    {
     "data": {
      "image/png": "[encoded data removed]",
      "text/plain": [
       "<Figure size 1440x3600 with 2 Axes>"
      ]
     },
     "metadata": {},
     "output_type": "display_data"
    }
   ],
   "source": [
    "# I would like to see this changes visually so I try to make a bar chart that would better represent the changes of unemployment rates.\n",
    "# Thanks to https://www.kaggle.com/abhi084/analysis-of-unemployment-data\n",
    "ayearchange1920_bar, countries_bar1 = (list(x) for x in zip(*sorted(zip(df['2020-2019 change'], df['Country Name']), \n",
    "                                                             reverse = True)))\n",
    "ayearchange1819_bar, countries_bar1 = (list(x) for x in zip(*sorted(zip(df['2019-2018 change'], df['Country Name']), \n",
    "                                                             reverse = True)))\n",
    "\n",
    "\n",
    "# Another direct way of sorting according to values is creating distinct sorted dataframes as in below commented ways and then\n",
    "# passing their values directly as in below mentioned code to achieve the same effect as by above mentioned method.\n",
    "\n",
    "# df_country_sorted=df_country.sort(columns='2014-2012 change',ascending=False)\n",
    "# df_country_sorted.head()\n",
    "\n",
    "\n",
    "sns.set(font_scale=1) \n",
    "fig, axes = plt.subplots(1, 2, figsize=(20, 50))\n",
    "colorspal = sns.color_palette('husl', len(df['2020']))\n",
    "sns.barplot(ayearchange1920_bar, countries_bar1, palette = colorspal, ax = axes[0])\n",
    "sns.barplot(ayearchange1819_bar, countries_bar1, palette = colorspal, ax = axes[1])\n",
    "axes[0].set(xlabel='%age change in Unemployment Rates', title='Net %age change in Unemployment Rates between 2019-2020')\n",
    "axes[1].set(xlabel='%age change in Unemployment Rates', title='Net %age change in Unemployment Rates between 2018-2019')\n",
    "fig.savefig('output.png')\n"
   ]
  },
  {
   "cell_type": "code",
   "execution_count": 95,
   "metadata": {},
   "outputs": [
    {
     "data": {
      "text/html": [
       "<div>\n",
       "<style scoped>\n",
       "    .dataframe tbody tr th:only-of-type {\n",
       "        vertical-align: middle;\n",
       "    }\n",
       "\n",
       "    .dataframe tbody tr th {\n",
       "        vertical-align: top;\n",
       "    }\n",
       "\n",
       "    .dataframe thead th {\n",
       "        text-align: right;\n",
       "    }\n",
       "</style>\n",
       "<table border=\"1\" class=\"dataframe\">\n",
       "  <thead>\n",
       "    <tr style=\"text-align: right;\">\n",
       "      <th></th>\n",
       "      <th>Country Name</th>\n",
       "      <th>Country Code</th>\n",
       "      <th>2016</th>\n",
       "      <th>2017</th>\n",
       "      <th>2018</th>\n",
       "      <th>2019</th>\n",
       "      <th>2020</th>\n",
       "      <th>2020-2019 change</th>\n",
       "      <th>2019-2018 change</th>\n",
       "    </tr>\n",
       "  </thead>\n",
       "  <tbody>\n",
       "    <tr>\n",
       "      <th>87</th>\n",
       "      <td>Greece</td>\n",
       "      <td>GRC</td>\n",
       "      <td>23.539000</td>\n",
       "      <td>21.488001</td>\n",
       "      <td>19.292000</td>\n",
       "      <td>17.238001</td>\n",
       "      <td>15.474000</td>\n",
       "      <td>-1.764001</td>\n",
       "      <td>-2.053999</td>\n",
       "    </tr>\n",
       "    <tr>\n",
       "      <th>155</th>\n",
       "      <td>North Macedonia</td>\n",
       "      <td>MKD</td>\n",
       "      <td>23.724001</td>\n",
       "      <td>22.381001</td>\n",
       "      <td>20.736000</td>\n",
       "      <td>17.759001</td>\n",
       "      <td>16.438999</td>\n",
       "      <td>-1.320002</td>\n",
       "      <td>-2.976999</td>\n",
       "    </tr>\n",
       "    <tr>\n",
       "      <th>68</th>\n",
       "      <td>Spain</td>\n",
       "      <td>ESP</td>\n",
       "      <td>19.635000</td>\n",
       "      <td>17.224001</td>\n",
       "      <td>15.255000</td>\n",
       "      <td>13.959000</td>\n",
       "      <td>13.015000</td>\n",
       "      <td>-0.943999</td>\n",
       "      <td>-1.296000</td>\n",
       "    </tr>\n",
       "    <tr>\n",
       "      <th>65</th>\n",
       "      <td>Egypt, Arab Rep.</td>\n",
       "      <td>EGY</td>\n",
       "      <td>12.407000</td>\n",
       "      <td>11.737000</td>\n",
       "      <td>11.592000</td>\n",
       "      <td>10.760000</td>\n",
       "      <td>10.128000</td>\n",
       "      <td>-0.632000</td>\n",
       "      <td>-0.832000</td>\n",
       "    </tr>\n",
       "    <tr>\n",
       "      <th>139</th>\n",
       "      <td>Lesotho</td>\n",
       "      <td>LSO</td>\n",
       "      <td>24.299999</td>\n",
       "      <td>24.134001</td>\n",
       "      <td>23.971001</td>\n",
       "      <td>23.405001</td>\n",
       "      <td>22.830999</td>\n",
       "      <td>-0.574001</td>\n",
       "      <td>-0.566000</td>\n",
       "    </tr>\n",
       "    <tr>\n",
       "      <th>131</th>\n",
       "      <td>St. Lucia</td>\n",
       "      <td>LCA</td>\n",
       "      <td>21.263000</td>\n",
       "      <td>21.069000</td>\n",
       "      <td>20.879000</td>\n",
       "      <td>20.705999</td>\n",
       "      <td>20.150000</td>\n",
       "      <td>-0.556000</td>\n",
       "      <td>-0.173000</td>\n",
       "    </tr>\n",
       "    <tr>\n",
       "      <th>242</th>\n",
       "      <td>Turkey</td>\n",
       "      <td>TUR</td>\n",
       "      <td>10.839000</td>\n",
       "      <td>10.819000</td>\n",
       "      <td>10.890000</td>\n",
       "      <td>13.490000</td>\n",
       "      <td>12.941000</td>\n",
       "      <td>-0.549000</td>\n",
       "      <td>2.599999</td>\n",
       "    </tr>\n",
       "    <tr>\n",
       "      <th>19</th>\n",
       "      <td>Bulgaria</td>\n",
       "      <td>BGR</td>\n",
       "      <td>7.575000</td>\n",
       "      <td>6.164000</td>\n",
       "      <td>5.211000</td>\n",
       "      <td>4.340000</td>\n",
       "      <td>3.850000</td>\n",
       "      <td>-0.490000</td>\n",
       "      <td>-0.871000</td>\n",
       "    </tr>\n",
       "    <tr>\n",
       "      <th>219</th>\n",
       "      <td>Slovak Republic</td>\n",
       "      <td>SVK</td>\n",
       "      <td>9.670000</td>\n",
       "      <td>8.131000</td>\n",
       "      <td>6.536000</td>\n",
       "      <td>5.561000</td>\n",
       "      <td>5.104000</td>\n",
       "      <td>-0.457000</td>\n",
       "      <td>-0.975000</td>\n",
       "    </tr>\n",
       "    <tr>\n",
       "      <th>188</th>\n",
       "      <td>Poland</td>\n",
       "      <td>POL</td>\n",
       "      <td>6.161000</td>\n",
       "      <td>4.887000</td>\n",
       "      <td>3.845000</td>\n",
       "      <td>3.474000</td>\n",
       "      <td>3.040000</td>\n",
       "      <td>-0.434000</td>\n",
       "      <td>-0.371000</td>\n",
       "    </tr>\n",
       "    <tr>\n",
       "      <th>192</th>\n",
       "      <td>Portugal</td>\n",
       "      <td>PRT</td>\n",
       "      <td>11.066000</td>\n",
       "      <td>8.867000</td>\n",
       "      <td>6.993000</td>\n",
       "      <td>6.334000</td>\n",
       "      <td>5.933000</td>\n",
       "      <td>-0.401000</td>\n",
       "      <td>-0.659000</td>\n",
       "    </tr>\n",
       "    <tr>\n",
       "      <th>220</th>\n",
       "      <td>Slovenia</td>\n",
       "      <td>SVN</td>\n",
       "      <td>8.000000</td>\n",
       "      <td>6.564000</td>\n",
       "      <td>5.108000</td>\n",
       "      <td>4.195000</td>\n",
       "      <td>3.802000</td>\n",
       "      <td>-0.393000</td>\n",
       "      <td>-0.913000</td>\n",
       "    </tr>\n",
       "    <tr>\n",
       "      <th>8</th>\n",
       "      <td>Armenia</td>\n",
       "      <td>ARM</td>\n",
       "      <td>17.617001</td>\n",
       "      <td>17.705000</td>\n",
       "      <td>17.496000</td>\n",
       "      <td>16.990000</td>\n",
       "      <td>16.625000</td>\n",
       "      <td>-0.365000</td>\n",
       "      <td>-0.506001</td>\n",
       "    </tr>\n",
       "    <tr>\n",
       "      <th>66</th>\n",
       "      <td>Euro area</td>\n",
       "      <td>EMU</td>\n",
       "      <td>10.027404</td>\n",
       "      <td>9.060117</td>\n",
       "      <td>8.187862</td>\n",
       "      <td>7.496170</td>\n",
       "      <td>7.254748</td>\n",
       "      <td>-0.241422</td>\n",
       "      <td>-0.691692</td>\n",
       "    </tr>\n",
       "    <tr>\n",
       "      <th>236</th>\n",
       "      <td>Middle East &amp; North Africa (IDA &amp; IBRD countries)</td>\n",
       "      <td>TMN</td>\n",
       "      <td>11.754861</td>\n",
       "      <td>11.852149</td>\n",
       "      <td>11.749848</td>\n",
       "      <td>11.367945</td>\n",
       "      <td>11.134392</td>\n",
       "      <td>-0.233553</td>\n",
       "      <td>-0.381904</td>\n",
       "    </tr>\n",
       "  </tbody>\n",
       "</table>\n",
       "</div>"
      ],
      "text/plain": [
       "                                          Country Name Country Code  \\\n",
       "87                                              Greece          GRC   \n",
       "155                                    North Macedonia          MKD   \n",
       "68                                               Spain          ESP   \n",
       "65                                    Egypt, Arab Rep.          EGY   \n",
       "139                                            Lesotho          LSO   \n",
       "131                                          St. Lucia          LCA   \n",
       "242                                             Turkey          TUR   \n",
       "19                                            Bulgaria          BGR   \n",
       "219                                    Slovak Republic          SVK   \n",
       "188                                             Poland          POL   \n",
       "192                                           Portugal          PRT   \n",
       "220                                           Slovenia          SVN   \n",
       "8                                              Armenia          ARM   \n",
       "66                                           Euro area          EMU   \n",
       "236  Middle East & North Africa (IDA & IBRD countries)          TMN   \n",
       "\n",
       "          2016       2017       2018       2019       2020  2020-2019 change  \\\n",
       "87   23.539000  21.488001  19.292000  17.238001  15.474000         -1.764001   \n",
       "155  23.724001  22.381001  20.736000  17.759001  16.438999         -1.320002   \n",
       "68   19.635000  17.224001  15.255000  13.959000  13.015000         -0.943999   \n",
       "65   12.407000  11.737000  11.592000  10.760000  10.128000         -0.632000   \n",
       "139  24.299999  24.134001  23.971001  23.405001  22.830999         -0.574001   \n",
       "131  21.263000  21.069000  20.879000  20.705999  20.150000         -0.556000   \n",
       "242  10.839000  10.819000  10.890000  13.490000  12.941000         -0.549000   \n",
       "19    7.575000   6.164000   5.211000   4.340000   3.850000         -0.490000   \n",
       "219   9.670000   8.131000   6.536000   5.561000   5.104000         -0.457000   \n",
       "188   6.161000   4.887000   3.845000   3.474000   3.040000         -0.434000   \n",
       "192  11.066000   8.867000   6.993000   6.334000   5.933000         -0.401000   \n",
       "220   8.000000   6.564000   5.108000   4.195000   3.802000         -0.393000   \n",
       "8    17.617001  17.705000  17.496000  16.990000  16.625000         -0.365000   \n",
       "66   10.027404   9.060117   8.187862   7.496170   7.254748         -0.241422   \n",
       "236  11.754861  11.852149  11.749848  11.367945  11.134392         -0.233553   \n",
       "\n",
       "     2019-2018 change  \n",
       "87          -2.053999  \n",
       "155         -2.976999  \n",
       "68          -1.296000  \n",
       "65          -0.832000  \n",
       "139         -0.566000  \n",
       "131         -0.173000  \n",
       "242          2.599999  \n",
       "19          -0.871000  \n",
       "219         -0.975000  \n",
       "188         -0.371000  \n",
       "192         -0.659000  \n",
       "220         -0.913000  \n",
       "8           -0.506001  \n",
       "66          -0.691692  \n",
       "236         -0.381904  "
      ]
     },
     "execution_count": 95,
     "metadata": {},
     "output_type": "execute_result"
    }
   ],
   "source": [
    "#Testing a function to sort by the changes\n",
    "top15 = df.sort_values(by = '2020-2019 change', ascending=True).head(15)\n",
    "\n",
    "top15"
   ]
  },
  {
   "cell_type": "code",
   "execution_count": 96,
   "metadata": {},
   "outputs": [
    {
     "data": {
      "image/png": "[encoded data removed]",
      "text/plain": [
       "<Figure size 1800x1440 with 2 Axes>"
      ]
     },
     "metadata": {},
     "output_type": "display_data"
    }
   ],
   "source": [
    "# Create horizontal bar plots for best and worst performers in terms of changes in unemployment rates 2019-2020\n",
    "def top_successful_1(df,n=10,column='2020-2019 change'):\n",
    "    return df.sort_values(by=column,ascending=True).head(n)\n",
    "\n",
    "def top_failure_1(df,n=10,column='2020-2019 change'):\n",
    "    return df.sort_values(by=column,ascending=False).head(n)\n",
    "\n",
    "top15=top_successful_1(df,n=15)\n",
    "bottom15=top_failure_1(df,n=15)\n",
    "\n",
    "sns.set(font_scale=1.4) \n",
    "fig, axes = plt.subplots(1,2,figsize=(25, 20))\n",
    "colorspal = sns.color_palette('husl', len(top15['2020']))\n",
    "sns.barplot(top15['2020-2019 change'], top15['Country Name'], palette = colorspal,ax=axes[0])\n",
    "sns.barplot(bottom15['2020-2019 change'], bottom15['Country Name'], palette = colorspal,ax=axes[1])\n",
    "axes[0].set(xlabel='%age change in Unemployment Rates', title='Top 15 Performers in Controlling Unemployment between 2020-2019')\n",
    "axes[1].set(xlabel='%age change in Unemployment Rates', title='Bottom 15 Performers in Controlling Unemployment between 2020-2019')\n",
    "fig.savefig('output1.png')"
   ]
  },
  {
   "cell_type": "markdown",
   "metadata": {},
   "source": [
    "## Insights\n",
    "We can see from the plot that Greece, North Macedonia, and Spain have the most decrease in unemployment rates compared to other countries (-1.75%, -1.3%, & -0.9% respectively). They have somehow prevailed and it seems that Covid-19 did not affect them that much in terms of unemployment. This can be linked to their governments' initiatives in keeping their economies open and more relaxed lockdown measures.\n",
    "\n",
    "The 3 worst countries' unemployoment rates affected by Covid-19 are The Bahamas, Costa Rica, and Argentina (+0.9%. +0.85%, & +0.63% respectively). These 3 coutries are located in Latin America and share similar cultures amd dependecies to exports. Falling prices of commodities exports has been the culprit as it has reduced the countries' fiscal capacity to ameliorate the virus' impacts. The government choices of lockdowns and other measures may have affected the rates as well. \n",
    "\n",
    "\"The LAC region’s structural dependence on commodity exports, mainly originating from developed economies, has also reduced and severely impacted their recuperation cycle.\"\n",
    "https://www.orfonline.org/expert-speak/covid19-lofty-economic-recovery-latin-america/\n",
    "\n",
    "There are definitely other factors that may have caused this, but coronavirus remained as the number one reason. \n",
    "\n"
   ]
  }
 ],
 "metadata": {
  "kernelspec": {
   "display_name": "Python 3",
   "language": "python",
   "name": "python3"
  },
  "language_info": {
   "codemirror_mode": {
    "name": "ipython",
    "version": 3
   },
   "file_extension": ".py",
   "mimetype": "text/x-python",
   "name": "python",
   "nbconvert_exporter": "python",
   "pygments_lexer": "ipython3",
   "version": "3.7.6"
  }
 },
 "nbformat": 4,
 "nbformat_minor": 4
}
